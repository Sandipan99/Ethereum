{
 "cells": [
  {
   "cell_type": "code",
   "execution_count": 41,
   "metadata": {},
   "outputs": [],
   "source": [
    "from web3 import Web3, IPCProvider"
   ]
  },
  {
   "cell_type": "code",
   "execution_count": 43,
   "metadata": {},
   "outputs": [],
   "source": [
    "w3 = Web3(IPCProvider('/shakespeare/sandipan/Ethereum/.ethereum/geth.ipc'))"
   ]
  },
  {
   "cell_type": "code",
   "execution_count": 44,
   "metadata": {},
   "outputs": [
    {
     "data": {
      "text/plain": [
       "AttributeDict({'difficulty': 1428479091707262,\n",
       " 'extraData': HexBytes('0x7777772e62772e636f6d'),\n",
       " 'gasLimit': 6695894,\n",
       " 'gasUsed': 6678838,\n",
       " 'hash': HexBytes('0xdf59d721f42b5e907f249bdd7dfd85c2dbe466752a8ff3f4a8e7279144702fef'),\n",
       " 'logsBloom': HexBytes('0x00c8212100424044000300270010100a110800002010020141f384001038091c00000300100002008201054a1080040000083a210005100018e0800022900a05884a204180202400a2116028808080c4620484460104120020230004480200000440202c09000402200140600010082021202020080440000044d6500800002136401ec0050004000040040012500028868001020100207004010008040421600008e00000800000038012804081001008c08511001aa000080800c6801050094800040290042401082240104080c58106120325400a40102c0100011864110d00000004040a000128208022400020406004120400c2d4021128304800000a80'),\n",
       " 'miner': '0xbCDFC35b86BedF72F0Cda046A3c16829A2Ef41d1',\n",
       " 'mixHash': HexBytes('0x2c583c308ad0c4576c2b77216a0e8db2b51081c20a6dce6f5ec77da03cb7e2d0'),\n",
       " 'nonce': HexBytes('0x1fd98c2ab0b0a4ef'),\n",
       " 'number': 4487392,\n",
       " 'parentHash': HexBytes('0x0ddb87b1fc52be9d8ee3421d94cf0f277e1e4c7a8a548cc4961c3fd1fb3f6848'),\n",
       " 'receiptsRoot': HexBytes('0x6aab167c52fe4a66fd0b1dd80c449aac0975a5744fed674e4789cd1e0fec3fb8'),\n",
       " 'sha3Uncles': HexBytes('0x1dcc4de8dec75d7aab85b567b6ccd41ad312451b948a7413f0a142fd40d49347'),\n",
       " 'size': 27490,\n",
       " 'stateRoot': HexBytes('0xfe50af5bba8fb48cb90f87b269a0a151c87640bf5573736c6d58fd528b46e423'),\n",
       " 'timestamp': 1509780047,\n",
       " 'totalDifficulty': 1368860814872433994838,\n",
       " 'transactions': [HexBytes('0x03aa1536139bbf61c51ee7a51bc316cc534358e44e54403634f9d0226a87c3b8'),\n",
       "  HexBytes('0xd72f28d8ed47da0fa0f540eea8c1cfd618eab85276c0f39d7a8c47a08adf40cb'),\n",
       "  HexBytes('0x1d5faafd19926a77b6c33e9bd04b76f4a58c75a0d5239516de3a031d594353cb'),\n",
       "  HexBytes('0xd687d65104e45b6bc89d488dfec3f98b6543a1b9ce5f2110ca1be42e510066e2'),\n",
       "  HexBytes('0x29d2cb324759bfae925b935831b262231fb08f16a5b813f7d46750c9b2a02d45'),\n",
       "  HexBytes('0x9b897d2631322a3b58e5d60068bbc19678155c14679ed396aa7a4841915d9c70'),\n",
       "  HexBytes('0x15b4230d590fdd023d674124d0dacf0e9a8088f36a94c3a3655398935b4476ff'),\n",
       "  HexBytes('0x4e7e31a5f5db2578b73acabfc27fd33597d1fee169c25e2e25ceef716efb71f6'),\n",
       "  HexBytes('0xf7029824aeec7d5ef196b9b3c8fed4f70301f44b31ab525bcd6f35fc280531af'),\n",
       "  HexBytes('0xfabbabddb07150cb31ef7c477815b48177d679822f59712e014d79c2b5627994'),\n",
       "  HexBytes('0x39b27dfbde8a388bdd68d614f1e6439ba5ffdb25db6b097f2c0d51e2bf83da3a'),\n",
       "  HexBytes('0x0093dca86357cc89a19c4898fda29ebcc9b2fea871e5525f365a4edf20d70bad'),\n",
       "  HexBytes('0x6e6978a1c0f9f0d7c125aa77357c9c0e3ceea48462e24c16aa033711b9cb2ab0'),\n",
       "  HexBytes('0xa7c7c770cda9449c5680f135a4509343ee836dc0e96d2939b1a03ee77a689ebc'),\n",
       "  HexBytes('0x278ae8989e1b065252e682b6e72682c72c0c524f4240833753c9d6513c024390'),\n",
       "  HexBytes('0xe8d5c4ea85308239ffa9528edbd7de755204f3475bec51a43300a4a0682f9ddb'),\n",
       "  HexBytes('0x6f44845415ab03830b33ffc28f771f92cec949b36eca31294d669f149d1c044e'),\n",
       "  HexBytes('0x05e173f83c783c4f97cac30b6af056b31c89e46e33f54d2ed8702ad9d1795a03'),\n",
       "  HexBytes('0x59ddf90b3ca762f3bbf77cbf8a33df3636c91952fe8d11b8ba9bb970521151eb'),\n",
       "  HexBytes('0xfdcd8cc8dab48588ca45745ab5bd53b64179ce0df975ed05dbdbf02b4a01ad4d'),\n",
       "  HexBytes('0x8a0baeab4c24e5b6e75760ee5bc4f7ed1299a26dade51552b2bfb681f2ecdeeb'),\n",
       "  HexBytes('0x8f9d88db46d557fab379a66a044efa18a1cd1b5059d852c0f35de2fc1b5a8d35'),\n",
       "  HexBytes('0xfdb1b3e6e5222c3675eb0d34cd65fb14061bf5feaf59e24cf620d8ba39614d3c'),\n",
       "  HexBytes('0x88a2f58dd38cd27033fd363df52ffa39c752125999939c47a6c64ce98748822f'),\n",
       "  HexBytes('0x35a52c7a5bbd358d6bbf4e130f3ab67a0b30e1ce50c092be47643d7c0fab11e9'),\n",
       "  HexBytes('0xef86a98c4a88c19717353be3662bad69507d8d8af0f4be67ad48b8abcd69266b'),\n",
       "  HexBytes('0x07574be6b87100606d6e4d7be897b36b2a44352bf93b9bedf75a93eeb6ca531c'),\n",
       "  HexBytes('0xb1b3e3fdc1e153507979337ada366b1e3dcad3fcccea9b914649ceb42465f6f3'),\n",
       "  HexBytes('0x619d6270abb09a57b6831475882e15764be0d301a10d36e4970c71c17aafa2c7'),\n",
       "  HexBytes('0x7129026824f36fa7d428f9640a270384d544b346546988822dd94f50f602c8aa'),\n",
       "  HexBytes('0xdfdaccd029b0b315f8ebcb5a5f651eb0b80c45fbc91332c8248ce6aa8afeccf1'),\n",
       "  HexBytes('0x69f9d5801c711b7a871680149d289f225a4bef30257ae859109dd292e74206ee'),\n",
       "  HexBytes('0x93fa8a35bdab443bf6b29ef6fc7cf41991da4f753630385407182c8485a0c26b'),\n",
       "  HexBytes('0xed9d49a30395f3c8cbfe4513aa192dc2f529c0f9abd49eaa7d3e69289f3a918f'),\n",
       "  HexBytes('0x812795419082f135e161c75e097d718b42c6ec36e4872322697d876c5cff640e'),\n",
       "  HexBytes('0x30071b0242f9fc99dc8977d1f5b4c2f8f21a2143a486151a47e85b9e8d3d1d5e'),\n",
       "  HexBytes('0xab37f6c9e65766a47f9e9e8a601d5fd23c07c49d8774cd2811771894e5df2dac'),\n",
       "  HexBytes('0x72e24b62a0d86ee893e3eb25195b5fedaf8d2662bbae5195566a56024c2da9a6'),\n",
       "  HexBytes('0x7ff82be0beb8f6e517f574b8b6acff1322c8d15940ca67388b7b89e1ff73e985'),\n",
       "  HexBytes('0xd8e6b227e93a8325f489e7948d6f70e91375b54019247bdfd9a9a70a57c553be'),\n",
       "  HexBytes('0x3ffa49fc808e0bc20ce1c3908b4162c4fe7a6a2780a51e4b2f39a13f48937617'),\n",
       "  HexBytes('0xa0f2dbaa7d66071a70511b6c7d9ada200a60515de376e181846a36da10c9d91a'),\n",
       "  HexBytes('0x1acd10c422b5aeb7d2525b7d1fb5ba41deeebfc51ddcd957770308aac328a065'),\n",
       "  HexBytes('0xec8ff1d9f6ce11623502c34bc81caf310cbbdbd749c056f0666a343f86c667a0'),\n",
       "  HexBytes('0x8132cdcd8d6a268d269e35457bc330026dec69a79db03effca13476671331d19'),\n",
       "  HexBytes('0xdfb53dcfaeb34ea9420a3b3065d70e4e362c9b466e59be80fec2dcc9b0b41ae5'),\n",
       "  HexBytes('0xf3c17b3037603ececb0f7f58837846ffe6ba6079f740b882771ef5741b8779c3'),\n",
       "  HexBytes('0x4d80937d013ce8b6f960fd0c16506a2166ea714905319cb0867f3b61aaa28598'),\n",
       "  HexBytes('0x2b43f93c09b7c64dabd2831d2522bf93d3a76306b0564ea7ebaa69abd61ae2fd'),\n",
       "  HexBytes('0x82cf4a876e89684918f74b41bd97617e4829ec65f79f462741bf5772eb557941'),\n",
       "  HexBytes('0x8b48f332ef0f4715f1a39a3156fcbb0e1b8f1d02a00ce02da92a803989004232'),\n",
       "  HexBytes('0x2afa1a04c25cd224b4e38159e5cc0350fbbaa3c05ecee3ca8b6fa27dc1130c56'),\n",
       "  HexBytes('0x66a287e1256b6b2000c5a936ca1702c4d9e30dfb76bb4700e965b0b91c4002d0'),\n",
       "  HexBytes('0xdb3aa02a49ab70573daa7902d6b6005b878f00a522c9f2833eb318a41cd4ac92'),\n",
       "  HexBytes('0x8d3b0cc2fa15973909b7e08a0594aad8c360f8f7c4d4c4fc7d922c7c0c77de2c'),\n",
       "  HexBytes('0x2e95b409ea3cf9af4a2a0e4a2f61a3478439268ae025a782a08e61ddc1e92f9f'),\n",
       "  HexBytes('0xacbcaac2305e809bc232e82af78bdae0fc499423cdcec257a6955fcfbbd5c41c'),\n",
       "  HexBytes('0x628691d832038842ade990fc24ea5a07ecee3df788d60581b6b5ff85f0877de5'),\n",
       "  HexBytes('0x76783338e0c640c6773450c13c9bfb52876ec877e3263e498a35a88822877534'),\n",
       "  HexBytes('0x9c04e1df2b5f106e4d6683139ed907faa1fe19b095b9cc0e56e0279ec3bf602a'),\n",
       "  HexBytes('0xd1444ed2e7c3068134026817c55dc3086530032a90b2018e0a03feaff91851ae'),\n",
       "  HexBytes('0x73a4ceda82b871da9e307d6e1fa85d23ae21940bbaa072478abd12af5d4d7e7e'),\n",
       "  HexBytes('0x278d5c5283eece690fad1f59fb7b16d480f8f7db25a0043e76885308b1dde239'),\n",
       "  HexBytes('0x849d06544070887d9383d6326cf7b63e2a1b75e2e1c64922203de75e541ff8ed'),\n",
       "  HexBytes('0x9f9e5cda6f891cfceb43095749936b8087121ccd4633805ecff48750691d4673'),\n",
       "  HexBytes('0x752bd92ed2f7730fe426688c3471d55e6f89df958b37cbecd7a55341cd1aba32'),\n",
       "  HexBytes('0x70261c199e7afff1038a280c402089cebf37d036d9c520555dbc4c2dbf6ffbfd'),\n",
       "  HexBytes('0x839df8a043a9b45901338080791212d9bce82bf52e9eb46c6cfa43be7fa7418b'),\n",
       "  HexBytes('0x48be85579984f17186fb84a9cc8cba1ca30e2c0ed673c952cec9c09efb52d435'),\n",
       "  HexBytes('0x89e53cc7cff5c0f0518265fdf3d305de50fb2c13122f4569882b397a857b3768'),\n",
       "  HexBytes('0x2becac36453d044e7144574f8cf0ee757145a166b25c8b2d7b09eacc648fcb24'),\n",
       "  HexBytes('0x5736f1dee10d538278655d2e240198ca7c5df97ef65be4aeeb94c0819a589bfd'),\n",
       "  HexBytes('0x26c8fc158d5dd54bcb55d86e2c1b203796a3f84e69556d669a40b7e8ec36cbf1'),\n",
       "  HexBytes('0xb2bf98b0db3352c87dd2fa3ae759b45c033512e0935e4cd7afa5314074681cfe'),\n",
       "  HexBytes('0x2098437b45d4afc08fb68ba8a39e4caf505a53fb2653397e376891f962e4b41a'),\n",
       "  HexBytes('0xbf3aa2a1206a39ffbbc7698f838e3ba1af94da8e2c434e32a1aa8092166ae932'),\n",
       "  HexBytes('0x71382c044d6d9b6574d90a4e9c0535d2baa94b9fb96b93183eeca9a6f1486b93'),\n",
       "  HexBytes('0x55ca3d928889a70764f2d398e6a3bde59f9af224343cc912b55a2ec8fa1ac3e7'),\n",
       "  HexBytes('0xe2bfd5a2b834e84b10af21dba4d3bd6d6b3beea055ebbc0d9cf6f702d2ec4ec8'),\n",
       "  HexBytes('0x2d5bb5db99964add8a3bfad5af63cc0f1b8a412becd7650cb77b284a4c3b5b99'),\n",
       "  HexBytes('0x71490febc41ec40216a252c7b4ba9b0dfdcc949c503ff77d5314f67a81633294'),\n",
       "  HexBytes('0x1c62dd597c020b3faae0f1a150c2e67d3a18125036836b6734941b5cf99a681c'),\n",
       "  HexBytes('0xa423d38b1ee2d40517f1f2235cd90bc365d75fbdfd4af5ac403c25763ca6eb4a'),\n",
       "  HexBytes('0x8682568225f6eb4f4797db53d92549839a61982e3ff49e78fb1dc9a0bd8ea59b'),\n",
       "  HexBytes('0xe40c831ac1dd30beda16c6572204c3297e9eeceaad2e4eecbe14de5445a38952'),\n",
       "  HexBytes('0x8918be8cc54efbd89971ae653c5d505caa1c0f439c853cc3ad33ad4605103c63'),\n",
       "  HexBytes('0x43d4fb314eeb473b753cf7673063b37bc3c2d450753078b7cfa2ccd833eea8ef'),\n",
       "  HexBytes('0xfbb72d6e72422981964fa6f9fe6c5c3b3dcd6a65436e0ea50f8b058f032174c6'),\n",
       "  HexBytes('0x017759ba84ec58c82b7df412722832909af6d4ad39be10351cb5845e1ac9d8a2'),\n",
       "  HexBytes('0x6b064a629f656886a38cc538915725608fc8d990ee0e2a5c46a2569f5c49d0b6'),\n",
       "  HexBytes('0x0d8bca7acfb6ed6142d15f158358e02eb59ac8792c757cd03511ead2856a59b0'),\n",
       "  HexBytes('0xb74c0056e6d39cefd77da08565c94decedf9f309dd02f101e9464d55293d8d04'),\n",
       "  HexBytes('0xc34b7d03ad4549371d8ca70c09608e611976b248a8ae7e6a4e1b41ad035ec388'),\n",
       "  HexBytes('0xf932181c01071aa9f42ff73df41d95e33a07f49142771c355305b530d6c203bc'),\n",
       "  HexBytes('0xc598ee2dff18cd67d466c6fc0d117de4beb115918c7d42b9ffd698138fa0eb7c'),\n",
       "  HexBytes('0xccb24ef4809bb50ade95d235ec729374ed51fb62915aa43409b9d167adf4b4f5'),\n",
       "  HexBytes('0x3a476e510bacec3f71d6eed4f0240e60b0584c456a6a6fec9784508fb60376fd'),\n",
       "  HexBytes('0x5efd69a4d02ed7437b3b30ede9ae43be111e4fa5d30d23a7726d8a33cb1fa2dc'),\n",
       "  HexBytes('0x57404930fdf090ce91da5db1fbe24b07bf5cb4487a5acf44b22f1ddd9cab4531'),\n",
       "  HexBytes('0xe87cd3bd304c35a56d40dabf964ca289c5bc6687b3b0c325a74e909d9494002c'),\n",
       "  HexBytes('0xec9d7db377f8cf974a98533c6ac593593f99f9a037abdb79f0c7eb092d7e3105'),\n",
       "  HexBytes('0xbce83a71abc66efc4ef662e43c05ac0ab8a3ee3853e31386759ad13cb6a4df2e'),\n",
       "  HexBytes('0x2e0c13f02eb5832987e19a08924242de243aed9c5666fa925ba5c60dd18718d6'),\n",
       "  HexBytes('0x81009ff1a2499e4fe4360c9cc580d260f246dc53c0e5ddc056fe6194ac817bbd'),\n",
       "  HexBytes('0x25e141c9c705f8864029f164e782e3986b708ae056dc70d299071539b67c07f3'),\n",
       "  HexBytes('0x77a63652fae193a451f2c6784494df7970f95f5c31487fb2c8e42ecf32e20640'),\n",
       "  HexBytes('0xf830ea311de4e1ae4e3f988fa4624fb5bb8efb058ca1c7da53c99b87b5308cc3'),\n",
       "  HexBytes('0xbb5c6133455fa9fc6607a5c0a89d3ceac013abb33c9293c8b3737770545ee0fd'),\n",
       "  HexBytes('0x10fd6cb650c7646335ee01d51133b579a172ba225eadf3be9df666ffa2c5de04'),\n",
       "  HexBytes('0xa51154f8ccd6606bb475b592ecee7e799459f3d590682c859bbd80110234e19d'),\n",
       "  HexBytes('0xfbae21aa7abd49b33f63e84ef1e7cb8990c526a04cf8166b09d8d55c118c3270'),\n",
       "  HexBytes('0xe87bfded7c86560c3aa3b0a0811260648ef7a5b50f764e784bca3d3db654e023'),\n",
       "  HexBytes('0xf275ee06561eef32e77d6d06336866cc76ed3fda049b9d0824b3e58e5ef8dd3c'),\n",
       "  HexBytes('0xc8034beeee4d362d44b55f02edda9dd362745c85bdf5b4dfc92b71f9efb351db'),\n",
       "  HexBytes('0x9fee236b6c360010591304f6420a2d5aaef6d6e454062da1262a591e2d8920e2'),\n",
       "  HexBytes('0xfae373f40ecd3c6bd35900581b3dabf9d419ce22ca274e85fb57f11c124c3136'),\n",
       "  HexBytes('0x15e51f690f275b9476e7f8543273b57b33fb1774be7f13974db557e697211dab'),\n",
       "  HexBytes('0xf0e75f31936951600bc27dce7f2fc196df0b665db005c62d33daa324a2b6530e'),\n",
       "  HexBytes('0xa081bf7aa21517248af0c0d809e579dc540f4d14ae11c7d66787f8637520999d'),\n",
       "  HexBytes('0x890762dec7786bef2d0f15935e8db37d59d0f66c0d5c0d7e057cac033b47b552'),\n",
       "  HexBytes('0x656729ef11f5eeb32a6d3b97f88de3af9b43a36c007f053caecf36227b3c6c20'),\n",
       "  HexBytes('0x456f2c335085aab4beaa453397d278af6a700c71f62e2bc2c5866c515c5f6f00'),\n",
       "  HexBytes('0x114aa751b621d3f86542c1354b4bf4ba043a54ad42a61486a7990143ea14af79'),\n",
       "  HexBytes('0xb1e5529e40fa1d952c10c9eb80216f7885aca8a6b0a3dcc5d73f4eef1fc11864'),\n",
       "  HexBytes('0x5048d633d581043ea9727bdc869dea167ae11949784c573cc24a42fc6cbb0f4b'),\n",
       "  HexBytes('0xfdff57a394f02d73bdac1fb6b8604523f412c8e830e64ee215a8951817576b79'),\n",
       "  HexBytes('0x04a3f0469659a734181cfe78fe5c3916afe4b7d5d04fcbc0e96d3fb749223a20'),\n",
       "  HexBytes('0x6c390e1f965d35d5f44545b3e03ddc7c1126e89000f6f3c3c479715ef8aaade7'),\n",
       "  HexBytes('0x56b74b6fb7f4162fe1166ab6c2c924bdcc32de08a66001186e54d114379747b6'),\n",
       "  HexBytes('0x07c0ef417c901dcb716488c656db16d131307013a937d05cce9e23e4f94c26b6'),\n",
       "  HexBytes('0x99f4bbcaad8400b7e6e61f5d50d3a2ea0b4f0293935cd1d9097029eb3ff6c799'),\n",
       "  HexBytes('0xf07d3623ff469ae892358d2c35b3ae0be2b4d26bd49ac8c354216a0cc1817206'),\n",
       "  HexBytes('0x1df93042b42f17c6399378081940c38b1ea207ca3cf3c07a356fa3a7d007e733'),\n",
       "  HexBytes('0x93277246c770a994ec4a3aa8c308a9d00b257fe979666813b555b95ee1782f93'),\n",
       "  HexBytes('0x04761a69347e73902c7143060853c2adcdab92bb3cf9217e33086c4381c8e226'),\n",
       "  HexBytes('0x7563ee83277845baede3169312ddea188809e8907ecef00507c40e2998acd140'),\n",
       "  HexBytes('0xb7463f897466caf6a7bc29682af8b383b01515f885f802715a52b941d147ec97'),\n",
       "  HexBytes('0xddabfe9c41bdc4fe6d90cfe6cd537011dbf2306e706b18786afb4d64813e8440'),\n",
       "  HexBytes('0x4b409ae3f98ba43a31a980e2fe140584bd187daf1c09b4e7a9b5b2e9e2d972df'),\n",
       "  HexBytes('0x8de95267fe2451792884f9e4ec555b3f4f9c1c5276e8b2fb067b176564e74ed3'),\n",
       "  HexBytes('0xb83a5b5e1127fb145358bcd0ffbb4bc5afc3f7a91d4631cc08492929e3bdc221'),\n",
       "  HexBytes('0xda681acf3439b39cce2884099b298b3491f9ef5304db3f5c7d915b328708da57'),\n",
       "  HexBytes('0xc17ff0cf97ef6a5682b7e53a6bf5b7dc27f063b2b3f7992fdafcb4166b9c23d3'),\n",
       "  HexBytes('0x3490c1b58d731d94edc568b0c7dcc34744b612374baef4d660b55e6629f39e42'),\n",
       "  HexBytes('0xbec750f4cd17c7cbb7e52ee903b5caa5cbb13e83b8349b2c18a2f77c8a5e38ad'),\n",
       "  HexBytes('0x92c991e2bad19b13c9365d8e126ef0f5d4b1fd5e9d940a20e8456219fb59f157'),\n",
       "  HexBytes('0xbc6c0c526f708b68c15412ca49b4e9cbd521392a4f01e20dca003a129541bf56'),\n",
       "  HexBytes('0xafb439ff38eba93b70f4085dbde576e5c3706a972d74e00749accbc129c505c9'),\n",
       "  HexBytes('0xd27a204359d2b53c46669eb6247c0b4420da856297f7c699496378a6e17fc100')],\n",
       " 'transactionsRoot': HexBytes('0x2abe569e969b39436d3d046d1ae6831fff254e341f261e07e5992e9f859c4544'),\n",
       " 'uncles': []})"
      ]
     },
     "execution_count": 44,
     "metadata": {},
     "output_type": "execute_result"
    }
   ],
   "source": [
    "w3.eth.getBlock('latest')"
   ]
  },
  {
   "cell_type": "code",
   "execution_count": 1,
   "metadata": {},
   "outputs": [],
   "source": [
    "import pandas as pd"
   ]
  },
  {
   "cell_type": "code",
   "execution_count": 2,
   "metadata": {},
   "outputs": [],
   "source": [
    "df = pd.read_csv('transaction_till_100000.csv')"
   ]
  },
  {
   "cell_type": "code",
   "execution_count": 3,
   "metadata": {},
   "outputs": [
    {
     "data": {
      "text/html": [
       "<div>\n",
       "<style scoped>\n",
       "    .dataframe tbody tr th:only-of-type {\n",
       "        vertical-align: middle;\n",
       "    }\n",
       "\n",
       "    .dataframe tbody tr th {\n",
       "        vertical-align: top;\n",
       "    }\n",
       "\n",
       "    .dataframe thead th {\n",
       "        text-align: right;\n",
       "    }\n",
       "</style>\n",
       "<table border=\"1\" class=\"dataframe\">\n",
       "  <thead>\n",
       "    <tr style=\"text-align: right;\">\n",
       "      <th></th>\n",
       "      <th>From</th>\n",
       "      <th>To</th>\n",
       "      <th>Value</th>\n",
       "      <th>Time</th>\n",
       "      <th>Block</th>\n",
       "    </tr>\n",
       "  </thead>\n",
       "  <tbody>\n",
       "    <tr>\n",
       "      <th>0</th>\n",
       "      <td>ethereum</td>\n",
       "      <td>0</td>\n",
       "      <td>5.000000e+18</td>\n",
       "      <td>0</td>\n",
       "      <td>0</td>\n",
       "    </tr>\n",
       "    <tr>\n",
       "      <th>1</th>\n",
       "      <td>ethereum</td>\n",
       "      <td>05a56e2d52c817161883f50c441c3228cfe54d9f</td>\n",
       "      <td>5.000000e+18</td>\n",
       "      <td>1438269988</td>\n",
       "      <td>1</td>\n",
       "    </tr>\n",
       "    <tr>\n",
       "      <th>2</th>\n",
       "      <td>ethereum</td>\n",
       "      <td>0193d941b50d91be6567c7ee1c0fe7af498b4137</td>\n",
       "      <td>5.000000e+18</td>\n",
       "      <td>1438270128</td>\n",
       "      <td>10</td>\n",
       "    </tr>\n",
       "    <tr>\n",
       "      <th>3</th>\n",
       "      <td>ethereum</td>\n",
       "      <td>e6a7a1d47ff21b6321162aea7c6cb457d5476bca</td>\n",
       "      <td>5.000000e+18</td>\n",
       "      <td>1439799138</td>\n",
       "      <td>100000</td>\n",
       "    </tr>\n",
       "    <tr>\n",
       "      <th>4</th>\n",
       "      <td>ethereum</td>\n",
       "      <td>9beb4d346c6309a9ce4f27393c6322c8f03a3be6</td>\n",
       "      <td>5.000000e+18</td>\n",
       "      <td>1438336146</td>\n",
       "      <td>10099</td>\n",
       "    </tr>\n",
       "  </tbody>\n",
       "</table>\n",
       "</div>"
      ],
      "text/plain": [
       "       From                                        To         Value  \\\n",
       "0  ethereum                                         0  5.000000e+18   \n",
       "1  ethereum  05a56e2d52c817161883f50c441c3228cfe54d9f  5.000000e+18   \n",
       "2  ethereum  0193d941b50d91be6567c7ee1c0fe7af498b4137  5.000000e+18   \n",
       "3  ethereum  e6a7a1d47ff21b6321162aea7c6cb457d5476bca  5.000000e+18   \n",
       "4  ethereum  9beb4d346c6309a9ce4f27393c6322c8f03a3be6  5.000000e+18   \n",
       "\n",
       "         Time   Block  \n",
       "0           0       0  \n",
       "1  1438269988       1  \n",
       "2  1438270128      10  \n",
       "3  1439799138  100000  \n",
       "4  1438336146   10099  "
      ]
     },
     "execution_count": 3,
     "metadata": {},
     "output_type": "execute_result"
    }
   ],
   "source": [
    "df.head()"
   ]
  },
  {
   "cell_type": "code",
   "execution_count": 17,
   "metadata": {},
   "outputs": [],
   "source": [
    "add = df.From.unique()[1]\n"
   ]
  },
  {
   "cell_type": "code",
   "execution_count": 20,
   "metadata": {},
   "outputs": [],
   "source": [
    "add = Web3.toChecksumAddress(add)"
   ]
  },
  {
   "cell_type": "code",
   "execution_count": 22,
   "metadata": {},
   "outputs": [
    {
     "data": {
      "text/plain": [
       "140000000000000000000"
      ]
     },
     "execution_count": 22,
     "metadata": {},
     "output_type": "execute_result"
    }
   ],
   "source": [
    "w3.eth.getBalance(add,100)"
   ]
  },
  {
   "cell_type": "code",
   "execution_count": 26,
   "metadata": {},
   "outputs": [],
   "source": [
    "df_b = df[df['Block']==1000][['From','To']]\n",
    "    "
   ]
  },
  {
   "cell_type": "code",
   "execution_count": 34,
   "metadata": {},
   "outputs": [],
   "source": [
    "import numpy as np"
   ]
  },
  {
   "cell_type": "code",
   "execution_count": 35,
   "metadata": {},
   "outputs": [
    {
     "ename": "TypeError",
     "evalue": "only integer scalar arrays can be converted to a scalar index",
     "output_type": "error",
     "traceback": [
      "\u001b[0;31m---------------------------------------------------------------------------\u001b[0m",
      "\u001b[0;31mTypeError\u001b[0m                                 Traceback (most recent call last)",
      "\u001b[0;32m<ipython-input-35-14a31ba27104>\u001b[0m in \u001b[0;36m<module>\u001b[0;34m()\u001b[0m\n\u001b[0;32m----> 1\u001b[0;31m \u001b[0mnp\u001b[0m\u001b[0;34m.\u001b[0m\u001b[0mconcatenate\u001b[0m\u001b[0;34m(\u001b[0m\u001b[0mdf_b\u001b[0m\u001b[0;34m.\u001b[0m\u001b[0mFrom\u001b[0m\u001b[0;34m.\u001b[0m\u001b[0munique\u001b[0m\u001b[0;34m(\u001b[0m\u001b[0;34m)\u001b[0m\u001b[0;34m,\u001b[0m\u001b[0mdf_b\u001b[0m\u001b[0;34m.\u001b[0m\u001b[0mTo\u001b[0m\u001b[0;34m.\u001b[0m\u001b[0munique\u001b[0m\u001b[0;34m(\u001b[0m\u001b[0;34m)\u001b[0m\u001b[0;34m)\u001b[0m\u001b[0;34m\u001b[0m\u001b[0m\n\u001b[0m",
      "\u001b[0;31mTypeError\u001b[0m: only integer scalar arrays can be converted to a scalar index"
     ]
    }
   ],
   "source": [
    "np.concatenate(df_b.From.unique(),df_b.To.unique())"
   ]
  },
  {
   "cell_type": "code",
   "execution_count": 38,
   "metadata": {},
   "outputs": [],
   "source": [
    "address = np.append(df_b.From.unique(),df_b.To.unique())"
   ]
  },
  {
   "cell_type": "code",
   "execution_count": 41,
   "metadata": {},
   "outputs": [
    {
     "name": "stdout",
     "output_type": "stream",
     "text": [
      "bb7b8287f3f0a933474a79eae42cbca977791171 151250000000000000000\n"
     ]
    }
   ],
   "source": [
    "blockNum = 100\n",
    "for i in range(len(address)):\n",
    "    if address[i]!='ethereum':\n",
    "        account = Web3.toChecksumAddress(address[i])\n",
    "        balance = w3.eth.getBalance(account,blockNum)\n",
    "        print(address[i],balance)"
   ]
  },
  {
   "cell_type": "code",
   "execution_count": 81,
   "metadata": {},
   "outputs": [],
   "source": [
    "def fillBalanceTable(blockNum,fname):\n",
    "    df_b = df[df['Block']==blockNum][['From','To']]\n",
    "    address = np.append(df_b.From.unique(),df_b.To.unique())\n",
    "    #with open(fname,'a') as ft:\n",
    "    for i in range(len(address)):\n",
    "        if address[i]!='ethereum' and address[i]!='0':\n",
    "            account = Web3.toChecksumAddress(address[i])\n",
    "            balance = w3.eth.getBalance(account,blockNum)\n",
    "            ft = open(fname,'a')\n",
    "            ft.write(account+','+str(balance)+','+str(blockNum))\n",
    "            ft.write('\\n')\n",
    "            ft.close()"
   ]
  },
  {
   "cell_type": "code",
   "execution_count": 49,
   "metadata": {},
   "outputs": [
    {
     "name": "stdout",
     "output_type": "stream",
     "text": [
      "bf71642d7cbae8faf1cfdc6c1c48fcb45b15ed22 147343750000000000000\n"
     ]
    }
   ],
   "source": [
    "fillBalanceTable(10000)"
   ]
  },
  {
   "cell_type": "code",
   "execution_count": 47,
   "metadata": {},
   "outputs": [
    {
     "data": {
      "text/html": [
       "<div>\n",
       "<style scoped>\n",
       "    .dataframe tbody tr th:only-of-type {\n",
       "        vertical-align: middle;\n",
       "    }\n",
       "\n",
       "    .dataframe tbody tr th {\n",
       "        vertical-align: top;\n",
       "    }\n",
       "\n",
       "    .dataframe thead th {\n",
       "        text-align: right;\n",
       "    }\n",
       "</style>\n",
       "<table border=\"1\" class=\"dataframe\">\n",
       "  <thead>\n",
       "    <tr style=\"text-align: right;\">\n",
       "      <th></th>\n",
       "      <th>From</th>\n",
       "      <th>To</th>\n",
       "      <th>Value</th>\n",
       "      <th>Time</th>\n",
       "      <th>Block</th>\n",
       "    </tr>\n",
       "  </thead>\n",
       "  <tbody>\n",
       "    <tr>\n",
       "      <th>103</th>\n",
       "      <td>ethereum</td>\n",
       "      <td>bf71642d7cbae8faf1cfdc6c1c48fcb45b15ed22</td>\n",
       "      <td>5.000000e+18</td>\n",
       "      <td>1438334627</td>\n",
       "      <td>10000</td>\n",
       "    </tr>\n",
       "  </tbody>\n",
       "</table>\n",
       "</div>"
      ],
      "text/plain": [
       "         From                                        To         Value  \\\n",
       "103  ethereum  bf71642d7cbae8faf1cfdc6c1c48fcb45b15ed22  5.000000e+18   \n",
       "\n",
       "           Time  Block  \n",
       "103  1438334627  10000  "
      ]
     },
     "execution_count": 47,
     "metadata": {},
     "output_type": "execute_result"
    }
   ],
   "source": [
    "df[df.Block==10000]"
   ]
  },
  {
   "cell_type": "code",
   "execution_count": 74,
   "metadata": {},
   "outputs": [],
   "source": [
    "fs = open('blockAccountBalance1.csv','w')\n",
    "fs.write('Account,Balance,Block\\n')\n",
    "fs.close()"
   ]
  },
  {
   "cell_type": "code",
   "execution_count": 57,
   "metadata": {},
   "outputs": [],
   "source": [
    "for i in range(1,1000):\n",
    "    fillBalanceTable(i,'blockAccountBalance.csv')"
   ]
  },
  {
   "cell_type": "code",
   "execution_count": 62,
   "metadata": {},
   "outputs": [],
   "source": [
    "df_1 = pd.read_csv('blockAccountBalance.csv')"
   ]
  },
  {
   "cell_type": "code",
   "execution_count": 63,
   "metadata": {},
   "outputs": [
    {
     "data": {
      "text/html": [
       "<div>\n",
       "<style scoped>\n",
       "    .dataframe tbody tr th:only-of-type {\n",
       "        vertical-align: middle;\n",
       "    }\n",
       "\n",
       "    .dataframe tbody tr th {\n",
       "        vertical-align: top;\n",
       "    }\n",
       "\n",
       "    .dataframe thead th {\n",
       "        text-align: right;\n",
       "    }\n",
       "</style>\n",
       "<table border=\"1\" class=\"dataframe\">\n",
       "  <thead>\n",
       "    <tr style=\"text-align: right;\">\n",
       "      <th></th>\n",
       "      <th>Account</th>\n",
       "      <th>Balance</th>\n",
       "      <th>Block</th>\n",
       "    </tr>\n",
       "  </thead>\n",
       "  <tbody>\n",
       "    <tr>\n",
       "      <th>0</th>\n",
       "      <td>0x05a56E2D52c817161883f50c441c3228CFe54d9f</td>\n",
       "      <td>5000000000000000000</td>\n",
       "      <td>1</td>\n",
       "    </tr>\n",
       "    <tr>\n",
       "      <th>1</th>\n",
       "      <td>0xdd2F1e6e498202e86D8f5442Af596580A4f03c2C</td>\n",
       "      <td>5000000000000000000</td>\n",
       "      <td>2</td>\n",
       "    </tr>\n",
       "    <tr>\n",
       "      <th>2</th>\n",
       "      <td>0x5088D623ba0fcf0131E0897a91734A4D83596AA0</td>\n",
       "      <td>5156250000000000000</td>\n",
       "      <td>3</td>\n",
       "    </tr>\n",
       "    <tr>\n",
       "      <th>3</th>\n",
       "      <td>0xc8ebccC5F5689Fa8659d83713341e5aD19349448</td>\n",
       "      <td>3750000000000000000</td>\n",
       "      <td>3</td>\n",
       "    </tr>\n",
       "    <tr>\n",
       "      <th>4</th>\n",
       "      <td>0xc8ebccC5F5689Fa8659d83713341e5aD19349448</td>\n",
       "      <td>8906250000000000000</td>\n",
       "      <td>4</td>\n",
       "    </tr>\n",
       "  </tbody>\n",
       "</table>\n",
       "</div>"
      ],
      "text/plain": [
       "                                      Account              Balance  Block\n",
       "0  0x05a56E2D52c817161883f50c441c3228CFe54d9f  5000000000000000000      1\n",
       "1  0xdd2F1e6e498202e86D8f5442Af596580A4f03c2C  5000000000000000000      2\n",
       "2  0x5088D623ba0fcf0131E0897a91734A4D83596AA0  5156250000000000000      3\n",
       "3  0xc8ebccC5F5689Fa8659d83713341e5aD19349448  3750000000000000000      3\n",
       "4  0xc8ebccC5F5689Fa8659d83713341e5aD19349448  8906250000000000000      4"
      ]
     },
     "execution_count": 63,
     "metadata": {},
     "output_type": "execute_result"
    }
   ],
   "source": [
    "df_1.head()"
   ]
  },
  {
   "cell_type": "code",
   "execution_count": 64,
   "metadata": {},
   "outputs": [
    {
     "data": {
      "text/plain": [
       "5000"
      ]
     },
     "execution_count": 64,
     "metadata": {},
     "output_type": "execute_result"
    }
   ],
   "source": [
    "df_1.Block.max()"
   ]
  },
  {
   "cell_type": "code",
   "execution_count": 61,
   "metadata": {},
   "outputs": [],
   "source": [
    "for i in range(1000,5001):\n",
    "    fillBalanceTable(i,'blockAccountBalance.csv')"
   ]
  },
  {
   "cell_type": "code",
   "execution_count": 82,
   "metadata": {},
   "outputs": [],
   "source": [
    "def createBalanceCSV(start,end,fname):\n",
    "    for i in range(start,end+1):\n",
    "        fillBalanceTable(i,fname)\n",
    "        print('finished for block: ',i)"
   ]
  },
  {
   "cell_type": "code",
   "execution_count": 67,
   "metadata": {},
   "outputs": [],
   "source": [
    "from multiprocessing import Process"
   ]
  },
  {
   "cell_type": "code",
   "execution_count": 77,
   "metadata": {},
   "outputs": [],
   "source": [
    "jobs = []"
   ]
  },
  {
   "cell_type": "code",
   "execution_count": 83,
   "metadata": {},
   "outputs": [],
   "source": [
    "jobs.append(Process(target=createBalanceCSV, args=(5305,7500,\"blockAccountBalance.csv\")))\n",
    "jobs.append(Process(target=createBalanceCSV, args=(7501,10000,\"blockAccountBalance.csv\")))\n",
    "jobs.append(Process(target=createBalanceCSV, args=(10001,12500,\"blockAccountBalance.csv\")))\n",
    "jobs.append(Process(target=createBalanceCSV, args=(12501,15000,\"blockAccountBalance.csv\")))"
   ]
  },
  {
   "cell_type": "code",
   "execution_count": 84,
   "metadata": {},
   "outputs": [
    {
     "ename": "AssertionError",
     "evalue": "cannot start a process twice",
     "output_type": "error",
     "traceback": [
      "\u001b[0;31m---------------------------------------------------------------------------\u001b[0m",
      "\u001b[0;31mAssertionError\u001b[0m                            Traceback (most recent call last)",
      "\u001b[0;32m<ipython-input-84-1a14b5963c34>\u001b[0m in \u001b[0;36m<module>\u001b[0;34m()\u001b[0m\n\u001b[1;32m      1\u001b[0m \u001b[0;32mfor\u001b[0m \u001b[0mj\u001b[0m \u001b[0;32min\u001b[0m \u001b[0mjobs\u001b[0m\u001b[0;34m:\u001b[0m\u001b[0;34m\u001b[0m\u001b[0m\n\u001b[0;32m----> 2\u001b[0;31m     \u001b[0mj\u001b[0m\u001b[0;34m.\u001b[0m\u001b[0mstart\u001b[0m\u001b[0;34m(\u001b[0m\u001b[0;34m)\u001b[0m\u001b[0;34m\u001b[0m\u001b[0m\n\u001b[0m\u001b[1;32m      3\u001b[0m     \u001b[0;32mfor\u001b[0m \u001b[0mj\u001b[0m \u001b[0;32min\u001b[0m \u001b[0mjobs\u001b[0m\u001b[0;34m:\u001b[0m\u001b[0;34m\u001b[0m\u001b[0m\n\u001b[1;32m      4\u001b[0m         \u001b[0mj\u001b[0m\u001b[0;34m.\u001b[0m\u001b[0mjoin\u001b[0m\u001b[0;34m(\u001b[0m\u001b[0;34m)\u001b[0m\u001b[0;34m\u001b[0m\u001b[0m\n",
      "\u001b[0;32m/usr/lib/python3.6/multiprocessing/process.py\u001b[0m in \u001b[0;36mstart\u001b[0;34m(self)\u001b[0m\n\u001b[1;32m     97\u001b[0m         \u001b[0mStart\u001b[0m \u001b[0mchild\u001b[0m \u001b[0mprocess\u001b[0m\u001b[0;34m\u001b[0m\u001b[0m\n\u001b[1;32m     98\u001b[0m         '''\n\u001b[0;32m---> 99\u001b[0;31m         \u001b[0;32massert\u001b[0m \u001b[0mself\u001b[0m\u001b[0;34m.\u001b[0m\u001b[0m_popen\u001b[0m \u001b[0;32mis\u001b[0m \u001b[0;32mNone\u001b[0m\u001b[0;34m,\u001b[0m \u001b[0;34m'cannot start a process twice'\u001b[0m\u001b[0;34m\u001b[0m\u001b[0m\n\u001b[0m\u001b[1;32m    100\u001b[0m         \u001b[0;32massert\u001b[0m \u001b[0mself\u001b[0m\u001b[0;34m.\u001b[0m\u001b[0m_parent_pid\u001b[0m \u001b[0;34m==\u001b[0m \u001b[0mos\u001b[0m\u001b[0;34m.\u001b[0m\u001b[0mgetpid\u001b[0m\u001b[0;34m(\u001b[0m\u001b[0;34m)\u001b[0m\u001b[0;34m,\u001b[0m\u001b[0;31m \u001b[0m\u001b[0;31m\\\u001b[0m\u001b[0;34m\u001b[0m\u001b[0m\n\u001b[1;32m    101\u001b[0m                \u001b[0;34m'can only start a process object created by current process'\u001b[0m\u001b[0;34m\u001b[0m\u001b[0m\n",
      "\u001b[0;31mAssertionError\u001b[0m: cannot start a process twice"
     ]
    }
   ],
   "source": [
    "for j in jobs:\n",
    "    j.start()\n",
    "    for j in jobs:\n",
    "        j.join()"
   ]
  },
  {
   "cell_type": "code",
   "execution_count": 80,
   "metadata": {},
   "outputs": [
    {
     "data": {
      "text/html": [
       "<div>\n",
       "<style scoped>\n",
       "    .dataframe tbody tr th:only-of-type {\n",
       "        vertical-align: middle;\n",
       "    }\n",
       "\n",
       "    .dataframe tbody tr th {\n",
       "        vertical-align: top;\n",
       "    }\n",
       "\n",
       "    .dataframe thead th {\n",
       "        text-align: right;\n",
       "    }\n",
       "</style>\n",
       "<table border=\"1\" class=\"dataframe\">\n",
       "  <thead>\n",
       "    <tr style=\"text-align: right;\">\n",
       "      <th></th>\n",
       "      <th>From</th>\n",
       "      <th>To</th>\n",
       "      <th>Value</th>\n",
       "      <th>Time</th>\n",
       "      <th>Block</th>\n",
       "    </tr>\n",
       "  </thead>\n",
       "  <tbody>\n",
       "    <tr>\n",
       "      <th>51641</th>\n",
       "      <td>ethereum</td>\n",
       "      <td>0</td>\n",
       "      <td>5.000000e+18</td>\n",
       "      <td>1438288819</td>\n",
       "      <td>5305</td>\n",
       "    </tr>\n",
       "  </tbody>\n",
       "</table>\n",
       "</div>"
      ],
      "text/plain": [
       "           From To         Value        Time  Block\n",
       "51641  ethereum  0  5.000000e+18  1438288819   5305"
      ]
     },
     "execution_count": 80,
     "metadata": {},
     "output_type": "execute_result"
    }
   ],
   "source": [
    "df[df.Block==5305]"
   ]
  },
  {
   "cell_type": "code",
   "execution_count": 45,
   "metadata": {},
   "outputs": [],
   "source": [
    "import numpy as np\n",
    "def balanceAccountBlock(blockNum, df): # retrieve balances of all accounts given a block number\n",
    "    df_b = df[df['Block']<=blockNum][['From','To']]\n",
    "    address = np.append(df_b.From.unique(),df_b.To.unique())\n",
    "    address = list(set(address))\n",
    "    print(\"addresses to look into: \",len(address))\n",
    "    with open('AccountBalanace'+str(blockNum)+'.csv','w') as ft:\n",
    "        ft.write('Account,Balance,Block')\n",
    "        ft.write('\\n')\n",
    "        for add in address:\n",
    "            if add!='ethereum' and add!='0':\n",
    "                try:\n",
    "                    account = Web3.toChecksumAddress(add)\n",
    "                    balance = w3.eth.getBalance(account,blockNum)\n",
    "                    ft.write(add+','+str(balance)+','+str(blockNum))\n",
    "                    ft.write('\\n')\n",
    "                except:\n",
    "                    print(add)\n",
    "    "
   ]
  },
  {
   "cell_type": "code",
   "execution_count": 46,
   "metadata": {
    "scrolled": false
   },
   "outputs": [
    {
     "name": "stdout",
     "output_type": "stream",
     "text": [
      "addresses to look into:  7880\n",
      "b67b6bb30bb68ed96f23f1fb8c6da01b3c37f6d4\n",
      "e706a05a40761915bc70310f7a94e6b2b596dbf8\n",
      "6.12416344436736E+039\n",
      "c47d9e6c75d388aeb92574429dad43a148f2f3ea\n",
      "164334243ea25246e0703f3bfca824a30e87197f\n",
      "288e4356f12d0d3d0f8df3506e457e7cfd5f4ab0\n",
      "87fd1c6dfa355a18911997a9bffa561272829453\n",
      "5a192b964afd80773e5f5eda6a56f14e25e0c6f3\n",
      "3da4225ad67e0e5729ff1beaa10bb6e41ddf31f7\n",
      "8f1c0dd1d8d230f7557b63967586eac9f139dcee\n",
      "e7ca5a8e75ef17f845c14a85c50e39b0dd30b8b7\n",
      "710c5febe84c40b3c12be2cb2378b863f67235df\n",
      "426f78f70db259ac8534145b2934f4ef1098b5d8\n",
      "9ff6094d95665aa596f05f1f4841d9b29df75188\n",
      "91409b1271111e5f3a526e53031d7553ec8959d3\n",
      "c54671b79ffcdc38c550bfc2f43aca4faf8d6f64\n",
      "f2ae859397af92154241ead0ac7c4ce3bea76e8f\n",
      "95227f88247580d7c3927bdafe78e73a675cdc76\n",
      "afa919981af838667228c343c15d7fde1bfa211c\n",
      "3899a1cdb9b4275d84860c6ab72d09e08dcc589a\n",
      "ec6a6bd0df7186d3c2fce7c46264b0b9b2e5e1e5\n",
      "501e496ad1c7fa8d0eed694450ba29b1ec0783bf\n",
      "ed1f560d21dde85fac18f23530c257c572f2f5ee\n",
      "d9a6ffe60b9c5e07f3d48a6880e3a2ee4659cdb2\n",
      "a725d243d631da2c9a1baf73fd323eae46d87023\n",
      "ebbd4db9019952d68b1b0f6d8cf0683c00387bb5\n",
      "aae61e43cb0d0c96b30699f77e00d711d0a3979b\n",
      "6a2bea124a39fad45d506f4d89330356e19592eb\n",
      "f084eabafbdec8489139e086da1e50930c670873\n",
      "640bafc5732d621d5611eed670718409acb81366\n",
      "14b01fe46d16d9283a84b92df2385bdc8f6f7475\n",
      "a6f56910addd015f84617f1bb1f8c9fdac02171b\n",
      "f49c47b3efd86b6e6a5bc9418d1f9fec814b69ef\n",
      "50eefd3ca3ddb144266bfab2194ba9cce30cc8f0\n",
      "0e1801e70b6262861b1134ccbc391f568afc92f7\n",
      "3175a28cf6105466923f11bffabd279f162aa2f8\n",
      "8bb807c77969259b4bb4fb3522e1720f4f6bebed\n",
      "d81c0676a709c835d46771a49db31af66c2dd87f\n",
      "76d4a9bc9612be738a81d0fe632b00b971e2bb9a\n",
      "c9b2af9c94d197b843cd016823fc5d8dffadd523\n",
      "0f23c93c4a3d51947370570984deda49b04e383d\n",
      "9858447d05901da8e335b3705d961fcd25e51c44\n",
      "15849ff8a79a86977272335bc35387e7907a6857\n",
      "d42b19481ec61fac518e2e224cbeef5d03f4a9e3\n",
      "5a09fcd65081be9d1bafa0493697d85aecbb22ae\n",
      "17b4c395793d0808549fb843199c4e54f0bba19a\n",
      "ac49eeb6a55af554d86d37b4a4ea7940010866e1\n",
      "e33977e292ccef99ea8828733e97562f3690a8ad\n",
      "91bf47807beab6ebf094d9a11c18f6c3fb30ace7\n",
      "7025965d2b88da197d4459be3dc9386344cc1f31\n",
      "25559969c52847e3d892377c0d5ede529cbe6913\n",
      "b2e4017063376d7eb1a72d91ec8ff38712ffebdf\n",
      "6ac950be890efe6f290a50f2105661f9eb796c2f\n",
      "202a92ec4abb585097c28e910263f74f103ffa33\n",
      "f661e21b71a9ca331e251e51a412857d2b61d8f8\n",
      "eb5e8925925042da3afd0e8062146db0b2d394a3\n",
      "3d1ec422a1a244545a285a739007450cd60a91ce\n",
      "f109ca710c0df51c1a86dba1b0ba0ed038114463\n",
      "adb948b1b6fefe207de65e9bbc2de98e605d0b57\n",
      "684a7b7c096606d1de0bddbb85d6e289b882dcea\n",
      "fdd502a74e813bcfa355ceda3c176f6a6871af7f\n",
      "c90a7389b3909a04f9eddf85a5b51f5f5470b8d9\n",
      "36f60f6fae70855d6a506c3cbdfa8b1cc4d77c35\n",
      "475526af19ba007bc39ba43c0946892035aa1b08\n",
      "9b80bd38c4afe0942f8029298a11face85ce4caf\n",
      "ef6f9577eddfe34dcba0e339930799b391e1d66f\n",
      "af7aee4db4d23c0c96d067d96f020147fed242c5\n"
     ]
    }
   ],
   "source": [
    "balanceAccountBlock(100000,df)"
   ]
  },
  {
   "cell_type": "code",
   "execution_count": 58,
   "metadata": {},
   "outputs": [],
   "source": [
    "account = Web3.toChecksumAddress('c47d9e6c75d388aeb92574429dad43a148f2f3ea')"
   ]
  },
  {
   "cell_type": "code",
   "execution_count": 59,
   "metadata": {},
   "outputs": [
    {
     "data": {
      "text/plain": [
       "31307600945853274600"
      ]
     },
     "execution_count": 59,
     "metadata": {},
     "output_type": "execute_result"
    }
   ],
   "source": [
    "w3.eth.getBalance(account,100000)"
   ]
  },
  {
   "cell_type": "code",
   "execution_count": null,
   "metadata": {},
   "outputs": [],
   "source": []
  },
  {
   "cell_type": "code",
   "execution_count": null,
   "metadata": {},
   "outputs": [],
   "source": []
  },
  {
   "cell_type": "code",
   "execution_count": null,
   "metadata": {},
   "outputs": [],
   "source": []
  },
  {
   "cell_type": "code",
   "execution_count": null,
   "metadata": {},
   "outputs": [],
   "source": []
  },
  {
   "cell_type": "code",
   "execution_count": 52,
   "metadata": {},
   "outputs": [],
   "source": [
    "df_balance = pd.read_csv('AccountBalanace100000.csv')"
   ]
  },
  {
   "cell_type": "code",
   "execution_count": 53,
   "metadata": {},
   "outputs": [
    {
     "data": {
      "text/html": [
       "<div>\n",
       "<style scoped>\n",
       "    .dataframe tbody tr th:only-of-type {\n",
       "        vertical-align: middle;\n",
       "    }\n",
       "\n",
       "    .dataframe tbody tr th {\n",
       "        vertical-align: top;\n",
       "    }\n",
       "\n",
       "    .dataframe thead th {\n",
       "        text-align: right;\n",
       "    }\n",
       "</style>\n",
       "<table border=\"1\" class=\"dataframe\">\n",
       "  <thead>\n",
       "    <tr style=\"text-align: right;\">\n",
       "      <th></th>\n",
       "      <th>Account</th>\n",
       "      <th>Balance</th>\n",
       "      <th>Block</th>\n",
       "    </tr>\n",
       "  </thead>\n",
       "  <tbody>\n",
       "    <tr>\n",
       "      <th>0</th>\n",
       "      <td>32728d6184d9a6abd2541294d4cbde925924291a</td>\n",
       "      <td>0</td>\n",
       "      <td>100000</td>\n",
       "    </tr>\n",
       "    <tr>\n",
       "      <th>1</th>\n",
       "      <td>9f29a11e58479e87f4d10413ec0cf7f3ff34c4c1</td>\n",
       "      <td>240625000000000000000</td>\n",
       "      <td>100000</td>\n",
       "    </tr>\n",
       "    <tr>\n",
       "      <th>2</th>\n",
       "      <td>632bb14025ba69a50f8c99f962998f06b70f76b4</td>\n",
       "      <td>981800000000000000</td>\n",
       "      <td>100000</td>\n",
       "    </tr>\n",
       "    <tr>\n",
       "      <th>3</th>\n",
       "      <td>f79650c3c0a99fa165c62bbeab819e706182c10f</td>\n",
       "      <td>0</td>\n",
       "      <td>100000</td>\n",
       "    </tr>\n",
       "    <tr>\n",
       "      <th>4</th>\n",
       "      <td>7705158b409f54a0e4373a31bbdc2a7abd8161ae</td>\n",
       "      <td>0</td>\n",
       "      <td>100000</td>\n",
       "    </tr>\n",
       "  </tbody>\n",
       "</table>\n",
       "</div>"
      ],
      "text/plain": [
       "                                    Account                Balance   Block\n",
       "0  32728d6184d9a6abd2541294d4cbde925924291a                      0  100000\n",
       "1  9f29a11e58479e87f4d10413ec0cf7f3ff34c4c1  240625000000000000000  100000\n",
       "2  632bb14025ba69a50f8c99f962998f06b70f76b4     981800000000000000  100000\n",
       "3  f79650c3c0a99fa165c62bbeab819e706182c10f                      0  100000\n",
       "4  7705158b409f54a0e4373a31bbdc2a7abd8161ae                      0  100000"
      ]
     },
     "execution_count": 53,
     "metadata": {},
     "output_type": "execute_result"
    }
   ],
   "source": [
    "df_balance.head()"
   ]
  },
  {
   "cell_type": "code",
   "execution_count": 24,
   "metadata": {},
   "outputs": [],
   "source": [
    "x = Web3.fromWei(25000000000000,'ether')"
   ]
  },
  {
   "cell_type": "code",
   "execution_count": 26,
   "metadata": {},
   "outputs": [
    {
     "data": {
      "text/plain": [
       "2.5e-05"
      ]
     },
     "execution_count": 26,
     "metadata": {},
     "output_type": "execute_result"
    }
   ],
   "source": [
    "float(x)"
   ]
  },
  {
   "cell_type": "code",
   "execution_count": 30,
   "metadata": {},
   "outputs": [],
   "source": [
    "import pandas as pd"
   ]
  },
  {
   "cell_type": "code",
   "execution_count": 56,
   "metadata": {},
   "outputs": [],
   "source": [
    "df_balance.Balance = df_balance.Balance.apply(lambda x: float(x))"
   ]
  },
  {
   "cell_type": "code",
   "execution_count": 21,
   "metadata": {},
   "outputs": [
    {
     "data": {
      "text/html": [
       "<div>\n",
       "<style scoped>\n",
       "    .dataframe tbody tr th:only-of-type {\n",
       "        vertical-align: middle;\n",
       "    }\n",
       "\n",
       "    .dataframe tbody tr th {\n",
       "        vertical-align: top;\n",
       "    }\n",
       "\n",
       "    .dataframe thead th {\n",
       "        text-align: right;\n",
       "    }\n",
       "</style>\n",
       "<table border=\"1\" class=\"dataframe\">\n",
       "  <thead>\n",
       "    <tr style=\"text-align: right;\">\n",
       "      <th></th>\n",
       "      <th>From</th>\n",
       "      <th>To</th>\n",
       "      <th>Value</th>\n",
       "      <th>Time</th>\n",
       "      <th>Block</th>\n",
       "    </tr>\n",
       "  </thead>\n",
       "  <tbody>\n",
       "    <tr>\n",
       "      <th>91311</th>\n",
       "      <td>7744774422cd8b2d5895d7bc552b9a57388db228</td>\n",
       "      <td>6.12416344436736E+039</td>\n",
       "      <td>1.000000e+18</td>\n",
       "      <td>1439452895</td>\n",
       "      <td>78378</td>\n",
       "    </tr>\n",
       "    <tr>\n",
       "      <th>91618</th>\n",
       "      <td>7744774422cd8b2d5895d7bc552b9a57388db228</td>\n",
       "      <td>6.12416344436736E+039</td>\n",
       "      <td>4.964882e+20</td>\n",
       "      <td>1439455427</td>\n",
       "      <td>78550</td>\n",
       "    </tr>\n",
       "  </tbody>\n",
       "</table>\n",
       "</div>"
      ],
      "text/plain": [
       "                                           From                     To  \\\n",
       "91311  7744774422cd8b2d5895d7bc552b9a57388db228  6.12416344436736E+039   \n",
       "91618  7744774422cd8b2d5895d7bc552b9a57388db228  6.12416344436736E+039   \n",
       "\n",
       "              Value        Time  Block  \n",
       "91311  1.000000e+18  1439452895  78378  \n",
       "91618  4.964882e+20  1439455427  78550  "
      ]
     },
     "execution_count": 21,
     "metadata": {},
     "output_type": "execute_result"
    }
   ],
   "source": [
    "df[df.To=='6.12416344436736E+039']"
   ]
  },
  {
   "cell_type": "code",
   "execution_count": 31,
   "metadata": {},
   "outputs": [
    {
     "data": {
      "text/html": [
       "<div>\n",
       "<style scoped>\n",
       "    .dataframe tbody tr th:only-of-type {\n",
       "        vertical-align: middle;\n",
       "    }\n",
       "\n",
       "    .dataframe tbody tr th {\n",
       "        vertical-align: top;\n",
       "    }\n",
       "\n",
       "    .dataframe thead th {\n",
       "        text-align: right;\n",
       "    }\n",
       "</style>\n",
       "<table border=\"1\" class=\"dataframe\">\n",
       "  <thead>\n",
       "    <tr style=\"text-align: right;\">\n",
       "      <th></th>\n",
       "      <th>Balance</th>\n",
       "      <th>Block</th>\n",
       "    </tr>\n",
       "  </thead>\n",
       "  <tbody>\n",
       "    <tr>\n",
       "      <th>count</th>\n",
       "      <td>1.262400e+04</td>\n",
       "      <td>12624.0</td>\n",
       "    </tr>\n",
       "    <tr>\n",
       "      <th>mean</th>\n",
       "      <td>2.408559e+21</td>\n",
       "      <td>100000.0</td>\n",
       "    </tr>\n",
       "    <tr>\n",
       "      <th>std</th>\n",
       "      <td>9.523821e+22</td>\n",
       "      <td>0.0</td>\n",
       "    </tr>\n",
       "    <tr>\n",
       "      <th>min</th>\n",
       "      <td>0.000000e+00</td>\n",
       "      <td>100000.0</td>\n",
       "    </tr>\n",
       "    <tr>\n",
       "      <th>25%</th>\n",
       "      <td>0.000000e+00</td>\n",
       "      <td>100000.0</td>\n",
       "    </tr>\n",
       "    <tr>\n",
       "      <th>50%</th>\n",
       "      <td>1.186848e+13</td>\n",
       "      <td>100000.0</td>\n",
       "    </tr>\n",
       "    <tr>\n",
       "      <th>75%</th>\n",
       "      <td>5.428642e+18</td>\n",
       "      <td>100000.0</td>\n",
       "    </tr>\n",
       "    <tr>\n",
       "      <th>max</th>\n",
       "      <td>8.809482e+24</td>\n",
       "      <td>100000.0</td>\n",
       "    </tr>\n",
       "  </tbody>\n",
       "</table>\n",
       "</div>"
      ],
      "text/plain": [
       "            Balance     Block\n",
       "count  1.262400e+04   12624.0\n",
       "mean   2.408559e+21  100000.0\n",
       "std    9.523821e+22       0.0\n",
       "min    0.000000e+00  100000.0\n",
       "25%    0.000000e+00  100000.0\n",
       "50%    1.186848e+13  100000.0\n",
       "75%    5.428642e+18  100000.0\n",
       "max    8.809482e+24  100000.0"
      ]
     },
     "execution_count": 31,
     "metadata": {},
     "output_type": "execute_result"
    }
   ],
   "source": [
    "df_balance.describe()"
   ]
  },
  {
   "cell_type": "code",
   "execution_count": 36,
   "metadata": {},
   "outputs": [
    {
     "data": {
      "text/plain": [
       "0.0"
      ]
     },
     "execution_count": 36,
     "metadata": {},
     "output_type": "execute_result"
    }
   ],
   "source": [
    "df_balance.Balance.min()"
   ]
  },
  {
   "cell_type": "code",
   "execution_count": 38,
   "metadata": {},
   "outputs": [
    {
     "data": {
      "text/plain": [
       "8.8094822394799999e+24"
      ]
     },
     "execution_count": 38,
     "metadata": {},
     "output_type": "execute_result"
    }
   ],
   "source": [
    "df_balance.Balance.max()"
   ]
  },
  {
   "cell_type": "code",
   "execution_count": 39,
   "metadata": {},
   "outputs": [],
   "source": [
    "balance = df_balance.Balance.sort_values()"
   ]
  },
  {
   "cell_type": "code",
   "execution_count": 40,
   "metadata": {},
   "outputs": [
    {
     "data": {
      "text/plain": [
       "9100    0.0\n",
       "3169    0.0\n",
       "3168    0.0\n",
       "3167    0.0\n",
       "3166    0.0\n",
       "Name: Balance, dtype: float64"
      ]
     },
     "execution_count": 40,
     "metadata": {},
     "output_type": "execute_result"
    }
   ],
   "source": [
    "balance.head()"
   ]
  },
  {
   "cell_type": "code",
   "execution_count": 41,
   "metadata": {},
   "outputs": [
    {
     "data": {
      "text/plain": [
       "1181    2.450000e+24\n",
       "7545    2.450000e+24\n",
       "1391    3.454732e+24\n",
       "6882    3.454732e+24\n",
       "8460    8.809482e+24\n",
       "Name: Balance, dtype: float64"
      ]
     },
     "execution_count": 41,
     "metadata": {},
     "output_type": "execute_result"
    }
   ],
   "source": [
    "balance.tail()"
   ]
  },
  {
   "cell_type": "code",
   "execution_count": 43,
   "metadata": {},
   "outputs": [
    {
     "data": {
      "text/plain": [
       "0.0"
      ]
     },
     "execution_count": 43,
     "metadata": {},
     "output_type": "execute_result"
    }
   ],
   "source": [
    "G_coeff = 0.0\n",
    "balance.iloc[0]"
   ]
  },
  {
   "cell_type": "code",
   "execution_count": 44,
   "metadata": {},
   "outputs": [],
   "source": [
    "n = balance.count()"
   ]
  },
  {
   "cell_type": "code",
   "execution_count": 45,
   "metadata": {},
   "outputs": [
    {
     "data": {
      "text/plain": [
       "12624"
      ]
     },
     "execution_count": 45,
     "metadata": {},
     "output_type": "execute_result"
    }
   ],
   "source": [
    "n"
   ]
  },
  {
   "cell_type": "code",
   "execution_count": 50,
   "metadata": {},
   "outputs": [
    {
     "data": {
      "text/plain": [
       "8.8094822394799999e+24"
      ]
     },
     "execution_count": 50,
     "metadata": {},
     "output_type": "execute_result"
    }
   ],
   "source": [
    "balance.iloc[12623]"
   ]
  },
  {
   "cell_type": "code",
   "execution_count": 51,
   "metadata": {},
   "outputs": [],
   "source": [
    "b = balance.values"
   ]
  },
  {
   "cell_type": "code",
   "execution_count": 52,
   "metadata": {},
   "outputs": [
    {
     "data": {
      "text/plain": [
       "array([  0.00000000e+00,   0.00000000e+00,   0.00000000e+00, ...,\n",
       "         3.45473167e+24,   3.45473167e+24,   8.80948224e+24])"
      ]
     },
     "execution_count": 52,
     "metadata": {},
     "output_type": "execute_result"
    }
   ],
   "source": [
    "b"
   ]
  },
  {
   "cell_type": "code",
   "execution_count": 53,
   "metadata": {},
   "outputs": [
    {
     "data": {
      "text/plain": [
       "12624"
      ]
     },
     "execution_count": 53,
     "metadata": {},
     "output_type": "execute_result"
    }
   ],
   "source": [
    "b.size"
   ]
  },
  {
   "cell_type": "code",
   "execution_count": 54,
   "metadata": {},
   "outputs": [
    {
     "data": {
      "text/plain": [
       "array([  0.00000000e+00,   0.00000000e+00,   0.00000000e+00, ...,\n",
       "         1.81414353e+25,   2.15961670e+25,   3.04056492e+25])"
      ]
     },
     "execution_count": 54,
     "metadata": {},
     "output_type": "execute_result"
    }
   ],
   "source": [
    "b.cumsum()"
   ]
  },
  {
   "cell_type": "code",
   "execution_count": 55,
   "metadata": {},
   "outputs": [],
   "source": [
    "import matplotlib.pyplot as plt"
   ]
  },
  {
   "cell_type": "code",
   "execution_count": 58,
   "metadata": {},
   "outputs": [],
   "source": [
    "a = np.array([1,2,3,4,5,6])"
   ]
  },
  {
   "cell_type": "code",
   "execution_count": 59,
   "metadata": {},
   "outputs": [
    {
     "data": {
      "text/plain": [
       "3.040564923603721e+25"
      ]
     },
     "execution_count": 59,
     "metadata": {},
     "output_type": "execute_result"
    }
   ],
   "source": [
    "b.sum()"
   ]
  },
  {
   "cell_type": "code",
   "execution_count": 66,
   "metadata": {},
   "outputs": [
    {
     "ename": "SyntaxError",
     "evalue": "invalid syntax (<ipython-input-66-529ddbefa042>, line 3)",
     "output_type": "error",
     "traceback": [
      "\u001b[0;36m  File \u001b[0;32m\"<ipython-input-66-529ddbefa042>\"\u001b[0;36m, line \u001b[0;32m3\u001b[0m\n\u001b[0;31m    c = map(lambda(i,x):i*x, enumerate(A))\u001b[0m\n\u001b[0m                  ^\u001b[0m\n\u001b[0;31mSyntaxError\u001b[0m\u001b[0;31m:\u001b[0m invalid syntax\n"
     ]
    }
   ],
   "source": [
    "A = [1,2,3,4,5]\n",
    "n = len(A)+1\n",
    "c = map(lambda(i,x):i*x, enumerate(A))"
   ]
  },
  {
   "cell_type": "code",
   "execution_count": 175,
   "metadata": {},
   "outputs": [],
   "source": [
    "a = [0, 0, 0, 0, 1]\n",
    "a.sort()\n",
    "n = len(a)\n",
    "num = sum(list(map(lambda x: (n-x[0])*x[1], enumerate(a))))\n",
    "den = sum(a)"
   ]
  },
  {
   "cell_type": "code",
   "execution_count": 176,
   "metadata": {},
   "outputs": [
    {
     "data": {
      "text/plain": [
       "0.8"
      ]
     },
     "execution_count": 176,
     "metadata": {},
     "output_type": "execute_result"
    }
   ],
   "source": [
    "(n+1 - 2*(num/den))/n"
   ]
  },
  {
   "cell_type": "code",
   "execution_count": 81,
   "metadata": {},
   "outputs": [],
   "source": [
    "n = b.size\n",
    "answer = list(map(lambda x: (n-x[0])*x[1], enumerate(b)))"
   ]
  },
  {
   "cell_type": "code",
   "execution_count": 86,
   "metadata": {},
   "outputs": [
    {
     "name": "stdout",
     "output_type": "stream",
     "text": [
      "0 1\n",
      "1 3\n",
      "2 5\n",
      "3 6\n",
      "4 8\n"
     ]
    }
   ],
   "source": [
    "a = np.array(a)\n",
    "for i,j in enumerate(a):\n",
    "    print(i,j)"
   ]
  },
  {
   "cell_type": "code",
   "execution_count": 83,
   "metadata": {},
   "outputs": [
    {
     "data": {
      "text/plain": [
       "0.99439717617577084"
      ]
     },
     "execution_count": 83,
     "metadata": {},
     "output_type": "execute_result"
    }
   ],
   "source": [
    "(n+1-2*sum(answer)/b.sum())/n"
   ]
  },
  {
   "cell_type": "code",
   "execution_count": 54,
   "metadata": {},
   "outputs": [],
   "source": [
    "def giniCoefficient(df_balance): # balance is pandas table....\n",
    "    balance = df_balance.Balance.sort_values()\n",
    "    b = balance.values # convert to a numpy array\n",
    "    n = b.size\n",
    "    num = sum(list(map(lambda x: (n-x[0])*x[1], enumerate(b))))\n",
    "    den = b.sum()\n",
    "    return (n+1-2*(num/den))/n"
   ]
  },
  {
   "cell_type": "code",
   "execution_count": 57,
   "metadata": {},
   "outputs": [
    {
     "data": {
      "text/plain": [
       "0.99237693778659386"
      ]
     },
     "execution_count": 57,
     "metadata": {},
     "output_type": "execute_result"
    }
   ],
   "source": [
    "giniCoefficient(df_balance)"
   ]
  },
  {
   "cell_type": "code",
   "execution_count": 5,
   "metadata": {},
   "outputs": [
    {
     "data": {
      "text/html": [
       "<div>\n",
       "<style scoped>\n",
       "    .dataframe tbody tr th:only-of-type {\n",
       "        vertical-align: middle;\n",
       "    }\n",
       "\n",
       "    .dataframe tbody tr th {\n",
       "        vertical-align: top;\n",
       "    }\n",
       "\n",
       "    .dataframe thead th {\n",
       "        text-align: right;\n",
       "    }\n",
       "</style>\n",
       "<table border=\"1\" class=\"dataframe\">\n",
       "  <thead>\n",
       "    <tr style=\"text-align: right;\">\n",
       "      <th></th>\n",
       "      <th>Value</th>\n",
       "      <th>Time</th>\n",
       "      <th>Block</th>\n",
       "    </tr>\n",
       "  </thead>\n",
       "  <tbody>\n",
       "    <tr>\n",
       "      <th>count</th>\n",
       "      <td>1.439050e+05</td>\n",
       "      <td>1.439050e+05</td>\n",
       "      <td>143905.000000</td>\n",
       "    </tr>\n",
       "    <tr>\n",
       "      <th>mean</th>\n",
       "      <td>1.384902e+20</td>\n",
       "      <td>1.439043e+09</td>\n",
       "      <td>54032.245224</td>\n",
       "    </tr>\n",
       "    <tr>\n",
       "      <th>std</th>\n",
       "      <td>3.003269e+21</td>\n",
       "      <td>3.821480e+06</td>\n",
       "      <td>28625.292713</td>\n",
       "    </tr>\n",
       "    <tr>\n",
       "      <th>min</th>\n",
       "      <td>0.000000e+00</td>\n",
       "      <td>0.000000e+00</td>\n",
       "      <td>0.000000</td>\n",
       "    </tr>\n",
       "    <tr>\n",
       "      <th>25%</th>\n",
       "      <td>5.000000e+18</td>\n",
       "      <td>1.438653e+09</td>\n",
       "      <td>30123.000000</td>\n",
       "    </tr>\n",
       "    <tr>\n",
       "      <th>50%</th>\n",
       "      <td>5.000000e+18</td>\n",
       "      <td>1.439091e+09</td>\n",
       "      <td>56685.000000</td>\n",
       "    </tr>\n",
       "    <tr>\n",
       "      <th>75%</th>\n",
       "      <td>5.000000e+18</td>\n",
       "      <td>1.439458e+09</td>\n",
       "      <td>78709.000000</td>\n",
       "    </tr>\n",
       "    <tr>\n",
       "      <th>max</th>\n",
       "      <td>3.232034e+23</td>\n",
       "      <td>1.439799e+09</td>\n",
       "      <td>100000.000000</td>\n",
       "    </tr>\n",
       "  </tbody>\n",
       "</table>\n",
       "</div>"
      ],
      "text/plain": [
       "              Value          Time          Block\n",
       "count  1.439050e+05  1.439050e+05  143905.000000\n",
       "mean   1.384902e+20  1.439043e+09   54032.245224\n",
       "std    3.003269e+21  3.821480e+06   28625.292713\n",
       "min    0.000000e+00  0.000000e+00       0.000000\n",
       "25%    5.000000e+18  1.438653e+09   30123.000000\n",
       "50%    5.000000e+18  1.439091e+09   56685.000000\n",
       "75%    5.000000e+18  1.439458e+09   78709.000000\n",
       "max    3.232034e+23  1.439799e+09  100000.000000"
      ]
     },
     "execution_count": 5,
     "metadata": {},
     "output_type": "execute_result"
    }
   ],
   "source": [
    "df.describe()"
   ]
  },
  {
   "cell_type": "code",
   "execution_count": 6,
   "metadata": {},
   "outputs": [
    {
     "data": {
      "text/plain": [
       "Index(['From', 'To', 'Value', 'Time', 'Block'], dtype='object')"
      ]
     },
     "execution_count": 6,
     "metadata": {},
     "output_type": "execute_result"
    }
   ],
   "source": [
    "df.columns"
   ]
  },
  {
   "cell_type": "code",
   "execution_count": 20,
   "metadata": {},
   "outputs": [],
   "source": [
    "x = df.groupby('From').count()['To']\n",
    "y = df.groupby('To').count()['From']"
   ]
  },
  {
   "cell_type": "code",
   "execution_count": 19,
   "metadata": {},
   "outputs": [
    {
     "data": {
      "text/html": [
       "<div>\n",
       "<style scoped>\n",
       "    .dataframe tbody tr th:only-of-type {\n",
       "        vertical-align: middle;\n",
       "    }\n",
       "\n",
       "    .dataframe tbody tr th {\n",
       "        vertical-align: top;\n",
       "    }\n",
       "\n",
       "    .dataframe thead th {\n",
       "        text-align: right;\n",
       "    }\n",
       "</style>\n",
       "<table border=\"1\" class=\"dataframe\">\n",
       "  <thead>\n",
       "    <tr style=\"text-align: right;\">\n",
       "      <th></th>\n",
       "      <th>From</th>\n",
       "      <th>To</th>\n",
       "      <th>Value</th>\n",
       "      <th>Time</th>\n",
       "      <th>Block</th>\n",
       "    </tr>\n",
       "  </thead>\n",
       "  <tbody>\n",
       "    <tr>\n",
       "      <th>111921</th>\n",
       "      <td>0004b15be8cb573a7be023e203e268dbcffd302b</td>\n",
       "      <td>2102cc711d03dfcedf9a443b9bd540dacbff0426</td>\n",
       "      <td>4.890000e+20</td>\n",
       "      <td>1439639772</td>\n",
       "      <td>90419</td>\n",
       "    </tr>\n",
       "    <tr>\n",
       "      <th>111929</th>\n",
       "      <td>0004b15be8cb573a7be023e203e268dbcffd302b</td>\n",
       "      <td>2102cc711d03dfcedf9a443b9bd540dacbff0426</td>\n",
       "      <td>1.000000e+18</td>\n",
       "      <td>1439639635</td>\n",
       "      <td>90413</td>\n",
       "    </tr>\n",
       "    <tr>\n",
       "      <th>116467</th>\n",
       "      <td>0004b15be8cb573a7be023e203e268dbcffd302b</td>\n",
       "      <td>2102cc711d03dfcedf9a443b9bd540dacbff0426</td>\n",
       "      <td>9.500000e+20</td>\n",
       "      <td>1439697931</td>\n",
       "      <td>93795</td>\n",
       "    </tr>\n",
       "  </tbody>\n",
       "</table>\n",
       "</div>"
      ],
      "text/plain": [
       "                                            From  \\\n",
       "111921  0004b15be8cb573a7be023e203e268dbcffd302b   \n",
       "111929  0004b15be8cb573a7be023e203e268dbcffd302b   \n",
       "116467  0004b15be8cb573a7be023e203e268dbcffd302b   \n",
       "\n",
       "                                              To         Value        Time  \\\n",
       "111921  2102cc711d03dfcedf9a443b9bd540dacbff0426  4.890000e+20  1439639772   \n",
       "111929  2102cc711d03dfcedf9a443b9bd540dacbff0426  1.000000e+18  1439639635   \n",
       "116467  2102cc711d03dfcedf9a443b9bd540dacbff0426  9.500000e+20  1439697931   \n",
       "\n",
       "        Block  \n",
       "111921  90419  \n",
       "111929  90413  \n",
       "116467  93795  "
      ]
     },
     "execution_count": 19,
     "metadata": {},
     "output_type": "execute_result"
    }
   ],
   "source": [
    "df[df['From']=='0004b15be8cb573a7be023e203e268dbcffd302b']"
   ]
  },
  {
   "cell_type": "code",
   "execution_count": 22,
   "metadata": {},
   "outputs": [],
   "source": [
    "z = pd.concat([x,y])"
   ]
  },
  {
   "cell_type": "code",
   "execution_count": 25,
   "metadata": {},
   "outputs": [
    {
     "data": {
      "text/plain": [
       "5789"
      ]
     },
     "execution_count": 25,
     "metadata": {},
     "output_type": "execute_result"
    }
   ],
   "source": [
    "x.count()"
   ]
  },
  {
   "cell_type": "code",
   "execution_count": 27,
   "metadata": {},
   "outputs": [
    {
     "data": {
      "text/html": [
       "<div>\n",
       "<style scoped>\n",
       "    .dataframe tbody tr th:only-of-type {\n",
       "        vertical-align: middle;\n",
       "    }\n",
       "\n",
       "    .dataframe tbody tr th {\n",
       "        vertical-align: top;\n",
       "    }\n",
       "\n",
       "    .dataframe thead th {\n",
       "        text-align: right;\n",
       "    }\n",
       "</style>\n",
       "<table border=\"1\" class=\"dataframe\">\n",
       "  <thead>\n",
       "    <tr style=\"text-align: right;\">\n",
       "      <th></th>\n",
       "      <th>From</th>\n",
       "      <th>To</th>\n",
       "      <th>Value</th>\n",
       "      <th>Time</th>\n",
       "      <th>Block</th>\n",
       "    </tr>\n",
       "  </thead>\n",
       "  <tbody>\n",
       "    <tr>\n",
       "      <th>57916</th>\n",
       "      <td>3e0b8ed86ed669e12723af7572fbacfe829b1e16</td>\n",
       "      <td>0004b15be8cb573a7be023e203e268dbcffd302b</td>\n",
       "      <td>1.490000e+21</td>\n",
       "      <td>1439101654</td>\n",
       "      <td>57346</td>\n",
       "    </tr>\n",
       "    <tr>\n",
       "      <th>57928</th>\n",
       "      <td>3e0b8ed86ed669e12723af7572fbacfe829b1e16</td>\n",
       "      <td>0004b15be8cb573a7be023e203e268dbcffd302b</td>\n",
       "      <td>2.000000e+17</td>\n",
       "      <td>1439101528</td>\n",
       "      <td>57336</td>\n",
       "    </tr>\n",
       "  </tbody>\n",
       "</table>\n",
       "</div>"
      ],
      "text/plain": [
       "                                           From  \\\n",
       "57916  3e0b8ed86ed669e12723af7572fbacfe829b1e16   \n",
       "57928  3e0b8ed86ed669e12723af7572fbacfe829b1e16   \n",
       "\n",
       "                                             To         Value        Time  \\\n",
       "57916  0004b15be8cb573a7be023e203e268dbcffd302b  1.490000e+21  1439101654   \n",
       "57928  0004b15be8cb573a7be023e203e268dbcffd302b  2.000000e+17  1439101528   \n",
       "\n",
       "       Block  \n",
       "57916  57346  \n",
       "57928  57336  "
      ]
     },
     "execution_count": 27,
     "metadata": {},
     "output_type": "execute_result"
    }
   ],
   "source": [
    "df[df['To']=='0004b15be8cb573a7be023e203e268dbcffd302b']"
   ]
  },
  {
   "cell_type": "code",
   "execution_count": 47,
   "metadata": {},
   "outputs": [
    {
     "data": {
      "text/plain": [
       "From\n",
       "0004b15be8cb573a7be023e203e268dbcffd302b      3\n",
       "000df160997ba9420e4622996b05447871848834     13\n",
       "0015b5e5afe7eba613cd1ba0a7345ed150adf5dc      1\n",
       "0025bc2515c073784222cbcd1e988dba9a0f75af      2\n",
       "0028795f5139935918a4176c80b01d32549e2819      4\n",
       "0037a6b811ffeb6e072da21179d11b1406371c63      3\n",
       "0037ce3d4b7f8729c8607d8d0248252be68202c0     17\n",
       "003a0659d5452a076403d1411e617c9665955d59      5\n",
       "003a6cefcd4377033674d8a80ddbfb3596bd13dd      3\n",
       "0043bc318929d9146864870b0988d10f600f1090      1\n",
       "004b37d3e250eb1826fc6a587deddc18e7be6f6f      1\n",
       "004bfbe1546bc6c65b5c7eaa55304b38bbfec6d3      3\n",
       "0053a170b33712997013623b9e5a27198e9bc9f9      2\n",
       "007622d84a234bb8b078230fcf84b67ae9a8acae      2\n",
       "007695872ab13e1016138e7bf2be234ca7a77740      1\n",
       "007761bfef91f6d2b5aa41b0197bf496978eeb73      1\n",
       "007a496da7690601206bc3c67176bb675ffb9b7b      1\n",
       "007f7f58d3eb5b7510a301ecc749fc1fcddbe14d    156\n",
       "00818287ff6ba78a461d21bd5832891592dc6c6b      7\n",
       "0089508679abf8c71bf6781687120e3e6a84584d      7\n",
       "008b1d771af0dcfd83c30d9d93f3b83cdf18beba      3\n",
       "008dba42c465542c3fabcb5928b45194b195798f      2\n",
       "008fc7cbadffbd0d7fe44f8dfd60a79d721a1c9c     38\n",
       "0092c5f887dd0e13e43dbdbcedfa02e332c11fdb      5\n",
       "009560a3de627868f91fa8bfe1c1b7afaf08186b      1\n",
       "009781507fc411166590c7f205fbec84c4fbe0aa      1\n",
       "009a9c07b91d40cce1240d517f9722b4f079a86b      1\n",
       "00a0c500bce07ac7b154f1843f37bf2c6b3b508c      1\n",
       "00a5797f52c9d58f189f36b1d45d1bf6041f2f6b      2\n",
       "00a96cbf4b8f63462a88591facae98742d627855      1\n",
       "                                           ... \n",
       "fe6c45d9bb291f60872c266ee96546a9ffca2e0d      2\n",
       "fe729ba7a9ad11a82e0110f87e4c68356b9cab12      2\n",
       "fe7dfafa39b0a9d157238a22aba85e7f6c51bdcc      2\n",
       "fe812c2f33c9f1c5dc96634b19d40e0bfed62543      2\n",
       "fe835cf9f715fec23a7decbca85d616e7f6e5aec      2\n",
       "fe8635c30d5b0a49d09fc9480d59e05d7450fd41      5\n",
       "fe8f7c78c9ec1abf63bc535751afd1b9eca36d43      2\n",
       "fe94a04fd0e639e25e3ee538c8daafa20e0b8c3e      2\n",
       "fe94f82d40f91e6a01cdbe078be982b8b54389a4      2\n",
       "feaa6f0a842422ddd202cf41d44eff708127136e      8\n",
       "feb92d30bf01ff9a1901666c5573532bfa07eeec      3\n",
       "fec14e5485de2b3eef5e74c46146db8e454e0335      4\n",
       "fed19cfbf47abf30df177e69eda1e453b920c7b2      2\n",
       "fedfa3299b2919c6601f4eecb6adb74637949b30      2\n",
       "fee4deb01301a2633e0046305a31fca8d04f416c      2\n",
       "fef75e7815a4440d1ba1f075d70978181c84ef5b      2\n",
       "ff68c2f39c4e7fe2f92c2dc2f8615b1bf070e0fa      2\n",
       "ff69d0daca53c25ba6026094841f66e48735755a      2\n",
       "ff7b96745b3f433d2019b0beccfa24349482df88      2\n",
       "ff7cdb6b68e764c2cbd95ed2a81dd04145c4f2bd      2\n",
       "ff894e9ae9af25e529e87f7e0caae8279698cb41      2\n",
       "ff9a46e0358502f3ae5d7fabf50e71a067259a9a      2\n",
       "ffa001d148554e3f9274cbfc993e5dbe513776e1      2\n",
       "ffadf482d806bbb6ada61eea870862a234f0e7e2      2\n",
       "ffb0220e3f2ef137a6b34196c8fb7488636183a2      2\n",
       "ffb51e371b640c7c251dbfba2f061b66e9aea864      1\n",
       "ffbc3da0381ec339c1c049eb1ed9ee34fdcea6ca      6\n",
       "ffcd9cae6d9f54fd8ae05296f839892677ff6eaa      5\n",
       "ffe35492cbf1fdc2c4f6cd6352f5c7a44eefb7ee      2\n",
       "ffeef280ababd07bd185b0ff831ac17b8020d365      2\n",
       "Name: To, Length: 5789, dtype: int64"
      ]
     },
     "execution_count": 47,
     "metadata": {},
     "output_type": "execute_result"
    }
   ],
   "source": [
    "x"
   ]
  },
  {
   "cell_type": "code",
   "execution_count": null,
   "metadata": {},
   "outputs": [],
   "source": []
  },
  {
   "cell_type": "code",
   "execution_count": null,
   "metadata": {},
   "outputs": [],
   "source": []
  },
  {
   "cell_type": "code",
   "execution_count": null,
   "metadata": {},
   "outputs": [],
   "source": []
  },
  {
   "cell_type": "code",
   "execution_count": 4,
   "metadata": {},
   "outputs": [],
   "source": [
    "import numpy as np"
   ]
  },
  {
   "cell_type": "code",
   "execution_count": null,
   "metadata": {},
   "outputs": [],
   "source": [
    "def filterbyActivity(blockNum, df):\n",
    "    "
   ]
  }
 ],
 "metadata": {
  "kernelspec": {
   "display_name": "Python 3",
   "language": "python",
   "name": "python3"
  },
  "language_info": {
   "codemirror_mode": {
    "name": "ipython",
    "version": 3
   },
   "file_extension": ".py",
   "mimetype": "text/x-python",
   "name": "python",
   "nbconvert_exporter": "python",
   "pygments_lexer": "ipython3",
   "version": "3.6.4"
  }
 },
 "nbformat": 4,
 "nbformat_minor": 2
}
