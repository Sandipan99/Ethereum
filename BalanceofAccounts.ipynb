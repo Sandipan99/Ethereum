{
 "cells": [
  {
   "cell_type": "code",
   "execution_count": 1,
   "metadata": {
    "collapsed": true
   },
   "outputs": [],
   "source": [
    "from web3 import Web3, IPCProvider\n",
    "import numpy as np\n",
    "import pandas as pd\n",
    "import matplotlib.pyplot as plt"
   ]
  },
  {
   "cell_type": "code",
   "execution_count": 2,
   "metadata": {
    "collapsed": true
   },
   "outputs": [
    {
     "data": {
      "text/plain": [
       "AttributeDict({'difficulty': 2400374661886632,\n",
       " 'extraData': HexBytes('0x4554482e45544846414e532e4f52472d3136313946374532'),\n",
       " 'gasLimit': 7992111,\n",
       " 'gasUsed': 7975053,\n",
       " 'hash': HexBytes('0xf87f524c2e8542d6b70661c2067c628a70b6eaca7c173a7baaaf74a2a72a962f'),\n",
       " 'logsBloom': HexBytes('0x40a6616024418010024da00004900029008081210015020080aa6400023821280000311020042608403009860240741341824486940030109c184b102c0042109000b16100210501403077493120c000060100c8180400800401c0040ec00008100098600a5240804a41c1e69002080002400213c80441780200851140a0c20c3622c10000c3004284180006000350308109088102a0031c200220002000214040408248020b00004e1001f25002840390800d0900108284500821402010a490144a0c06281d8220005e009802008c880c02209583c908026001100008802191301000c00022042051e184818002a004500442510098c4090a001c002ac11289'),\n",
       " 'miner': '0x5A0b54D5dc17e0AadC383d2db43B0a0D3E029c4c',\n",
       " 'mixHash': HexBytes('0x50ada62ae9af3fa9745e3f07596b1c26cea0dde969b55ec8847b86ad7fda7d1f'),\n",
       " 'nonce': HexBytes('0xbbc40b180ad30134'),\n",
       " 'number': 4949921,\n",
       " 'parentHash': HexBytes('0x9093adb3e7dc208a355c9ba4745107a23b30df5857dd5a74d0affea4b0467518'),\n",
       " 'receiptsRoot': HexBytes('0xa050de3a01f0b5f5837315fb9448b55d37fac421baed88be64edbb65dc058a7e'),\n",
       " 'sha3Uncles': HexBytes('0x1dcc4de8dec75d7aab85b567b6ccd41ad312451b948a7413f0a142fd40d49347'),\n",
       " 'size': 25299,\n",
       " 'stateRoot': HexBytes('0x8587feaf5f53308eebcb5be00b1fa905655b19609b275530ab9477b6bc4a882a'),\n",
       " 'timestamp': 1516590075,\n",
       " 'totalDifficulty': 2160410696348207605196,\n",
       " 'transactions': [HexBytes('0x941023025ede126fcaf439eed17a1a8b992ab49d34bc02e83ad74c1c1e346a91'),\n",
       "  HexBytes('0xb4b227912ea61baa779e6d6c8f9c0bacb99f1570845a808c8d0d24e40f3db725'),\n",
       "  HexBytes('0xa5a82635b54f53890e3e7ee3f05fa562730ca1172b2e8f7f7bed719e9436ee94'),\n",
       "  HexBytes('0xd521accc747ad8da3e63e0e9b9a56b1393cfb396a0f8ea744f7bbfd6b19bb5a0'),\n",
       "  HexBytes('0xf2df77d47eb13fb836b929ae24ab35ea99ca52decafffca3451463303c6ee50b'),\n",
       "  HexBytes('0x782e23e82ab910b1c35df5470181c4ebf3fbf815fb538bb376bc7140d3e0444e'),\n",
       "  HexBytes('0x5afd68865fc627f77d3205c4c655046346ffdde2561c3416743794e78e01753a'),\n",
       "  HexBytes('0xf4ac65278f3644c3d2e5286080ce3476fd5fbfc8b19490fa0477bd25602cee6f'),\n",
       "  HexBytes('0xd27fb5352df85870dc60fd4d6d836ada33d102843eb954547deff588f80e11f1'),\n",
       "  HexBytes('0xbd7b35162d76c9f9f59eaf5da2549abf82c97fd62a8fc2435961908a163f9fa0'),\n",
       "  HexBytes('0xbf7007d6b54717de210fb982d3fdc6da053a558273026b18586afde4863f9dcf'),\n",
       "  HexBytes('0x0230461d4d61986559fb65ed10f682f0679c81f24646ae46615f731d655b8650'),\n",
       "  HexBytes('0x7425fca04a0a5534f6857424457cc5abb0250e987470b9cc8d1718b3093428c4'),\n",
       "  HexBytes('0x0f7848c29c6753f0b61c55d623b5613c0c0d336761f98de7fdd1c448275dfebc'),\n",
       "  HexBytes('0x97e4580b40557fe4974ab6b8f2dace4da122def0717560752216263929245222'),\n",
       "  HexBytes('0xb46a0d3bce3353fc0b7b884bd2a547929edaf89e91c5fa58cd2d986ef7a270cf'),\n",
       "  HexBytes('0x1c7a6552136a4500411be35f583aed84329ba07a89f37f4b32f37188c4faba36'),\n",
       "  HexBytes('0x44165429b43f3f9110798ec2784f7e42b192182c0120a0f547cf0bc1420664b8'),\n",
       "  HexBytes('0x60897a7e80778d9891473667d08d4df4d84aea1687f4121b0e53889af2774eb4'),\n",
       "  HexBytes('0xf0772c319b3737fc66434891eabd01cbbf4693852a876b649d38703a201e67e1'),\n",
       "  HexBytes('0x737798d02357ceadb6a84c79c4291af393d227456ff5f95d1bd0db89dd6750f9'),\n",
       "  HexBytes('0x530143692843486c23e90c8c01dbaa8a47fcefd55c49882b7a2bb95348d582f3'),\n",
       "  HexBytes('0x9cfd043a2a1164f79d2691e806d09de672dd07138824b55ba2874134d4fb787c'),\n",
       "  HexBytes('0x947d8d17dba62a2d8a1d38f153cc878d0d3dab645aff260d4ae9b69894330a9a'),\n",
       "  HexBytes('0x4eb1ccbde7dedc22ff71b590aac1324220c1408079ee95eba98961286a3590fc'),\n",
       "  HexBytes('0x9a0b795407ba63e20041bf51edfd6a120d3d863e009d427f4a7ffd14cefd861e'),\n",
       "  HexBytes('0x67024a3f71f127bd9ad4dd76b7832ce5e0db485741ed43bd24016bd8097abc9c'),\n",
       "  HexBytes('0x68e29efe079d7e489554604ef51533f6f258f90a07e4c9551c7ad187d461f09f'),\n",
       "  HexBytes('0xb56d99821e302f081e18835f8d163ee0b3454f54ea9605b67f23c34af2f6ddee'),\n",
       "  HexBytes('0xe20014fe82873908adacb6bd67cbcccc4dc48e5415325b04690760c059402419'),\n",
       "  HexBytes('0xeab06adfd82726d692d96cf2775befdaf27e8bef02ceb9e7ffae0d54f5769591'),\n",
       "  HexBytes('0x56eab6a0cee16b8ce4d9e4004985e9150f78625ba91fe148adb9e09028775cde'),\n",
       "  HexBytes('0x1c95e12f8edf42070248c51b3db532f9986f0ce92c619bf3458039dd337ef108'),\n",
       "  HexBytes('0xb41a9c2e94beb0a6d530a8c8a857accbb592d37d73f385725652815ab5942f72'),\n",
       "  HexBytes('0x904ddacf1992b98e09240779f4b85532e909e9ee07016fad64a70854f975ee2b'),\n",
       "  HexBytes('0xc18f0e5ed9873dd30d6757475921f69cb78a0631a75efca7558f35160723f1bf'),\n",
       "  HexBytes('0xca0d613857c3c6e139384739e92de6bcbf4bcf337a80fe220989879ebc6792c3'),\n",
       "  HexBytes('0x7d36982329205a518c87ff9867f66602050f01867d44482d9b7f0c07a822d191'),\n",
       "  HexBytes('0x7b48774321d13331e8f61c538161a424443b334cec01b64179d25f9af208dbea'),\n",
       "  HexBytes('0xb59f79a95da8ea60bc30d3a7f9332c28f853fd8ac83fe0306080eb5ef4226d45'),\n",
       "  HexBytes('0x6c681bf222b02c012d272da07c27027ec792225aa76928ac68759c9ebfaffa9a'),\n",
       "  HexBytes('0x87fdacbdea26221605501fe67ca087534d56dec8d5502f8345fed2e069f70df1'),\n",
       "  HexBytes('0xc7073ad22ddff28b33baa3c46be7d4fc8f5be4ea32e25cc9eaa1770f40ac81e4'),\n",
       "  HexBytes('0x7486c505d56f11c5ab92e223f080b3693f705863fdcd4805dc5e20f25d805bfc'),\n",
       "  HexBytes('0xac79eb92d4808c345045cfee52dfd1dd79190d00ff28431f0709ef450f82f109'),\n",
       "  HexBytes('0xf77857eaecb21841a675b0561390e2fb49cfd9c0faa7ba1c914b657fce8a8919'),\n",
       "  HexBytes('0xfa13a05c261615c5527cc2470185d9fdfb98fe5cb7e623813aa776f77b791a4d'),\n",
       "  HexBytes('0x76e10d815ac6f034cc5c762c915231ad341e972dbe7fabe4c0749ce745dcc470'),\n",
       "  HexBytes('0x4cee21f4f9aaf8a0e5f9c4211924051f721d16bc5c870c5a4cf9b1540f3cb325'),\n",
       "  HexBytes('0x12432db7420b69bc16252ea4ca043e034c6772db806265435fbcdab385f8a781'),\n",
       "  HexBytes('0x182f8875c8ca2e7a72baa9eab23d31dbd75e96a7e4d6c45cbc2b508f5178a79c'),\n",
       "  HexBytes('0xfe74a374f67932052a5e363d3131ba3359f9dcaf67e48504a1657d48935c13c7'),\n",
       "  HexBytes('0x92466400cc097fef14088ef959178d767e26a27f560b2435c754cd7ead6632c6'),\n",
       "  HexBytes('0x30745cea3d9e1c8415b9114ad10c6b5c906a64c3f6661345106b07ea7001d123'),\n",
       "  HexBytes('0xdbff6be3b1238fb5698a762d8d768ddb8ea4b36d206701d457ba9f43e6015699'),\n",
       "  HexBytes('0xfa43edf286417646a3b3c4b58ab8f28d79bf2a10ca8fa15e983aa7fff53b53dd'),\n",
       "  HexBytes('0x5de43466d6c6f0ad0a9129e9f51e4f941df06f5823267c1c77a9bf4e13739a78'),\n",
       "  HexBytes('0xd6796a00809269191c8b0752bab7633232c096596fcacfd5cfe0e5365f036052'),\n",
       "  HexBytes('0x87afe5bc896b948f0ad124633b3012890d6026d4f4b46ef0a2d99e731a83855c'),\n",
       "  HexBytes('0x33e612b0f61e739f7676ad70afa5b71a7a12360f423478066a93d5ff4c54bf1f'),\n",
       "  HexBytes('0x1a3e2fe368a8963e1c5db35872e0de38b2a50f2ba94a5aec5a48ca96a48ae273'),\n",
       "  HexBytes('0xc1f1132eb6722302535469ba599465e8edd139c0a630e1a3b2500f37f2aea6f1'),\n",
       "  HexBytes('0xb6d2c152e47a1bb23ab1b2a543677857b9d5bd13886218eb51a53fb694a7829b'),\n",
       "  HexBytes('0x21fdf0a3c210accd18c1741c4ad7fd66c222dda12fdd6087d4d27bc442487dc7'),\n",
       "  HexBytes('0x0c1617114503b626c2126c4381aee2f3e9b95a4fe5de8c5e1bc973cbefb0482c'),\n",
       "  HexBytes('0xe394068570a4a9ce3d051e5cc7c1700422806112a5b0c7264c7edceb97bb9a17'),\n",
       "  HexBytes('0xe7e3bdad6141681c9c945ce72a2d4a15dd543f25b6192e666db2469c501fe311'),\n",
       "  HexBytes('0xf5558f8e75ac71d2acaddf757841c5206e68a1f9bc8458b0c1902f4982e1a7d0'),\n",
       "  HexBytes('0xbb330e394d38c262e1ab120700b4d22e1ca0f151cd23bb6abda60513dcbe8388'),\n",
       "  HexBytes('0xaa4360ae8b33ec6d8a1929aa797ae43401548ed75e4366899e16d226b2153914'),\n",
       "  HexBytes('0x8ef7480a0a98ab148dc5c0ef84a15507f01f432931630426a596a8aaee8474d2'),\n",
       "  HexBytes('0x4c2a5d15269be0f926c74d1dc3f550012753512d31a094f9606d8d3df01bd2ec'),\n",
       "  HexBytes('0x87de76b4bc40f8ac363cdad5f75a0e0e02fcd9028c53ac904ea8137df388dfb9'),\n",
       "  HexBytes('0x5d11e21fcb81d37d51fd8c068d1307040b4aaff373f66231821beb959faffa7f'),\n",
       "  HexBytes('0xf4db0c283064274f56b8b70bbcebb9ee860f35ce1e88a6ee3b48faccc853b93b'),\n",
       "  HexBytes('0x922bb20b9ea7f0e95d749132de412e825cf7e5a2643fed60d08349546299761d'),\n",
       "  HexBytes('0x1d58e55a97ad18f176cb62d2593fa1fce5bba7453a562c5e64e603900a9afe78'),\n",
       "  HexBytes('0x40b55d6264586a7a69b3d6a36743ebbe50e7574654bb62ccd422e2acd9f67d70'),\n",
       "  HexBytes('0x33c8dc185f2a776725eedef93c1a02897690f2c5f3c7642841071dce3a03556b'),\n",
       "  HexBytes('0x4562fa145b4b1dc12a59f606b3cab499ec6792fbe60acbb65b2dd9fc751c140a'),\n",
       "  HexBytes('0xfcc19edaf73ce21207d4db3f646ddc56ef8a501e629c11727ad01e12f995d595'),\n",
       "  HexBytes('0xd59fb27824f39af7966840638f355f0e6fedb4e659a9d38926d0ed1656647dfa'),\n",
       "  HexBytes('0xe93676db9c99a0241fd2105d108ac79530cb6653b313e7a8992204558b5ef678'),\n",
       "  HexBytes('0x3efd9d54d4ec42ad094e16cc961843153286e8767ee81defafe425dddfb5355e'),\n",
       "  HexBytes('0xd930746761dcadaa981f5a8e73f0ac7a2616383d647012b80da955b88550b65a'),\n",
       "  HexBytes('0xa1a0665882354d389c71fbb739f1e2dd50b088f9326f463e949930b801f9d4b8'),\n",
       "  HexBytes('0xec4e01dcef953ec58b1f98508f8c3d8ab57e963d6ccdb2a44a7bbaf356fddba2'),\n",
       "  HexBytes('0x69712e693030e43af3f165839b874f80707ebdbbdbcf264787d3db5ed5162da2'),\n",
       "  HexBytes('0x851b14ae649ecca13c1c8188911c2bd46a0d389ecdd3a6f713f35c0345777c60'),\n",
       "  HexBytes('0xa9e27e16193484c5a9d605fae67c71c141cfc60eca80e4c00fb12855c426ec5f'),\n",
       "  HexBytes('0xa657d79866933cbb5412e20b8ff9645bde0806043e84dd9a41b1aedeb6773fa1'),\n",
       "  HexBytes('0x726235030321b5fbdafe2c3d4655cff7f78c1cefe35b2786a1f5a41c79da8776'),\n",
       "  HexBytes('0x1e0031bf532daf741e546855e2c8f8e542ef774913b35370ffa8b28439aa7604'),\n",
       "  HexBytes('0xcee16051713b50ad4bf3fca75ea2cbe62171d87452e734db73b4aa544660ac8c'),\n",
       "  HexBytes('0xe93ae9a148b78ad5ecc0e029bd57a8f5438ab3f5ffde549c1b3dda52e578c218'),\n",
       "  HexBytes('0x7bf14aac775be46231fbe3d90051ade73cfe8cce400bb49e886bde273723d8e8'),\n",
       "  HexBytes('0xbdf83a95653a70f6108d588d4350210b94f75a3fceffb08dbad8a9701ecad628'),\n",
       "  HexBytes('0x2567cb678826cf453732907c95c4aecdb5a9e0e7cd059467f05314d1a8a1f259'),\n",
       "  HexBytes('0xd9a6305fdab4d380b77ccbdfe9f19f20807e327093085d3af22b0d1be1164b52'),\n",
       "  HexBytes('0xe3622c4a48c1fd53ffd54812f58671c6ba39facd3fce60cb6c69d57b5cdbd352'),\n",
       "  HexBytes('0x88daeed00ea26e7a7840ce2c821880cc06b034abd2ef6feaf4138a39b1071a66'),\n",
       "  HexBytes('0xffade213c96218feef93adc93fb57bdb074f78182516ab95c035ef6275989199'),\n",
       "  HexBytes('0xc4b1c5f08f3df69df329293a1d492e4b70747da450a62d9bcd319a8ebf4c0db8'),\n",
       "  HexBytes('0x5ab586f8dc468c0889e5790b17addd8aa7ee10e9023ca0609b0099b9a0879d54'),\n",
       "  HexBytes('0x11b50e237035bf2b90b6bf2d04ed71674caacd1dcf9c0d35c55d9cbf7e499ecc'),\n",
       "  HexBytes('0x7f325a0237ed4a05ed0c6d69a88a8f233c6707bf3d9dbdbbba261336acc14257'),\n",
       "  HexBytes('0x45108cf288419d794a982af3755a35d6705de17f2883a081b3f34ab2700a968d'),\n",
       "  HexBytes('0x13d52a9be58bec7800f4e99fbe88e1405cdf75abdf0a88ea00b09cd425c746a5'),\n",
       "  HexBytes('0x35d6c632a08ad2be6a1e4b8066a941aab40e35927abd1e0892ac4e6a5a1cfda8'),\n",
       "  HexBytes('0x2ca90901f6db347b01c54fe266a7516bfe376f7d8b10d393d9fe02aafc85c67a'),\n",
       "  HexBytes('0x3ae207a4f01d0a27174dc08a7f83379d330f1abf3d5460ad3bba9a98fffceeeb'),\n",
       "  HexBytes('0xcd31e9f574c00428ffab9a330067c7e25c999ac1a3e083840ce83176d6b857ab'),\n",
       "  HexBytes('0x9bb4d03b4da0ba72f7c81b9403f8c567b8bd41c8ff6f1c98305bf4853806dfa7'),\n",
       "  HexBytes('0xdf91d8d95cf7d88b715029ef2cb76e2cbeda42185f3800f9b8a6a63e2d2c0a0e'),\n",
       "  HexBytes('0x9273ca426a4d5a5b4f66afbee8653c99dc068115d2f0d8519af902fd55a4d2e9'),\n",
       "  HexBytes('0xb456a562d0a6548e6daf727bfafeb9044c6d903df1f01384f14c8fe21861e49c'),\n",
       "  HexBytes('0x2ccd71ce0872989dcb5018cf4cfc5efa4e8f9adc55e09d20c067cbb4d73658ea'),\n",
       "  HexBytes('0xbe7e339272561f7a2453fdee8e92372272c2417e114c2a5a4962f54b6cd337b9'),\n",
       "  HexBytes('0xb2595d2ed57cec74e5d9b81ac4e2e1f3e358cc0de419fddbff6e653c0d1a3e87'),\n",
       "  HexBytes('0xb9e5db1fab290edd9b879dba2ea99c0ed095a3136736ef77d679446dfd725f51'),\n",
       "  HexBytes('0x0dc20523cc8f80e35d762d26e12e2874eb615da8fbc2523b775b45a0e4d8581f'),\n",
       "  HexBytes('0xbb63acaf572656976a6fb14ea211c6e7d50decf9c3335c06c41e7274acaefaed'),\n",
       "  HexBytes('0xb06114b2a72859b72524cbbff42a172bb13379d102507cc7764aee5f9259e95b'),\n",
       "  HexBytes('0x19b25a14986e47687d97785f1beb9c0c49c4d77790531fc82a9cce6412b2cb98'),\n",
       "  HexBytes('0x48237fa64cf0e3c22b4cdf9e54c76cd3da907cadaea1f501b403b771b38b8d4a'),\n",
       "  HexBytes('0x5993b902898b5094221a76a410c70a980a1d4878933f9f7d6960d6460dae446e')],\n",
       " 'transactionsRoot': HexBytes('0x189ccaf7bddfef9599c00ff3ddd231d9655116c4bac77c9cbfee35ad93c4faf7'),\n",
       " 'uncles': []})"
      ]
     },
     "execution_count": 2,
     "metadata": {},
     "output_type": "execute_result"
    }
   ],
   "source": [
    "w3 = Web3(IPCProvider('/shakespeare/sandipan/Ethereum/.ethereum/geth.ipc'))\n",
    "w3.eth.getBlock('latest')"
   ]
  },
  {
   "cell_type": "code",
   "execution_count": 3,
   "metadata": {
    "collapsed": true
   },
   "outputs": [],
   "source": [
    "#Read the levels into data frame\n",
    "genesis = pd.read_csv('genesisLevel.csv')\n",
    "genesis1 = pd.read_csv('genesisLevel_1.csv')\n",
    "genesis = genesis.append(genesis1, ignore_index=True)"
   ]
  },
  {
   "cell_type": "code",
   "execution_count": 4,
   "metadata": {
    "collapsed": true
   },
   "outputs": [],
   "source": [
    "from multiprocessing import Process,Manager\n",
    "manager = Manager()\n",
    "genesisLevel = manager.dict() #stores the cumulative Balance of a level\n",
    "genesisBalance = manager.dict() #stores the balance per account\n",
    "curr_level = 3"
   ]
  },
  {
   "cell_type": "code",
   "execution_count": 5,
   "metadata": {
    "collapsed": true
   },
   "outputs": [],
   "source": [
    "def getBalance(_addrList, _lvl ):\n",
    "    for addr in _addrList:\n",
    "        addCSA = Web3.toChecksumAddress(addr)\n",
    "        try:\n",
    "            balance = w3.eth.getBalance(addCSA)\n",
    "        except:\n",
    "            retries.append(addCSA)\n",
    "            balance = 0 #in case balance was not set previously\n",
    "        genesisLevel[_lvl] = genesisLevel.get(_lvl,0) + balance #look up the current balance, if no entry return 0\n",
    "        genesisBalance[addr] = balance\n",
    "    print('The length of the retries is %i' %len(retries))"
   ]
  },
  {
   "cell_type": "code",
   "execution_count": null,
   "metadata": {},
   "outputs": [
    {
     "name": "stdout",
     "output_type": "stream",
     "text": [
      "looking into level:  3\n",
      "obtained addresses for the next level\n",
      "addresses obtained:  3563436\n"
     ]
    }
   ],
   "source": [
    "#Compute the cumulative and individual balances for each level\n",
    "maxLevel = max(genesis.itertuples(), key=lambda x:x[2] )[2]\n",
    "retries = []\n",
    "\n",
    "\n",
    "while curr_level <= maxLevel:\n",
    "    print('looking into level: ',curr_level)\n",
    "    jobs = []\n",
    "    addresses = [addr for (i,addr,lvl) in genesis.itertuples() if lvl == curr_level]\n",
    "    print('obtained addresses for the next level')\n",
    "    print('addresses obtained: ',len(addresses))\n",
    "    if len(addresses)>100:\n",
    "        job_cnt = 5\n",
    "    else:\n",
    "        job_cnt = 1\n",
    "   \n",
    "    partition_size = int(len(addresses)/job_cnt) + 1\n",
    "    start_i = 0\n",
    "    end_i = start_i + partition_size\n",
    "    for i in range(job_cnt):\n",
    "        if i==job_cnt-1:\n",
    "            p = Process(target=getBalance, args=(addresses[start_i:],curr_level))\n",
    "        else:\n",
    "            p = Process(target=getBalance, args=(addresses[start_i:end_i],curr_level))\n",
    "        start_i = end_i\n",
    "        end_i = start_i + partition_size\n",
    "        jobs.append(p)\n",
    "        p.start()\n",
    "\n",
    "    for proc in jobs:\n",
    "        proc.join()\n",
    "    \n",
    "    \n",
    "    print('filled the dictionary level values')\n",
    "    ft = open('balancesLvl.csv','a')\n",
    "    for addr in addresses:\n",
    "        currentAddr = addr\n",
    "        try:\n",
    "            ft.write(currentAddr+','+str(genesisBalance[currentAddr])+','+str(curr_level))\n",
    "        except:\n",
    "            ft.write('Error with the Adress: '+ currentAddr)\n",
    "        ft.write('\\n')\n",
    "    ft.close()\n",
    "    \n",
    "    curr_level+=1"
   ]
  },
  {
   "cell_type": "code",
   "execution_count": 1,
   "metadata": {
    "collapsed": true
   },
   "outputs": [
    {
     "ename": "NameError",
     "evalue": "name 'plt' is not defined",
     "output_type": "error",
     "traceback": [
      "\u001b[0;31m---------------------------------------------------------------------------\u001b[0m",
      "\u001b[0;31mNameError\u001b[0m                                 Traceback (most recent call last)",
      "\u001b[0;32m<ipython-input-1-c9dbd897344a>\u001b[0m in \u001b[0;36m<module>\u001b[0;34m()\u001b[0m\n\u001b[0;32m----> 1\u001b[0;31m \u001b[0mplt\u001b[0m\u001b[0;34m.\u001b[0m\u001b[0mloglog\u001b[0m\u001b[0;34m(\u001b[0m\u001b[0mgenesisLevel\u001b[0m\u001b[0;34m.\u001b[0m\u001b[0mvalues\u001b[0m\u001b[0;34m(\u001b[0m\u001b[0;34m)\u001b[0m\u001b[0;34m)\u001b[0m\u001b[0;34m\u001b[0m\u001b[0m\n\u001b[0m\u001b[1;32m      2\u001b[0m \u001b[0mplt\u001b[0m\u001b[0;34m.\u001b[0m\u001b[0mshow\u001b[0m\u001b[0;34m(\u001b[0m\u001b[0;34m)\u001b[0m\u001b[0;34m\u001b[0m\u001b[0m\n",
      "\u001b[0;31mNameError\u001b[0m: name 'plt' is not defined"
     ]
    }
   ],
   "source": [
    "plt.loglog(genesisLevel.values())\n",
    "plt.show()"
   ]
  },
  {
   "cell_type": "code",
   "execution_count": null,
   "metadata": {
    "collapsed": true
   },
   "outputs": [],
   "source": [
    "#compute the gini coefficient of the levels\n",
    "def giniCoefficient(df_balance): # balance is pandas table....\n",
    "    balance = df_balance.Balance.sort_values()\n",
    "    b = balance.values # convert to a numpy array\n",
    "    n = b.size\n",
    "    num = sum(list(map(lambda x: (n-x[0])*x[1], enumerate(b))))\n",
    "    den = b.sum()\n",
    "    return (n+1-2*(num/den))/n"
   ]
  },
  {
   "cell_type": "code",
   "execution_count": null,
   "metadata": {
    "collapsed": true
   },
   "outputs": [],
   "source": [
    "address = np.append(df_b.From.unique(),df_b.To.unique())"
   ]
  },
  {
   "cell_type": "code",
   "execution_count": null,
   "metadata": {
    "collapsed": true
   },
   "outputs": [],
   "source": [
    "blockNum = 100\n",
    "for i in range(len(address)):\n",
    "    if address[i]!='ethereum':\n",
    "        account = Web3.toChecksumAddress(address[i])\n",
    "        balance = w3.eth.getBalance(account,blockNum)\n",
    "        print(address[i],balance)"
   ]
  },
  {
   "cell_type": "code",
   "execution_count": null,
   "metadata": {
    "collapsed": true
   },
   "outputs": [],
   "source": [
    "def fillBalanceTable(blockNum,fname):\n",
    "    df_b = df[df['Block']==blockNum][['From','To']]\n",
    "    address = np.append(df_b.From.unique(),df_b.To.unique())\n",
    "    #with open(fname,'a') as ft:\n",
    "    for i in range(len(address)):\n",
    "        if address[i]!='ethereum' and address[i]!='0':\n",
    "            account = Web3.toChecksumAddress(address[i])\n",
    "            balance = w3.eth.getBalance(account,blockNum)\n",
    "            ft = open(fname,'a')\n",
    "            ft.write(account+','+str(balance)+','+str(blockNum))\n",
    "            ft.write('\\n')\n",
    "            ft.close()"
   ]
  },
  {
   "cell_type": "code",
   "execution_count": null,
   "metadata": {
    "collapsed": true
   },
   "outputs": [],
   "source": [
    "fillBalanceTable(10000)"
   ]
  },
  {
   "cell_type": "code",
   "execution_count": null,
   "metadata": {
    "collapsed": true
   },
   "outputs": [],
   "source": [
    "df[df.Block==10000]"
   ]
  },
  {
   "cell_type": "code",
   "execution_count": null,
   "metadata": {
    "collapsed": true
   },
   "outputs": [],
   "source": [
    "fs = open('blockAccountBalance1.csv','w')\n",
    "fs.write('Account,Balance,Block\\n')\n",
    "fs.close()"
   ]
  },
  {
   "cell_type": "code",
   "execution_count": null,
   "metadata": {
    "collapsed": true
   },
   "outputs": [],
   "source": [
    "for i in range(1,1000):\n",
    "    fillBalanceTable(i,'blockAccountBalance.csv')"
   ]
  },
  {
   "cell_type": "code",
   "execution_count": null,
   "metadata": {
    "collapsed": true
   },
   "outputs": [],
   "source": [
    "df_1 = pd.read_csv('blockAccountBalance.csv')"
   ]
  },
  {
   "cell_type": "code",
   "execution_count": null,
   "metadata": {
    "collapsed": true
   },
   "outputs": [],
   "source": [
    "df_1.head()"
   ]
  },
  {
   "cell_type": "code",
   "execution_count": null,
   "metadata": {
    "collapsed": true
   },
   "outputs": [],
   "source": [
    "df_1.Block.max()"
   ]
  },
  {
   "cell_type": "code",
   "execution_count": null,
   "metadata": {
    "collapsed": true
   },
   "outputs": [],
   "source": [
    "for i in range(1000,5001):\n",
    "    fillBalanceTable(i,'blockAccountBalance.csv')"
   ]
  },
  {
   "cell_type": "code",
   "execution_count": null,
   "metadata": {
    "collapsed": true
   },
   "outputs": [],
   "source": [
    "def createBalanceCSV(start,end,fname):\n",
    "    for i in range(start,end+1):\n",
    "        fillBalanceTable(i,fname)\n",
    "        print('finished for block: ',i)"
   ]
  },
  {
   "cell_type": "code",
   "execution_count": null,
   "metadata": {
    "collapsed": true
   },
   "outputs": [],
   "source": [
    "from multiprocessing import Process"
   ]
  },
  {
   "cell_type": "code",
   "execution_count": null,
   "metadata": {
    "collapsed": true
   },
   "outputs": [],
   "source": [
    "jobs = []"
   ]
  },
  {
   "cell_type": "code",
   "execution_count": null,
   "metadata": {
    "collapsed": true
   },
   "outputs": [],
   "source": [
    "jobs.append(Process(target=createBalanceCSV, args=(5305,7500,\"blockAccountBalance.csv\")))\n",
    "jobs.append(Process(target=createBalanceCSV, args=(7501,10000,\"blockAccountBalance.csv\")))\n",
    "jobs.append(Process(target=createBalanceCSV, args=(10001,12500,\"blockAccountBalance.csv\")))\n",
    "jobs.append(Process(target=createBalanceCSV, args=(12501,15000,\"blockAccountBalance.csv\")))"
   ]
  },
  {
   "cell_type": "code",
   "execution_count": null,
   "metadata": {
    "collapsed": true
   },
   "outputs": [],
   "source": [
    "for j in jobs:\n",
    "    j.start()\n",
    "    for j in jobs:\n",
    "        j.join()"
   ]
  },
  {
   "cell_type": "code",
   "execution_count": null,
   "metadata": {
    "collapsed": true
   },
   "outputs": [],
   "source": [
    "df[df.Block==5305]"
   ]
  },
  {
   "cell_type": "code",
   "execution_count": null,
   "metadata": {
    "collapsed": true
   },
   "outputs": [],
   "source": [
    "import numpy as np\n",
    "def balanceAccountBlock(blockNum, df): # retrieve balances of all accounts given a block number\n",
    "    df_b = df[df['Block']<=blockNum][['From','To']]\n",
    "    address = np.append(df_b.From.unique(),df_b.To.unique())\n",
    "    address = list(set(address))\n",
    "    print(\"addresses to look into: \",len(address))\n",
    "    with open('AccountBalanace'+str(blockNum)+'.csv','w') as ft:\n",
    "        ft.write('Account,Balance,Block')\n",
    "        ft.write('\\n')\n",
    "        for add in address:\n",
    "            if add!='ethereum' and add!='0':\n",
    "                try:\n",
    "                    account = Web3.toChecksumAddress(add)\n",
    "                    balance = w3.eth.getBalance(account,blockNum)\n",
    "                    ft.write(add+','+str(balance)+','+str(blockNum))\n",
    "                    ft.write('\\n')\n",
    "                except:\n",
    "                    print(add)\n",
    "    "
   ]
  },
  {
   "cell_type": "code",
   "execution_count": null,
   "metadata": {
    "collapsed": true
   },
   "outputs": [],
   "source": [
    "balanceAccountBlock(100000,df)"
   ]
  },
  {
   "cell_type": "code",
   "execution_count": null,
   "metadata": {
    "collapsed": true
   },
   "outputs": [],
   "source": [
    "account = Web3.toChecksumAddress('c47d9e6c75d388aeb92574429dad43a148f2f3ea')"
   ]
  },
  {
   "cell_type": "code",
   "execution_count": null,
   "metadata": {
    "collapsed": true
   },
   "outputs": [],
   "source": [
    "x = Web3.fromWei(25000000000000,'ether')"
   ]
  },
  {
   "cell_type": "code",
   "execution_count": null,
   "metadata": {
    "collapsed": true
   },
   "outputs": [],
   "source": [
    "df_balance.Balance = df_balance.Balance.apply(lambda x: float(x))"
   ]
  },
  {
   "cell_type": "code",
   "execution_count": null,
   "metadata": {
    "collapsed": true
   },
   "outputs": [],
   "source": [
    "df[df.To=='6.12416344436736E+039']"
   ]
  },
  {
   "cell_type": "code",
   "execution_count": null,
   "metadata": {
    "collapsed": true
   },
   "outputs": [],
   "source": [
    "balance = df_balance.Balance.sort_values()"
   ]
  },
  {
   "cell_type": "code",
   "execution_count": null,
   "metadata": {
    "collapsed": true
   },
   "outputs": [],
   "source": [
    "G_coeff = 0.0\n",
    "balance.iloc[0]"
   ]
  },
  {
   "cell_type": "code",
   "execution_count": null,
   "metadata": {
    "collapsed": true
   },
   "outputs": [],
   "source": [
    "n = balance.count()"
   ]
  },
  {
   "cell_type": "code",
   "execution_count": null,
   "metadata": {
    "collapsed": true
   },
   "outputs": [],
   "source": [
    "n"
   ]
  },
  {
   "cell_type": "code",
   "execution_count": null,
   "metadata": {
    "collapsed": true
   },
   "outputs": [],
   "source": [
    "balance.iloc[12623]"
   ]
  },
  {
   "cell_type": "code",
   "execution_count": null,
   "metadata": {
    "collapsed": true
   },
   "outputs": [],
   "source": [
    "b = balance.values"
   ]
  },
  {
   "cell_type": "code",
   "execution_count": null,
   "metadata": {
    "collapsed": true
   },
   "outputs": [],
   "source": [
    "b"
   ]
  },
  {
   "cell_type": "code",
   "execution_count": null,
   "metadata": {
    "collapsed": true
   },
   "outputs": [],
   "source": [
    "b.size"
   ]
  },
  {
   "cell_type": "code",
   "execution_count": null,
   "metadata": {
    "collapsed": true
   },
   "outputs": [],
   "source": [
    "b.cumsum()"
   ]
  },
  {
   "cell_type": "code",
   "execution_count": null,
   "metadata": {
    "collapsed": true
   },
   "outputs": [],
   "source": [
    "a = np.array([1,2,3,4,5,6])"
   ]
  },
  {
   "cell_type": "code",
   "execution_count": null,
   "metadata": {
    "collapsed": true
   },
   "outputs": [],
   "source": [
    "b.sum()"
   ]
  },
  {
   "cell_type": "code",
   "execution_count": null,
   "metadata": {
    "collapsed": true
   },
   "outputs": [],
   "source": [
    "A = [1,2,3,4,5]\n",
    "n = len(A)+1\n",
    "c = map(lambda(i,x):i*x, enumerate(A))"
   ]
  },
  {
   "cell_type": "code",
   "execution_count": null,
   "metadata": {
    "collapsed": true
   },
   "outputs": [],
   "source": [
    "a = [0, 0, 0, 0, 1]\n",
    "a.sort()\n",
    "n = len(a)\n",
    "num = sum(list(map(lambda x: (n-x[0])*x[1], enumerate(a))))\n",
    "den = sum(a)"
   ]
  },
  {
   "cell_type": "code",
   "execution_count": null,
   "metadata": {
    "collapsed": true
   },
   "outputs": [],
   "source": [
    "(n+1 - 2*(num/den))/n"
   ]
  },
  {
   "cell_type": "code",
   "execution_count": null,
   "metadata": {
    "collapsed": true
   },
   "outputs": [],
   "source": [
    "n = b.size\n",
    "answer = list(map(lambda x: (n-x[0])*x[1], enumerate(b)))"
   ]
  },
  {
   "cell_type": "code",
   "execution_count": null,
   "metadata": {
    "collapsed": true
   },
   "outputs": [],
   "source": [
    "a = np.array(a)\n",
    "for i,j in enumerate(a):\n",
    "    print(i,j)"
   ]
  },
  {
   "cell_type": "code",
   "execution_count": null,
   "metadata": {
    "collapsed": true
   },
   "outputs": [],
   "source": [
    "(n+1-2*sum(answer)/b.sum())/n"
   ]
  },
  {
   "cell_type": "code",
   "execution_count": null,
   "metadata": {
    "collapsed": true
   },
   "outputs": [],
   "source": [
    "giniCoefficient(df_balance)"
   ]
  },
  {
   "cell_type": "code",
   "execution_count": null,
   "metadata": {
    "collapsed": true
   },
   "outputs": [],
   "source": [
    "df.columns"
   ]
  },
  {
   "cell_type": "code",
   "execution_count": null,
   "metadata": {
    "collapsed": true
   },
   "outputs": [],
   "source": [
    "x = df.groupby('From').count()['To']\n",
    "y = df.groupby('To').count()['From']"
   ]
  },
  {
   "cell_type": "code",
   "execution_count": null,
   "metadata": {
    "collapsed": true
   },
   "outputs": [],
   "source": [
    "df[df['From']=='0004b15be8cb573a7be023e203e268dbcffd302b']"
   ]
  },
  {
   "cell_type": "code",
   "execution_count": null,
   "metadata": {
    "collapsed": true
   },
   "outputs": [],
   "source": [
    "z = pd.concat([x,y])"
   ]
  },
  {
   "cell_type": "code",
   "execution_count": null,
   "metadata": {
    "collapsed": true
   },
   "outputs": [],
   "source": [
    "df[df['To']=='0004b15be8cb573a7be023e203e268dbcffd302b']"
   ]
  },
  {
   "cell_type": "code",
   "execution_count": null,
   "metadata": {
    "collapsed": true
   },
   "outputs": [],
   "source": [
    "Web3.isAddress('fee4deb01301a2633e0046305a31fca8d04f416c')"
   ]
  },
  {
   "cell_type": "code",
   "execution_count": null,
   "metadata": {
    "collapsed": true
   },
   "outputs": [],
   "source": [
    "add = Web3.toChecksumAddress('ffcd9cae6d9f54fd8ae05296f839892677ff6eaa')"
   ]
  },
  {
   "cell_type": "code",
   "execution_count": null,
   "metadata": {
    "collapsed": true
   },
   "outputs": [],
   "source": [
    "len(w3.eth.getCode(add))"
   ]
  },
  {
   "cell_type": "code",
   "execution_count": null,
   "metadata": {
    "collapsed": true
   },
   "outputs": [],
   "source": [
    "def isAccount(address):\n",
    "    cs_add = Web3.toChecksumAddress(address)\n",
    "    if len(w3.eth.getCode(cs_add))==0:\n",
    "        return True\n",
    "    return False"
   ]
  }
 ],
 "metadata": {
  "kernelspec": {
   "display_name": "Python 3",
   "language": "python",
   "name": "python3"
  },
  "language_info": {
   "codemirror_mode": {
    "name": "ipython",
    "version": 3
   },
   "file_extension": ".py",
   "mimetype": "text/x-python",
   "name": "python",
   "nbconvert_exporter": "python",
   "pygments_lexer": "ipython3",
   "version": "3.6.3"
  }
 },
 "nbformat": 4,
 "nbformat_minor": 2
}
