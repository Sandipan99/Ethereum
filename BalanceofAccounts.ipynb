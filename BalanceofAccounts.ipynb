{
 "cells": [
  {
   "cell_type": "code",
   "execution_count": 1,
   "metadata": {},
   "outputs": [],
   "source": [
    "from web3 import Web3, IPCProvider"
   ]
  },
  {
   "cell_type": "code",
   "execution_count": 2,
   "metadata": {},
   "outputs": [],
   "source": [
    "w3 = Web3(IPCProvider('/home/sandipan/.ethereum/geth.ipc'))"
   ]
  },
  {
   "cell_type": "code",
   "execution_count": 3,
   "metadata": {},
   "outputs": [
    {
     "data": {
      "text/plain": [
       "AttributeDict({'difficulty': 1022306478107570,\n",
       " 'extraData': HexBytes('0x65746865726d696e652d757332'),\n",
       " 'gasLimit': 6680831,\n",
       " 'gasUsed': 6662976,\n",
       " 'hash': HexBytes('0x01e66a59aa554541b806c9c59f9a8dd82a647679b1f14d726abd0cf018bc03aa'),\n",
       " 'logsBloom': HexBytes('0x1000112400200138104080000181440000061000200320a4202001010108063010028a19002000000100429001103800404020001842608080042504220008004200020006001001e0104808304000000e408248202d000000810050000021802010c088960902000400008000001800822400004800010000262c1080041108a5a1020c800000004080000044011840001c9110008820d31004a402480400008006000002020008860100080404000020018881a0082600011081604802c010100000a280000022458c000044024e220204010000020c2008400008000021004180100000120010006000669000000801bd0800a42000084000000811000812'),\n",
       " 'miner': '0xEA674fdDe714fd979de3EdF0F56AA9716B898ec8',\n",
       " 'mixHash': HexBytes('0xdadc422814a92c4a1d2eeb9423df7b43b39d9c1b07b3cdea824690a49219e308'),\n",
       " 'nonce': HexBytes('0xcf2238e002620bbc'),\n",
       " 'number': 3981771,\n",
       " 'parentHash': HexBytes('0x64bb32c9ef79778175895f1c0f26bef836e82f05dbe63b9b2cd4278eff6cb607'),\n",
       " 'receiptsRoot': HexBytes('0x6fe6b30be9a5b94b1b6f94042b91ba2f9c13ae714eda1663d34d828b93b79401'),\n",
       " 'sha3Uncles': HexBytes('0x1dcc4de8dec75d7aab85b567b6ccd41ad312451b948a7413f0a142fd40d49347'),\n",
       " 'size': 23912,\n",
       " 'stateRoot': HexBytes('0x431ede2e16cac912ef3af7a59b9c65ff86a4228f7034ed5d1ce7e2d17c294561'),\n",
       " 'timestamp': 1499323949,\n",
       " 'totalDifficulty': 449866350753967279317,\n",
       " 'transactions': [HexBytes('0x2588d8be8635820d38cde17fffa3a1f6fe8419c45c5279a5fb11451dd2b80d0c'),\n",
       "  HexBytes('0xa2002a68f53dddb1f1ade0b7899142bbba59d270ce2ea790f39426a206eec7fa'),\n",
       "  HexBytes('0x2e2b26bc9cc614362c36c9cf22835ec5d791d0126ac522a78984088ee56a2a70'),\n",
       "  HexBytes('0x61a434d644fbb80459e637f279e9c7baf9b2006ecc2b84af3889f3ad67091d33'),\n",
       "  HexBytes('0xaaa5752875e0da10bb3d63cce59dfaad5815cb2dbb51f694f833981731bd903f'),\n",
       "  HexBytes('0x85c4c0b67b423b363fad8fce8873655b78daa4831b7db68d6402b287ee9ac788'),\n",
       "  HexBytes('0x19d93fbdcd7c93cc54cc22dc4640035e83bc0385b557424c57648847e52d05be'),\n",
       "  HexBytes('0x711484a8759905da9e05739250bdaaa0282add8de4ff74e29afc9a9a6ecc689f'),\n",
       "  HexBytes('0x7cf83f28f64ede903fdefceee4d8439018931a8b36cf5f10a3f0dcda49239c3c'),\n",
       "  HexBytes('0x008c9913c300bc34a2d30a763ecf2bb85e6ca44a872fb662cebb169e469ae728'),\n",
       "  HexBytes('0x01aca4b885e9224c36f7203e2bd5eb3a68b27a8c461460221cf8cc479cc75731'),\n",
       "  HexBytes('0x087377d9104a7a01cbdac38bdfc6e0785f077223c0398011e50dbdda6e56a083'),\n",
       "  HexBytes('0x12fa9d4e39e40138cf06f8e432b5207fc17cb62ef03d602495e1db8e645169c6'),\n",
       "  HexBytes('0x14ec57dc7c70f0074a1d21c0b14abf7f8d186b98cefb71eb04c5760b23de128f'),\n",
       "  HexBytes('0x179e9134483415027cc8a04c3520b0bbce34b3e0746b7abeb17b615603529414'),\n",
       "  HexBytes('0x2009770c169cf3b730d3fcacad6348442bda8781272de70bed27e75d71351f76'),\n",
       "  HexBytes('0x291752374d948e557de9cdc792805b2cd0f471b823898d96e74a24a03a738f07'),\n",
       "  HexBytes('0x2c786c131c12305852e95003e07355a0acde61b3eff95438fd61dbe37c0935f3'),\n",
       "  HexBytes('0x2df652b21933809ebe75ef54c1b0c10dcd856576ee5a65947f564cdb9da76b69'),\n",
       "  HexBytes('0x324b05820c54eb1a47445aa4d3150cea6bd95ee41e729cf64d00343efb1dcdb1'),\n",
       "  HexBytes('0x3298805dd3be56f61407df1f93b416ceeb38572182300981b96502488fb86ffa'),\n",
       "  HexBytes('0x345505062df932e17e984fe0308608f3626ec377facdae499799b1336e448463'),\n",
       "  HexBytes('0x449632529a150d4ac7e4aaa87528a3e1e79cce2dbaf66643ae6cf8c7dd227abc'),\n",
       "  HexBytes('0x44b7803d672f50326db4a3c50bb7d0c6c3cf2e4420b1d92e37e4c76edcb200ba'),\n",
       "  HexBytes('0x58823ac9339bda211c9b145bb3a4706295492587d801f7de39e1ccf0071dd70b'),\n",
       "  HexBytes('0x59e7dae137758ecc83c705e41b6d9d41e374a07662f3b9008b1a217e1ee289b7'),\n",
       "  HexBytes('0x6b4b656e22acbda3707c6f24d1a6872cae25070777647b3f4bbdf31fd060f6ae'),\n",
       "  HexBytes('0x72d1532779829c5661c880d34ba9e796285264fa10b13c3a7850d34b5f4501c9'),\n",
       "  HexBytes('0x79a00f1b7492c9a9876f8d393980f7db0ecd3894f166fec52b837c81ffbe1d68'),\n",
       "  HexBytes('0x8078caf9e5893d1624802a7ee5c8c6dd8f5b3b9b66ebac9069cfc0969481d37d'),\n",
       "  HexBytes('0x81f9943928c53a88806e4b4e6a35e6700ae982d6f7d2c743cd9ac89bd549cb68'),\n",
       "  HexBytes('0x820c8953842acdde33c8d403253260d93119825842c2b865e426a5a1e6cf1bf7'),\n",
       "  HexBytes('0x83da6015bf33e6b382d359327ae6d38c7fbb7ae01cb212e9114d8a40fd575e95'),\n",
       "  HexBytes('0x8f8a9d2cda3fde7d5d9944cea3421387ce8d6b8ecbded2337902c872c1da1818'),\n",
       "  HexBytes('0x951620a4311bc4b9723c49d0b58721ba4050d15a268f96bbe7a0c825d3b41d53'),\n",
       "  HexBytes('0x975cfe68138ebb849aaf31ed7b91dc5dc1ce9aa070980b5602fbcbf56861dbf9'),\n",
       "  HexBytes('0x9a3150467cad9d724012813acb9f2cbc86768ffb13a198181c5a301b23af9b37'),\n",
       "  HexBytes('0xa48c51ca965f391fb63d01156d8175217608556749fdfd00d1b7a2aa507868ef'),\n",
       "  HexBytes('0xa5388706f77e61b384cd8a329580d59d15a80c24154e3353574ef71ced225b64'),\n",
       "  HexBytes('0xa6c691b1bd0fa363c9444b731e0c6fa9dedee7de3b7d1c1ea8510c51cdc89b06'),\n",
       "  HexBytes('0xaad6c5ef93d9cde57af657470196544180e0a3d4c643d8bf261fb9b8d40337a7'),\n",
       "  HexBytes('0xb1f3d16e970be09c22e773b0020320190a6367106426ef6f92b758fe7eeec725'),\n",
       "  HexBytes('0xb6eb891989677d54c4f097ac1d78522969229be2a280923de9c7e12f19c05048'),\n",
       "  HexBytes('0xbb30e06c405732ed303497a917c7dcaae93d005317284d4cee8a619d47170b56'),\n",
       "  HexBytes('0xc227157512bcb287b3ffacf704bd57ea50203b117d4fb8d9a9d10ea82c68e8a1'),\n",
       "  HexBytes('0xc742c8085464435ff8f5888b5384282c7d7dc9bd4ce460d6090b1adacbe64d68'),\n",
       "  HexBytes('0xd515254bd099ac0af672b1747a4940bead766ff1c978658cd5881f5d463cfdc9'),\n",
       "  HexBytes('0xdbeb5c7bdb843c234e18e6e59cde1ee3f4319a8807cb57b1e2da53985d4bd203'),\n",
       "  HexBytes('0xdc015ac5a2cf8e9514b42a1c40df5f05368423898c76994bc5feac85580f085b'),\n",
       "  HexBytes('0xe06ac1180f75803d8c01b9a685aebb7c05215964e1895e683d72b54dda093063'),\n",
       "  HexBytes('0xe10e0730c66eedfece647b91c4a0f2bb7e1a848dd69f61d5233c6bce852e4055'),\n",
       "  HexBytes('0xe3ebbbca051285a66612f5b21c59217f103c3b0eba6d312ade0116d1063177a6'),\n",
       "  HexBytes('0xe4fe8878a9bc4c2d4753cba9a79ca154daade4f898b64355de56d3658aea5abf'),\n",
       "  HexBytes('0xe69b9924b121a636255e8957bbde729ee038894bf89c512cec3aa4448ba65b42'),\n",
       "  HexBytes('0xe77846283206bd32e50447c05b49ad0aca3ebb09a92da8e25bbaba4b5a0062c9'),\n",
       "  HexBytes('0xe93b43c23305170c82305cf64c245d135d397cbcc4ea872b6cd2d4c76be30318'),\n",
       "  HexBytes('0xe968758240f650afa8fa379cfb06ba4ea5efb5b6c5c2b6cf96321f86ac884555'),\n",
       "  HexBytes('0xeb236c36766364807a26a7f909d02be8c1786f81fda07b6812ece1701de174a4'),\n",
       "  HexBytes('0xf2f5dcb8d1d28b88aabb45130a9308333b60253414f70c3d9c5f2928cf9c83ac'),\n",
       "  HexBytes('0xf6b7a4b08c4ae642f96234bc14becd1782f6e9844fa203aacbc19ad8004bea3d'),\n",
       "  HexBytes('0xf96b46a7d37b3d7a87c0111e1e4950590332bb5bb7730064822bd8477ff8cd19'),\n",
       "  HexBytes('0xf9ad8dba4368df4e8630e2ffcab4ac1d1e09ebfe3d483ab2657425528fd1d023'),\n",
       "  HexBytes('0xf9b83023d8d245dc5df99d2bfe4451069622cca930a22b6555d31b47cf7548ed'),\n",
       "  HexBytes('0xffbdd08b74d9a0276321e0488883621f3dd7bdd5d14df7e3029c2e1abf52eb70'),\n",
       "  HexBytes('0xa9252c0e0dc22c2bb453ba1dfb83b7f67a2d77c08b4d6c9ecdb37f35297b2db6'),\n",
       "  HexBytes('0xf9028af2a7c63ce24fdacda4743eb0629e11bfb4e6f58371e6804abed8d6465f'),\n",
       "  HexBytes('0x1b5ae528fdf071e3c1e2b0f75b96de64bf03102a0872c09e3f3c2958b622a5e2'),\n",
       "  HexBytes('0x17f48b62eee2c6b487ccf60500f051bb096daad42050c94ab829e2bd9abc45d3'),\n",
       "  HexBytes('0x65480f35ceccc1676fa09e9bef79cc39ab281cbf062bee634b0cdfb4d129d021'),\n",
       "  HexBytes('0x65cdbb63c06bda59fe2d2e1332c89df9b8c14c57d71d309c250942e0ba8d50da'),\n",
       "  HexBytes('0x664d9c87c870503c92d91e68061b040fdbd1a491b398fa1c53480ba1d30984fd'),\n",
       "  HexBytes('0x674d5bb3d1f3d15388ca1af4ddd0c22bb05024d0ce1a9887ed3af1e6d938ba82'),\n",
       "  HexBytes('0x69d9dcd849352d31e7392f6bee9f9e5355d132d228a58b36229163b088cfb1d7'),\n",
       "  HexBytes('0x70bcbd857c26a4162e4e479ecd74c06189030d0fe85274bb8e5ca692bcf8a507'),\n",
       "  HexBytes('0x81bb3d689de629c86a36b38d923cc95e81a0bf32db6e17f6e434c61a265e6b75'),\n",
       "  HexBytes('0xa740c2b90cff7ac2721c1c074c2a4ca107cb63a98ed89bd5c26d12ce354d812d'),\n",
       "  HexBytes('0xae29636078532f42257a0fe0601df4042ba802990c6390bac51f27afc841f9cc'),\n",
       "  HexBytes('0xaf9b8a09190b04a47c6fc66fe90e686cd3bc9f98ee5b4b40fd8cc13cfcc22b61'),\n",
       "  HexBytes('0xb7423dad3c3c7d48a31d63c49c9b90a1d84df2dd5097a5710f91853f0353e35a'),\n",
       "  HexBytes('0xb7a7b243b75c674cbcedfa9574d44f773d2b9c42c355e458b0da9cafdb3646ca'),\n",
       "  HexBytes('0xce3c7e2f79f778d2b85b16f6bd4b1c13cc07419a05d106360fb59cc423e3a84d'),\n",
       "  HexBytes('0xd5454ef6a22da07bd6bc250be4f7fe15f3280207f3d61e993b550d4fb1e0f5c5'),\n",
       "  HexBytes('0xe0f3d487459616b8cd54afdba5277e2a5ced83938c3934eeff5edb8b6360a007'),\n",
       "  HexBytes('0xe7537cd7e4757c8473bb4acefe63506fd787e7dc5aafe9963d67407cc7d0ed3c'),\n",
       "  HexBytes('0xe8e7eb1820a8e83e69def645f5786e559b5ee11afe49f8b6b1ee94178b3dbd64'),\n",
       "  HexBytes('0xed976a8fd3fe3568a3800c85b1c2ab231c45a0b823b0d3ddac651fd2333f782f'),\n",
       "  HexBytes('0xf43bd7ed57e1d41704037de9321f6539e771efb78b23b0ddbe5588e6207fbace'),\n",
       "  HexBytes('0xf54f7e9d5256632ad7009256079c3d2bab4f1b7f3f8be26ca450f08dcf211d2a'),\n",
       "  HexBytes('0x419c71a559947c18de31fce694407bc2c21d6d58de11e285465f687fc022125e'),\n",
       "  HexBytes('0x8f51649c9f410afbafbec12a7226dd438fc79f6966a4c46e81dc724095df4b7a'),\n",
       "  HexBytes('0x6f7d29d555e615d29371d4c9eb04d915b25135be2dd36bdca1888223410a54e1'),\n",
       "  HexBytes('0x04f2190bacaca32f63bc57477386b1c18788843ccbda662dbcd6de125b8ee493'),\n",
       "  HexBytes('0x2144888f89e02a10ce4bc20b3cadbfd080a712623402a1cd826d38ad71901271'),\n",
       "  HexBytes('0x261f3cae8ecdb8e9c3a1db1bf0717fa4214268016f2e33efce4b97e9aa33288a'),\n",
       "  HexBytes('0x264a094a47223ff1ab79e6719dd46eb361f1411c13860abb0f45e34ca83fc268'),\n",
       "  HexBytes('0x273abe88111a4d2c1550306f74e8ce9587611d3400508d4848d4c209bd7a868b'),\n",
       "  HexBytes('0x298a33d1f01318e6262c32d2fa23c4c810c9dbdac5d69f1bb69f11a900ec6ec4'),\n",
       "  HexBytes('0x3470d6a6d77d23ffbe81a20ca7c47381899e3ec4092505dc93a587f9c64f1c01'),\n",
       "  HexBytes('0x386adbaf6b72db3af072e88756385ae29ca9fc89bdaf5e6569be15e6fcb7db13'),\n",
       "  HexBytes('0x3a382e45503fe839a78709c4da92332506296015ba8ab829ea05d02e0f65575e'),\n",
       "  HexBytes('0x3d8e5077d19f9839a28e29f21ea8ec6ca7380641048cb8524a5e8267e9227283'),\n",
       "  HexBytes('0x3fd3ce2cfb8268ab57ffe512116ac39fc1245141ddf455d4dbadcd3779353608'),\n",
       "  HexBytes('0x432db582efdf1428c5ffc2a5c97ebf3817b22b816c19e20e356f04b589249473'),\n",
       "  HexBytes('0x46afa9707e1ba1fe8f360a84eb024184da9313768775dd5ba1405b12c961b5d0'),\n",
       "  HexBytes('0x4900c600416181072cb153f3ec69e0eb5d345557c8ae85f37ea2a62f1656df41'),\n",
       "  HexBytes('0x4b8e77c87aa2fea26eb49d2993dffc817256bac88075e0d77ebe36d77be74d17'),\n",
       "  HexBytes('0x8dd645e7b154c3e610207282d2a6f875e49c96a4208fdb7cb9e21771fa865673'),\n",
       "  HexBytes('0x945a07b73830f2842d94273115dd154cf8d72e59d23c669b90ad5ea2fbff0609'),\n",
       "  HexBytes('0x969788b37aaa9ce5d0579d03b3ea61083ea36b71222195ad6aefedc103961d92'),\n",
       "  HexBytes('0x9e7573ead7787f6ac9478e588f93b50d0555af1ecfb19b4223a3c1f93635918a'),\n",
       "  HexBytes('0xa5cff5773d65c748081c29867d0ad193af6d3463576d9568524b03a2a5b957b4'),\n",
       "  HexBytes('0xad9c9534841e67b0a50a2f287b00e8c1e82c00ffb261272f0a56a284e9e70597'),\n",
       "  HexBytes('0xb48f21374bb47538ffd322056896a05e5101bb97f62c61bed5524968fc6fcec6'),\n",
       "  HexBytes('0xc04dfc9570965592b043b88db172858f43aeac5e53d0342caff93e62c6294edb'),\n",
       "  HexBytes('0xc323f60e507245f0a15dc4b6efc023d692601123cadf9b5eecfe2b623a85ae1f'),\n",
       "  HexBytes('0xd94d018d1dfacd80eb462ca1bafff2c5fa7cd0d472d036744fff43f8c85f70b4'),\n",
       "  HexBytes('0xdcb6ab2aee1438baaf434e88a0983396ff5b8af7d30fd3504fd01cfcc5bb0b66'),\n",
       "  HexBytes('0xe24885dd8139c3965e3f7e179ad8de06d22fd2f7dff2c4ae5b5df2427e118e87'),\n",
       "  HexBytes('0xe597d7928276db0413b2b427279ec4554c0a22fe69ee8a36239075bc2cc03051'),\n",
       "  HexBytes('0xf9beeef4b856f276a822c800bfb07847d6a0419511e868cb55fadd9a3c9ae92b'),\n",
       "  HexBytes('0xfbf6e1b933f093d4634ef01573c77e0fab84b48c634f5d245ed4b92a04ebb95a'),\n",
       "  HexBytes('0xe4b18a3439d6f66c6a20602e5979781daa2ddb8b273c431e77ba8b324754cc6c')],\n",
       " 'transactionsRoot': HexBytes('0x2513590118d2e5b87ce7cfe3ae521b0f4c5a6abad3202c632c3fad97b76e1ed6'),\n",
       " 'uncles': []})"
      ]
     },
     "execution_count": 3,
     "metadata": {},
     "output_type": "execute_result"
    }
   ],
   "source": [
    "w3.eth.getBlock('latest')"
   ]
  },
  {
   "cell_type": "code",
   "execution_count": 4,
   "metadata": {},
   "outputs": [],
   "source": [
    "import pandas as pd"
   ]
  },
  {
   "cell_type": "code",
   "execution_count": 5,
   "metadata": {},
   "outputs": [],
   "source": [
    "df = pd.read_csv('transaction_till_100000.csv')"
   ]
  },
  {
   "cell_type": "code",
   "execution_count": 6,
   "metadata": {},
   "outputs": [
    {
     "data": {
      "text/html": [
       "<div>\n",
       "<style scoped>\n",
       "    .dataframe tbody tr th:only-of-type {\n",
       "        vertical-align: middle;\n",
       "    }\n",
       "\n",
       "    .dataframe tbody tr th {\n",
       "        vertical-align: top;\n",
       "    }\n",
       "\n",
       "    .dataframe thead th {\n",
       "        text-align: right;\n",
       "    }\n",
       "</style>\n",
       "<table border=\"1\" class=\"dataframe\">\n",
       "  <thead>\n",
       "    <tr style=\"text-align: right;\">\n",
       "      <th></th>\n",
       "      <th>From</th>\n",
       "      <th>To</th>\n",
       "      <th>Value</th>\n",
       "      <th>Time</th>\n",
       "      <th>Block</th>\n",
       "    </tr>\n",
       "  </thead>\n",
       "  <tbody>\n",
       "    <tr>\n",
       "      <th>0</th>\n",
       "      <td>ethereum</td>\n",
       "      <td>0</td>\n",
       "      <td>5.000000e+18</td>\n",
       "      <td>0</td>\n",
       "      <td>0</td>\n",
       "    </tr>\n",
       "    <tr>\n",
       "      <th>1</th>\n",
       "      <td>ethereum</td>\n",
       "      <td>05a56e2d52c817161883f50c441c3228cfe54d9f</td>\n",
       "      <td>5.000000e+18</td>\n",
       "      <td>1438269988</td>\n",
       "      <td>1</td>\n",
       "    </tr>\n",
       "    <tr>\n",
       "      <th>2</th>\n",
       "      <td>ethereum</td>\n",
       "      <td>0193d941b50d91be6567c7ee1c0fe7af498b4137</td>\n",
       "      <td>5.000000e+18</td>\n",
       "      <td>1438270128</td>\n",
       "      <td>10</td>\n",
       "    </tr>\n",
       "    <tr>\n",
       "      <th>3</th>\n",
       "      <td>ethereum</td>\n",
       "      <td>e6a7a1d47ff21b6321162aea7c6cb457d5476bca</td>\n",
       "      <td>5.000000e+18</td>\n",
       "      <td>1439799138</td>\n",
       "      <td>100000</td>\n",
       "    </tr>\n",
       "    <tr>\n",
       "      <th>4</th>\n",
       "      <td>ethereum</td>\n",
       "      <td>9beb4d346c6309a9ce4f27393c6322c8f03a3be6</td>\n",
       "      <td>5.000000e+18</td>\n",
       "      <td>1438336146</td>\n",
       "      <td>10099</td>\n",
       "    </tr>\n",
       "  </tbody>\n",
       "</table>\n",
       "</div>"
      ],
      "text/plain": [
       "       From                                        To         Value  \\\n",
       "0  ethereum                                         0  5.000000e+18   \n",
       "1  ethereum  05a56e2d52c817161883f50c441c3228cfe54d9f  5.000000e+18   \n",
       "2  ethereum  0193d941b50d91be6567c7ee1c0fe7af498b4137  5.000000e+18   \n",
       "3  ethereum  e6a7a1d47ff21b6321162aea7c6cb457d5476bca  5.000000e+18   \n",
       "4  ethereum  9beb4d346c6309a9ce4f27393c6322c8f03a3be6  5.000000e+18   \n",
       "\n",
       "         Time   Block  \n",
       "0           0       0  \n",
       "1  1438269988       1  \n",
       "2  1438270128      10  \n",
       "3  1439799138  100000  \n",
       "4  1438336146   10099  "
      ]
     },
     "execution_count": 6,
     "metadata": {},
     "output_type": "execute_result"
    }
   ],
   "source": [
    "df.head()"
   ]
  },
  {
   "cell_type": "code",
   "execution_count": 17,
   "metadata": {},
   "outputs": [],
   "source": [
    "add = df.From.unique()[1]\n"
   ]
  },
  {
   "cell_type": "code",
   "execution_count": 20,
   "metadata": {},
   "outputs": [],
   "source": [
    "add = Web3.toChecksumAddress(add)"
   ]
  },
  {
   "cell_type": "code",
   "execution_count": 22,
   "metadata": {},
   "outputs": [
    {
     "data": {
      "text/plain": [
       "140000000000000000000"
      ]
     },
     "execution_count": 22,
     "metadata": {},
     "output_type": "execute_result"
    }
   ],
   "source": [
    "w3.eth.getBalance(add,100)"
   ]
  },
  {
   "cell_type": "code",
   "execution_count": 26,
   "metadata": {},
   "outputs": [],
   "source": [
    "df_b = df[df['Block']==1000][['From','To']]\n",
    "    "
   ]
  },
  {
   "cell_type": "code",
   "execution_count": 34,
   "metadata": {},
   "outputs": [],
   "source": [
    "import numpy as np"
   ]
  },
  {
   "cell_type": "code",
   "execution_count": 35,
   "metadata": {},
   "outputs": [
    {
     "ename": "TypeError",
     "evalue": "only integer scalar arrays can be converted to a scalar index",
     "output_type": "error",
     "traceback": [
      "\u001b[0;31m---------------------------------------------------------------------------\u001b[0m",
      "\u001b[0;31mTypeError\u001b[0m                                 Traceback (most recent call last)",
      "\u001b[0;32m<ipython-input-35-14a31ba27104>\u001b[0m in \u001b[0;36m<module>\u001b[0;34m()\u001b[0m\n\u001b[0;32m----> 1\u001b[0;31m \u001b[0mnp\u001b[0m\u001b[0;34m.\u001b[0m\u001b[0mconcatenate\u001b[0m\u001b[0;34m(\u001b[0m\u001b[0mdf_b\u001b[0m\u001b[0;34m.\u001b[0m\u001b[0mFrom\u001b[0m\u001b[0;34m.\u001b[0m\u001b[0munique\u001b[0m\u001b[0;34m(\u001b[0m\u001b[0;34m)\u001b[0m\u001b[0;34m,\u001b[0m\u001b[0mdf_b\u001b[0m\u001b[0;34m.\u001b[0m\u001b[0mTo\u001b[0m\u001b[0;34m.\u001b[0m\u001b[0munique\u001b[0m\u001b[0;34m(\u001b[0m\u001b[0;34m)\u001b[0m\u001b[0;34m)\u001b[0m\u001b[0;34m\u001b[0m\u001b[0m\n\u001b[0m",
      "\u001b[0;31mTypeError\u001b[0m: only integer scalar arrays can be converted to a scalar index"
     ]
    }
   ],
   "source": [
    "np.concatenate(df_b.From.unique(),df_b.To.unique())"
   ]
  },
  {
   "cell_type": "code",
   "execution_count": 38,
   "metadata": {},
   "outputs": [],
   "source": [
    "address = np.append(df_b.From.unique(),df_b.To.unique())"
   ]
  },
  {
   "cell_type": "code",
   "execution_count": 41,
   "metadata": {},
   "outputs": [
    {
     "name": "stdout",
     "output_type": "stream",
     "text": [
      "bb7b8287f3f0a933474a79eae42cbca977791171 151250000000000000000\n"
     ]
    }
   ],
   "source": [
    "blockNum = 100\n",
    "for i in range(len(address)):\n",
    "    if address[i]!='ethereum':\n",
    "        account = Web3.toChecksumAddress(address[i])\n",
    "        balance = w3.eth.getBalance(account,blockNum)\n",
    "        print(address[i],balance)"
   ]
  },
  {
   "cell_type": "code",
   "execution_count": 81,
   "metadata": {},
   "outputs": [],
   "source": [
    "def fillBalanceTable(blockNum,fname):\n",
    "    df_b = df[df['Block']==blockNum][['From','To']]\n",
    "    address = np.append(df_b.From.unique(),df_b.To.unique())\n",
    "    #with open(fname,'a') as ft:\n",
    "    for i in range(len(address)):\n",
    "        if address[i]!='ethereum' and address[i]!='0':\n",
    "            account = Web3.toChecksumAddress(address[i])\n",
    "            balance = w3.eth.getBalance(account,blockNum)\n",
    "            ft = open(fname,'a')\n",
    "            ft.write(account+','+str(balance)+','+str(blockNum))\n",
    "            ft.write('\\n')\n",
    "            ft.close()"
   ]
  },
  {
   "cell_type": "code",
   "execution_count": 49,
   "metadata": {},
   "outputs": [
    {
     "name": "stdout",
     "output_type": "stream",
     "text": [
      "bf71642d7cbae8faf1cfdc6c1c48fcb45b15ed22 147343750000000000000\n"
     ]
    }
   ],
   "source": [
    "fillBalanceTable(10000)"
   ]
  },
  {
   "cell_type": "code",
   "execution_count": 47,
   "metadata": {},
   "outputs": [
    {
     "data": {
      "text/html": [
       "<div>\n",
       "<style scoped>\n",
       "    .dataframe tbody tr th:only-of-type {\n",
       "        vertical-align: middle;\n",
       "    }\n",
       "\n",
       "    .dataframe tbody tr th {\n",
       "        vertical-align: top;\n",
       "    }\n",
       "\n",
       "    .dataframe thead th {\n",
       "        text-align: right;\n",
       "    }\n",
       "</style>\n",
       "<table border=\"1\" class=\"dataframe\">\n",
       "  <thead>\n",
       "    <tr style=\"text-align: right;\">\n",
       "      <th></th>\n",
       "      <th>From</th>\n",
       "      <th>To</th>\n",
       "      <th>Value</th>\n",
       "      <th>Time</th>\n",
       "      <th>Block</th>\n",
       "    </tr>\n",
       "  </thead>\n",
       "  <tbody>\n",
       "    <tr>\n",
       "      <th>103</th>\n",
       "      <td>ethereum</td>\n",
       "      <td>bf71642d7cbae8faf1cfdc6c1c48fcb45b15ed22</td>\n",
       "      <td>5.000000e+18</td>\n",
       "      <td>1438334627</td>\n",
       "      <td>10000</td>\n",
       "    </tr>\n",
       "  </tbody>\n",
       "</table>\n",
       "</div>"
      ],
      "text/plain": [
       "         From                                        To         Value  \\\n",
       "103  ethereum  bf71642d7cbae8faf1cfdc6c1c48fcb45b15ed22  5.000000e+18   \n",
       "\n",
       "           Time  Block  \n",
       "103  1438334627  10000  "
      ]
     },
     "execution_count": 47,
     "metadata": {},
     "output_type": "execute_result"
    }
   ],
   "source": [
    "df[df.Block==10000]"
   ]
  },
  {
   "cell_type": "code",
   "execution_count": 74,
   "metadata": {},
   "outputs": [],
   "source": [
    "fs = open('blockAccountBalance1.csv','w')\n",
    "fs.write('Account,Balance,Block\\n')\n",
    "fs.close()"
   ]
  },
  {
   "cell_type": "code",
   "execution_count": 57,
   "metadata": {},
   "outputs": [],
   "source": [
    "for i in range(1,1000):\n",
    "    fillBalanceTable(i,'blockAccountBalance.csv')"
   ]
  },
  {
   "cell_type": "code",
   "execution_count": 62,
   "metadata": {},
   "outputs": [],
   "source": [
    "df_1 = pd.read_csv('blockAccountBalance.csv')"
   ]
  },
  {
   "cell_type": "code",
   "execution_count": 63,
   "metadata": {},
   "outputs": [
    {
     "data": {
      "text/html": [
       "<div>\n",
       "<style scoped>\n",
       "    .dataframe tbody tr th:only-of-type {\n",
       "        vertical-align: middle;\n",
       "    }\n",
       "\n",
       "    .dataframe tbody tr th {\n",
       "        vertical-align: top;\n",
       "    }\n",
       "\n",
       "    .dataframe thead th {\n",
       "        text-align: right;\n",
       "    }\n",
       "</style>\n",
       "<table border=\"1\" class=\"dataframe\">\n",
       "  <thead>\n",
       "    <tr style=\"text-align: right;\">\n",
       "      <th></th>\n",
       "      <th>Account</th>\n",
       "      <th>Balance</th>\n",
       "      <th>Block</th>\n",
       "    </tr>\n",
       "  </thead>\n",
       "  <tbody>\n",
       "    <tr>\n",
       "      <th>0</th>\n",
       "      <td>0x05a56E2D52c817161883f50c441c3228CFe54d9f</td>\n",
       "      <td>5000000000000000000</td>\n",
       "      <td>1</td>\n",
       "    </tr>\n",
       "    <tr>\n",
       "      <th>1</th>\n",
       "      <td>0xdd2F1e6e498202e86D8f5442Af596580A4f03c2C</td>\n",
       "      <td>5000000000000000000</td>\n",
       "      <td>2</td>\n",
       "    </tr>\n",
       "    <tr>\n",
       "      <th>2</th>\n",
       "      <td>0x5088D623ba0fcf0131E0897a91734A4D83596AA0</td>\n",
       "      <td>5156250000000000000</td>\n",
       "      <td>3</td>\n",
       "    </tr>\n",
       "    <tr>\n",
       "      <th>3</th>\n",
       "      <td>0xc8ebccC5F5689Fa8659d83713341e5aD19349448</td>\n",
       "      <td>3750000000000000000</td>\n",
       "      <td>3</td>\n",
       "    </tr>\n",
       "    <tr>\n",
       "      <th>4</th>\n",
       "      <td>0xc8ebccC5F5689Fa8659d83713341e5aD19349448</td>\n",
       "      <td>8906250000000000000</td>\n",
       "      <td>4</td>\n",
       "    </tr>\n",
       "  </tbody>\n",
       "</table>\n",
       "</div>"
      ],
      "text/plain": [
       "                                      Account              Balance  Block\n",
       "0  0x05a56E2D52c817161883f50c441c3228CFe54d9f  5000000000000000000      1\n",
       "1  0xdd2F1e6e498202e86D8f5442Af596580A4f03c2C  5000000000000000000      2\n",
       "2  0x5088D623ba0fcf0131E0897a91734A4D83596AA0  5156250000000000000      3\n",
       "3  0xc8ebccC5F5689Fa8659d83713341e5aD19349448  3750000000000000000      3\n",
       "4  0xc8ebccC5F5689Fa8659d83713341e5aD19349448  8906250000000000000      4"
      ]
     },
     "execution_count": 63,
     "metadata": {},
     "output_type": "execute_result"
    }
   ],
   "source": [
    "df_1.head()"
   ]
  },
  {
   "cell_type": "code",
   "execution_count": 64,
   "metadata": {},
   "outputs": [
    {
     "data": {
      "text/plain": [
       "5000"
      ]
     },
     "execution_count": 64,
     "metadata": {},
     "output_type": "execute_result"
    }
   ],
   "source": [
    "df_1.Block.max()"
   ]
  },
  {
   "cell_type": "code",
   "execution_count": 61,
   "metadata": {},
   "outputs": [],
   "source": [
    "for i in range(1000,5001):\n",
    "    fillBalanceTable(i,'blockAccountBalance.csv')"
   ]
  },
  {
   "cell_type": "code",
   "execution_count": 82,
   "metadata": {},
   "outputs": [],
   "source": [
    "def createBalanceCSV(start,end,fname):\n",
    "    for i in range(start,end+1):\n",
    "        fillBalanceTable(i,fname)\n",
    "        print('finished for block: ',i)"
   ]
  },
  {
   "cell_type": "code",
   "execution_count": 67,
   "metadata": {},
   "outputs": [],
   "source": [
    "from multiprocessing import Process"
   ]
  },
  {
   "cell_type": "code",
   "execution_count": 77,
   "metadata": {},
   "outputs": [],
   "source": [
    "jobs = []"
   ]
  },
  {
   "cell_type": "code",
   "execution_count": 83,
   "metadata": {},
   "outputs": [],
   "source": [
    "jobs.append(Process(target=createBalanceCSV, args=(5305,7500,\"blockAccountBalance.csv\")))\n",
    "jobs.append(Process(target=createBalanceCSV, args=(7501,10000,\"blockAccountBalance.csv\")))\n",
    "jobs.append(Process(target=createBalanceCSV, args=(10001,12500,\"blockAccountBalance.csv\")))\n",
    "jobs.append(Process(target=createBalanceCSV, args=(12501,15000,\"blockAccountBalance.csv\")))"
   ]
  },
  {
   "cell_type": "code",
   "execution_count": 84,
   "metadata": {},
   "outputs": [
    {
     "ename": "AssertionError",
     "evalue": "cannot start a process twice",
     "output_type": "error",
     "traceback": [
      "\u001b[0;31m---------------------------------------------------------------------------\u001b[0m",
      "\u001b[0;31mAssertionError\u001b[0m                            Traceback (most recent call last)",
      "\u001b[0;32m<ipython-input-84-1a14b5963c34>\u001b[0m in \u001b[0;36m<module>\u001b[0;34m()\u001b[0m\n\u001b[1;32m      1\u001b[0m \u001b[0;32mfor\u001b[0m \u001b[0mj\u001b[0m \u001b[0;32min\u001b[0m \u001b[0mjobs\u001b[0m\u001b[0;34m:\u001b[0m\u001b[0;34m\u001b[0m\u001b[0m\n\u001b[0;32m----> 2\u001b[0;31m     \u001b[0mj\u001b[0m\u001b[0;34m.\u001b[0m\u001b[0mstart\u001b[0m\u001b[0;34m(\u001b[0m\u001b[0;34m)\u001b[0m\u001b[0;34m\u001b[0m\u001b[0m\n\u001b[0m\u001b[1;32m      3\u001b[0m     \u001b[0;32mfor\u001b[0m \u001b[0mj\u001b[0m \u001b[0;32min\u001b[0m \u001b[0mjobs\u001b[0m\u001b[0;34m:\u001b[0m\u001b[0;34m\u001b[0m\u001b[0m\n\u001b[1;32m      4\u001b[0m         \u001b[0mj\u001b[0m\u001b[0;34m.\u001b[0m\u001b[0mjoin\u001b[0m\u001b[0;34m(\u001b[0m\u001b[0;34m)\u001b[0m\u001b[0;34m\u001b[0m\u001b[0m\n",
      "\u001b[0;32m/usr/lib/python3.6/multiprocessing/process.py\u001b[0m in \u001b[0;36mstart\u001b[0;34m(self)\u001b[0m\n\u001b[1;32m     97\u001b[0m         \u001b[0mStart\u001b[0m \u001b[0mchild\u001b[0m \u001b[0mprocess\u001b[0m\u001b[0;34m\u001b[0m\u001b[0m\n\u001b[1;32m     98\u001b[0m         '''\n\u001b[0;32m---> 99\u001b[0;31m         \u001b[0;32massert\u001b[0m \u001b[0mself\u001b[0m\u001b[0;34m.\u001b[0m\u001b[0m_popen\u001b[0m \u001b[0;32mis\u001b[0m \u001b[0;32mNone\u001b[0m\u001b[0;34m,\u001b[0m \u001b[0;34m'cannot start a process twice'\u001b[0m\u001b[0;34m\u001b[0m\u001b[0m\n\u001b[0m\u001b[1;32m    100\u001b[0m         \u001b[0;32massert\u001b[0m \u001b[0mself\u001b[0m\u001b[0;34m.\u001b[0m\u001b[0m_parent_pid\u001b[0m \u001b[0;34m==\u001b[0m \u001b[0mos\u001b[0m\u001b[0;34m.\u001b[0m\u001b[0mgetpid\u001b[0m\u001b[0;34m(\u001b[0m\u001b[0;34m)\u001b[0m\u001b[0;34m,\u001b[0m\u001b[0;31m \u001b[0m\u001b[0;31m\\\u001b[0m\u001b[0;34m\u001b[0m\u001b[0m\n\u001b[1;32m    101\u001b[0m                \u001b[0;34m'can only start a process object created by current process'\u001b[0m\u001b[0;34m\u001b[0m\u001b[0m\n",
      "\u001b[0;31mAssertionError\u001b[0m: cannot start a process twice"
     ]
    }
   ],
   "source": [
    "for j in jobs:\n",
    "    j.start()\n",
    "    for j in jobs:\n",
    "        j.join()"
   ]
  },
  {
   "cell_type": "code",
   "execution_count": 80,
   "metadata": {},
   "outputs": [
    {
     "data": {
      "text/html": [
       "<div>\n",
       "<style scoped>\n",
       "    .dataframe tbody tr th:only-of-type {\n",
       "        vertical-align: middle;\n",
       "    }\n",
       "\n",
       "    .dataframe tbody tr th {\n",
       "        vertical-align: top;\n",
       "    }\n",
       "\n",
       "    .dataframe thead th {\n",
       "        text-align: right;\n",
       "    }\n",
       "</style>\n",
       "<table border=\"1\" class=\"dataframe\">\n",
       "  <thead>\n",
       "    <tr style=\"text-align: right;\">\n",
       "      <th></th>\n",
       "      <th>From</th>\n",
       "      <th>To</th>\n",
       "      <th>Value</th>\n",
       "      <th>Time</th>\n",
       "      <th>Block</th>\n",
       "    </tr>\n",
       "  </thead>\n",
       "  <tbody>\n",
       "    <tr>\n",
       "      <th>51641</th>\n",
       "      <td>ethereum</td>\n",
       "      <td>0</td>\n",
       "      <td>5.000000e+18</td>\n",
       "      <td>1438288819</td>\n",
       "      <td>5305</td>\n",
       "    </tr>\n",
       "  </tbody>\n",
       "</table>\n",
       "</div>"
      ],
      "text/plain": [
       "           From To         Value        Time  Block\n",
       "51641  ethereum  0  5.000000e+18  1438288819   5305"
      ]
     },
     "execution_count": 80,
     "metadata": {},
     "output_type": "execute_result"
    }
   ],
   "source": [
    "df[df.Block==5305]"
   ]
  },
  {
   "cell_type": "code",
   "execution_count": 7,
   "metadata": {},
   "outputs": [],
   "source": [
    "def balanceAccountBlock(blockNum, df): # retrieve balances of all accounts given a block number\n",
    "    df_b = df[df['Block']<=blockNum][['From','To']]\n",
    "    address = np.append(df_b.From.unique(),df_b.To.unique())\n",
    "    with open('AccountBalanace'+str(blockNum)+'.csv','w') as ft:\n",
    "        ft.write('Account,Balance,Block')\n",
    "        ft.write('\\n')\n",
    "        for add in address:\n",
    "            if address[i]!='ethereum' and address[i]!='0':\n",
    "                account = Web3.toChecksumAddress(address[i])\n",
    "                balance = w3.eth.getBalance(account,blockNum)\n",
    "                ft.write(account+','+str(balance)+','+str(blockNum))\n",
    "                ft.write('\\n')\n",
    "                ft.close() \n",
    "    "
   ]
  },
  {
   "cell_type": "code",
   "execution_count": null,
   "metadata": {},
   "outputs": [],
   "source": []
  }
 ],
 "metadata": {
  "kernelspec": {
   "display_name": "Python 3",
   "language": "python",
   "name": "python3"
  },
  "language_info": {
   "codemirror_mode": {
    "name": "ipython",
    "version": 3
   },
   "file_extension": ".py",
   "mimetype": "text/x-python",
   "name": "python",
   "nbconvert_exporter": "python",
   "pygments_lexer": "ipython3",
   "version": "3.6.5"
  }
 },
 "nbformat": 4,
 "nbformat_minor": 2
}
