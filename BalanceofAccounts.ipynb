{
 "cells": [
  {
   "cell_type": "code",
   "execution_count": 1,
   "metadata": {},
   "outputs": [],
   "source": [
    "from web3 import Web3, IPCProvider"
   ]
  },
  {
   "cell_type": "code",
   "execution_count": 2,
   "metadata": {},
   "outputs": [],
   "source": [
    "w3 = Web3(IPCProvider('/shakespeare/sandipan/Ethereum/.ethereum/geth.ipc'))"
   ]
  },
  {
   "cell_type": "code",
   "execution_count": 3,
   "metadata": {},
   "outputs": [
    {
     "data": {
      "text/plain": [
       "AttributeDict({'difficulty': 1404196117668992,\n",
       " 'extraData': HexBytes('0x65746865726d696e652d657536'),\n",
       " 'gasLimit': 6712392,\n",
       " 'gasUsed': 1511793,\n",
       " 'hash': HexBytes('0x5aac599ec2dc25ef4eea8f7c32561508618e0e46684edc9296a6850ed1e693f0'),\n",
       " 'logsBloom': HexBytes('0x00000000000000000000000040000002000000000000000004140000000000000000000020000000000000000000000000000000000000020000002000000000000000000000000000000008000000000400000000000000000100000000000000000000000000000100004080000000000000000000000000000010000000000000020000000000000000000080000000000000000200000000002000000100000000000000000000000800000001000000000000000000000000004000000000000002000000000000000000000000000000000020080020000000000000000000000000000000000000000000000000001000400000000000000000002000'),\n",
       " 'miner': '0xEA674fdDe714fd979de3EdF0F56AA9716B898ec8',\n",
       " 'mixHash': HexBytes('0x1d26902a6308f8dcd0c75a88e9f9d8ab30c615053475c35ac2c01a9e2bedcae6'),\n",
       " 'nonce': HexBytes('0xf4dea40c0297a887'),\n",
       " 'number': 4521390,\n",
       " 'parentHash': HexBytes('0xac462885936ab1d62d74dafa7ee2e922d3827f31886ddccfa75903050e54e3d2'),\n",
       " 'receiptsRoot': HexBytes('0x257eb1b0c1a44b912c7c24eff41dc8f1a94a4dae4036bb718dd83bf4578593de'),\n",
       " 'sha3Uncles': HexBytes('0x1dcc4de8dec75d7aab85b567b6ccd41ad312451b948a7413f0a142fd40d49347'),\n",
       " 'size': 8378,\n",
       " 'stateRoot': HexBytes('0x56367452333fca5383497d5b1c78114466b95b399e47615b4e52487388b5c002'),\n",
       " 'timestamp': 1510251967,\n",
       " 'totalDifficulty': 1417413452261490419673,\n",
       " 'transactions': [HexBytes('0x0128e46072621c03a18932574a22b64248c3e96688fdd79453400fa0e325b703'),\n",
       "  HexBytes('0xfa145cc5a88413abca0dff0263ca4c41fd5192b4a34393c1f33c4a2402cfe8d9'),\n",
       "  HexBytes('0xcfbbb69508f283454cf82306002b2d5d76d16cd6768b46a60c6fd754e1e37cbe'),\n",
       "  HexBytes('0x4592f86b1d08154901973de9f800267feea9d560454a7e1e3bbc066129fee582'),\n",
       "  HexBytes('0x12c2b2c9069867a936c24251dd8ae9b6115619db01ea66c04846955840e30ec8'),\n",
       "  HexBytes('0x4cd71227a321129a7158dcd6c56205ae0454a87b2382f89b802b7006e0b70be9'),\n",
       "  HexBytes('0x2970a3a262a052d07410ccbe3647da775fe5dd2d863c8a42147386ef9dfc72f0'),\n",
       "  HexBytes('0xf1492f86fc76dc1df4775d59b5235633597b006f86295c1a432a31343ef1b376'),\n",
       "  HexBytes('0x4ddec8611810953c81951a78bcde2dd00e580b03b2049be4097120929c5b6417'),\n",
       "  HexBytes('0xc14996a4348476ecd146623e8a6386a15a08c0c97b492e322c1c10c0be27ca14'),\n",
       "  HexBytes('0x7b6e44fc56f7dac1be7cc06fb6958b8194cba8bd37aff7b38247dbee3234e4b3'),\n",
       "  HexBytes('0x21ec55d8b9d095b77725e96c6c031505ba2872060a6d4ef2714f7c0bfd6e8ab3'),\n",
       "  HexBytes('0x077bd714c0f953d0968c13b1ed8ff0bce9e18a971095eec6fa08f738169294de'),\n",
       "  HexBytes('0xb59ccd0a938c0dbe8e4a0e7ad4a07ec363914d5e2501a67db6e98ba3e555c5fd'),\n",
       "  HexBytes('0x1e10ddac0ff6545eabb5a6bd72ad30062c23262bcc4f93ee40b9aff6713d27c6'),\n",
       "  HexBytes('0x6ec8d0d5ae32cbdf0ac696b061ccf66d16123084aa369a2c2ec229e80cdfa84f'),\n",
       "  HexBytes('0x1c808f137a7f6532a9165e74897bfbab1ab457a1765a2799963ab611a397da3e'),\n",
       "  HexBytes('0x123ca4c084ece36d7212ebcbf867445dbbf4e7361fded59b95185071352df418'),\n",
       "  HexBytes('0x475995e1b5b896c69c55636c950d518b194a7c7d4d8076fa8e2c0bc6ea6fe5da'),\n",
       "  HexBytes('0x9537230996586f93de2889ac9ca7c7f8f40a093254e82ab200d8af81c668136e'),\n",
       "  HexBytes('0xb6001af87507a45c42dbbb0e14767aded6138c36b5b2ad0df30db905175be675'),\n",
       "  HexBytes('0xd12caaee84bd31be5b599f8e8fdc0d587d2b40f536b06a760402ff9e509a7ebf'),\n",
       "  HexBytes('0x9cfab7a0dfdb11e595caecfc2b6a7a3c7d6c6623f2b42b5327efa3049175e915'),\n",
       "  HexBytes('0x510df9015f085c60f9d0d88f4a9f2ce6105484056a8dccb888d6d3d9ae597c12'),\n",
       "  HexBytes('0x9160c738c315238d30a05f37a4c8ce6b8ebe1b39765ff489313adf612dbf4141'),\n",
       "  HexBytes('0x5ecbd9f69486b29a0dd12d3fa3ecab7eb36d8b862f45fdc4fd1f70f29760ee9e'),\n",
       "  HexBytes('0xc5cab8746b1ef942521081443352d8316c431b7d9d5f00b1a69daf9285c4998c'),\n",
       "  HexBytes('0x07911033f6474cc2af3716464c7593d1ce88f0b583b0196b60d1d3be2a59807b'),\n",
       "  HexBytes('0x2d315d86617d6855e188215c3be947ce4a1d690d5e154f7f9d2bf5945f70defa'),\n",
       "  HexBytes('0x32bbcb7bd48b6eb267671c27b28df007c5001acb4a32fc6afa63f9bc9dd65fab'),\n",
       "  HexBytes('0x975a733a7eaff9fc593cb886987c438886f96c9ec86cf42a87b536ecdc9c2b5f'),\n",
       "  HexBytes('0x0f2baadf40df62bf1193898879ff946f3d0f81023e57557c3534915ba14c1a17'),\n",
       "  HexBytes('0xe21cbcb3d183f2f69e9b55d5d30859482ff7a233e8adbb21d08c248c09860260'),\n",
       "  HexBytes('0xb429bb9333055d2aa89cda1f44854e2421240c16504eb5d94a4dc6ee887d5fd8'),\n",
       "  HexBytes('0xf0d070424feaa3a8c1c18eb8bcfeca6b9af00144a0f2cabdbfbe142859cf1515'),\n",
       "  HexBytes('0x0a63c1991ecbcf44d4777d68502ce67defe8c0bc1ef96bef5ae74a10fe70e239'),\n",
       "  HexBytes('0x9fb998272fb6ad364c19720e44cd8995aeea8120832b1886bc204980ee3d7c04'),\n",
       "  HexBytes('0x92b8094f28c4d125d62b76d9f700a5ee134d4513c6f9956b7b2fc85b027b1988'),\n",
       "  HexBytes('0xf24d6b25a4e86a2c88173959490a6997e4b18cd76e8a3a636b7986fc18a36f07'),\n",
       "  HexBytes('0x3f39f63aad98c423eff801912343ee38a4fd6393be6d11b547ac65b9c16dbb22'),\n",
       "  HexBytes('0x15d9dd5566feb1c603d5c265760beaa34d032ac93f6f708517939943202895cd'),\n",
       "  HexBytes('0x90baae58d474d63eaf4bb1f18dcb61b0dec9c93c7844aa2d4d07875a7e15f2d2'),\n",
       "  HexBytes('0x396828441ede6264561e1692aefdba89917ba5693805ae9ec0d2b1edaa62f1e6'),\n",
       "  HexBytes('0xbb0e8c9fa864e03aaeeaa59b6af0ecceaa8f34f6999d8c6e9893bee768e0ed4f'),\n",
       "  HexBytes('0x1c7c2d423cc66ae80f57a31e2b83a34184fe01f793538d1dd2fddb651f35b9ff'),\n",
       "  HexBytes('0xe8081f03eb980f43abf1e4dc4ae22fdb2aedc98e8b2b14e66a0e1b8a6d120e88'),\n",
       "  HexBytes('0x5083b1ae2dfef8b553e3402ef9cb3a49c6fd68986e4b823cb113979b838423ab'),\n",
       "  HexBytes('0x2527a1d7175bfad03e9634eb2325f2b77d987d6d2601eedcb82610e04d230f11'),\n",
       "  HexBytes('0xf5f6d457e8675d3df0b7de2bccc9cab4dfc5fd228e67a63ab858fe06dbcdd953'),\n",
       "  HexBytes('0x2de6c2676bd9f9b1843aa9fa6470bf39978a231e8b5aeda640c9d75f6fea1979'),\n",
       "  HexBytes('0xccf76f7f3649c84af4c529a2a1050759cbe2a60e4d46388510d8be233f5e4052'),\n",
       "  HexBytes('0xfb00c3f1e7b4e5cc16841ff1daa6ff00823a76071374272654e8de5d8115df26'),\n",
       "  HexBytes('0x2e907a7e324033d2db37225f4d6e489bc9ef89ebd843a9c766b7c849c37e52f9'),\n",
       "  HexBytes('0x3e0270c1240a1f1cc5aaeda5cf7accb487d257bf09e305383c28203d06d9eb98'),\n",
       "  HexBytes('0x58b1f59a4f3c295e8995ee7dd9c1512ddf001217c116b676a8037395e1fc1a41'),\n",
       "  HexBytes('0xb644a4b00c2c9e523eb84246023ad52309ed75f69e8c35934781433bfed24f49'),\n",
       "  HexBytes('0x2dbb955640b378d2793b917ba34ebda21dac6be939d519f0ad99c74da2342e82'),\n",
       "  HexBytes('0x24bc417bd8800b7555625e2b4ca7f06cfd16563648d127f04e61dc55e744f25a'),\n",
       "  HexBytes('0x0c26fa3f0b6798ab1336aa2381929b9ae30799d5d60cf1d52cdb41c5ded9cb4d'),\n",
       "  HexBytes('0x66e628f95ed8d07967798432174b72a50328d57b4c135479611ed4ce8dfebec4'),\n",
       "  HexBytes('0xa0905e552b6cea8e1b8b3e2427ee9c967fe8fac8c04ad3dcd0101cc7fd77bc0c'),\n",
       "  HexBytes('0xc61ab2685da67de244a3c9de18487370d2975b7cf0475fdde64d369f7aa8bd3e'),\n",
       "  HexBytes('0x06ff35c9aff9217842d158b6a28b7bd4fd9ff9056ae9167f63586855b70b2d87'),\n",
       "  HexBytes('0x276352ba30a3f226702df15ce2260d4df645e10906852cf4fdce820fcaea14fa'),\n",
       "  HexBytes('0xbc43d5a5fc3b61832908c82e1073decf2a91402df2671088f3bf007627b18638'),\n",
       "  HexBytes('0x8ea3427242839a041c62478bbba667eeefa50652668b6e85564902bb620f9b86'),\n",
       "  HexBytes('0x74ac73090d09a5d0a3edbfac291785dcf29e0218337b1ce42942500aa26727b2'),\n",
       "  HexBytes('0x602679625a74eef92e519b529e0f844c9366242b2da4841ed46d705565dcf6d8'),\n",
       "  HexBytes('0x41ff45601a4fe23e243f12cb9151b35b5dd9f2c40efcb8da11d0aad6eb8ff7c8'),\n",
       "  HexBytes('0xfc6f48d0f495696c953da1a3d9809dcd79269e8e6c9c4447ea1206135e76e53a')],\n",
       " 'transactionsRoot': HexBytes('0x82bd9455677a5787ff8200bcda8d103f093adbac63653806de0f3f344c7d4077'),\n",
       " 'uncles': []})"
      ]
     },
     "execution_count": 3,
     "metadata": {},
     "output_type": "execute_result"
    }
   ],
   "source": [
    "w3.eth.getBlock('latest')"
   ]
  },
  {
   "cell_type": "code",
   "execution_count": 1,
   "metadata": {},
   "outputs": [],
   "source": [
    "import pandas as pd"
   ]
  },
  {
   "cell_type": "code",
   "execution_count": 2,
   "metadata": {},
   "outputs": [],
   "source": [
    "df = pd.read_csv('transaction_till_100000.csv')"
   ]
  },
  {
   "cell_type": "code",
   "execution_count": 3,
   "metadata": {},
   "outputs": [
    {
     "data": {
      "text/html": [
       "<div>\n",
       "<style scoped>\n",
       "    .dataframe tbody tr th:only-of-type {\n",
       "        vertical-align: middle;\n",
       "    }\n",
       "\n",
       "    .dataframe tbody tr th {\n",
       "        vertical-align: top;\n",
       "    }\n",
       "\n",
       "    .dataframe thead th {\n",
       "        text-align: right;\n",
       "    }\n",
       "</style>\n",
       "<table border=\"1\" class=\"dataframe\">\n",
       "  <thead>\n",
       "    <tr style=\"text-align: right;\">\n",
       "      <th></th>\n",
       "      <th>From</th>\n",
       "      <th>To</th>\n",
       "      <th>Value</th>\n",
       "      <th>Time</th>\n",
       "      <th>Block</th>\n",
       "    </tr>\n",
       "  </thead>\n",
       "  <tbody>\n",
       "    <tr>\n",
       "      <th>0</th>\n",
       "      <td>ethereum</td>\n",
       "      <td>0</td>\n",
       "      <td>5.000000e+18</td>\n",
       "      <td>0</td>\n",
       "      <td>0</td>\n",
       "    </tr>\n",
       "    <tr>\n",
       "      <th>1</th>\n",
       "      <td>ethereum</td>\n",
       "      <td>05a56e2d52c817161883f50c441c3228cfe54d9f</td>\n",
       "      <td>5.000000e+18</td>\n",
       "      <td>1438269988</td>\n",
       "      <td>1</td>\n",
       "    </tr>\n",
       "    <tr>\n",
       "      <th>2</th>\n",
       "      <td>ethereum</td>\n",
       "      <td>0193d941b50d91be6567c7ee1c0fe7af498b4137</td>\n",
       "      <td>5.000000e+18</td>\n",
       "      <td>1438270128</td>\n",
       "      <td>10</td>\n",
       "    </tr>\n",
       "    <tr>\n",
       "      <th>3</th>\n",
       "      <td>ethereum</td>\n",
       "      <td>e6a7a1d47ff21b6321162aea7c6cb457d5476bca</td>\n",
       "      <td>5.000000e+18</td>\n",
       "      <td>1439799138</td>\n",
       "      <td>100000</td>\n",
       "    </tr>\n",
       "    <tr>\n",
       "      <th>4</th>\n",
       "      <td>ethereum</td>\n",
       "      <td>9beb4d346c6309a9ce4f27393c6322c8f03a3be6</td>\n",
       "      <td>5.000000e+18</td>\n",
       "      <td>1438336146</td>\n",
       "      <td>10099</td>\n",
       "    </tr>\n",
       "  </tbody>\n",
       "</table>\n",
       "</div>"
      ],
      "text/plain": [
       "       From                                        To         Value  \\\n",
       "0  ethereum                                         0  5.000000e+18   \n",
       "1  ethereum  05a56e2d52c817161883f50c441c3228cfe54d9f  5.000000e+18   \n",
       "2  ethereum  0193d941b50d91be6567c7ee1c0fe7af498b4137  5.000000e+18   \n",
       "3  ethereum  e6a7a1d47ff21b6321162aea7c6cb457d5476bca  5.000000e+18   \n",
       "4  ethereum  9beb4d346c6309a9ce4f27393c6322c8f03a3be6  5.000000e+18   \n",
       "\n",
       "         Time   Block  \n",
       "0           0       0  \n",
       "1  1438269988       1  \n",
       "2  1438270128      10  \n",
       "3  1439799138  100000  \n",
       "4  1438336146   10099  "
      ]
     },
     "execution_count": 3,
     "metadata": {},
     "output_type": "execute_result"
    }
   ],
   "source": [
    "df.head()"
   ]
  },
  {
   "cell_type": "code",
   "execution_count": 17,
   "metadata": {},
   "outputs": [],
   "source": [
    "add = df.From.unique()[1]\n"
   ]
  },
  {
   "cell_type": "code",
   "execution_count": 20,
   "metadata": {},
   "outputs": [],
   "source": [
    "add = Web3.toChecksumAddress(add)"
   ]
  },
  {
   "cell_type": "code",
   "execution_count": 22,
   "metadata": {},
   "outputs": [
    {
     "data": {
      "text/plain": [
       "140000000000000000000"
      ]
     },
     "execution_count": 22,
     "metadata": {},
     "output_type": "execute_result"
    }
   ],
   "source": [
    "w3.eth.getBalance(add,100)"
   ]
  },
  {
   "cell_type": "code",
   "execution_count": 26,
   "metadata": {},
   "outputs": [],
   "source": [
    "df_b = df[df['Block']==1000][['From','To']]\n",
    "    "
   ]
  },
  {
   "cell_type": "code",
   "execution_count": 34,
   "metadata": {},
   "outputs": [],
   "source": [
    "import numpy as np"
   ]
  },
  {
   "cell_type": "code",
   "execution_count": 35,
   "metadata": {},
   "outputs": [
    {
     "ename": "TypeError",
     "evalue": "only integer scalar arrays can be converted to a scalar index",
     "output_type": "error",
     "traceback": [
      "\u001b[0;31m---------------------------------------------------------------------------\u001b[0m",
      "\u001b[0;31mTypeError\u001b[0m                                 Traceback (most recent call last)",
      "\u001b[0;32m<ipython-input-35-14a31ba27104>\u001b[0m in \u001b[0;36m<module>\u001b[0;34m()\u001b[0m\n\u001b[0;32m----> 1\u001b[0;31m \u001b[0mnp\u001b[0m\u001b[0;34m.\u001b[0m\u001b[0mconcatenate\u001b[0m\u001b[0;34m(\u001b[0m\u001b[0mdf_b\u001b[0m\u001b[0;34m.\u001b[0m\u001b[0mFrom\u001b[0m\u001b[0;34m.\u001b[0m\u001b[0munique\u001b[0m\u001b[0;34m(\u001b[0m\u001b[0;34m)\u001b[0m\u001b[0;34m,\u001b[0m\u001b[0mdf_b\u001b[0m\u001b[0;34m.\u001b[0m\u001b[0mTo\u001b[0m\u001b[0;34m.\u001b[0m\u001b[0munique\u001b[0m\u001b[0;34m(\u001b[0m\u001b[0;34m)\u001b[0m\u001b[0;34m)\u001b[0m\u001b[0;34m\u001b[0m\u001b[0m\n\u001b[0m",
      "\u001b[0;31mTypeError\u001b[0m: only integer scalar arrays can be converted to a scalar index"
     ]
    }
   ],
   "source": [
    "np.concatenate(df_b.From.unique(),df_b.To.unique())"
   ]
  },
  {
   "cell_type": "code",
   "execution_count": 38,
   "metadata": {},
   "outputs": [],
   "source": [
    "address = np.append(df_b.From.unique(),df_b.To.unique())"
   ]
  },
  {
   "cell_type": "code",
   "execution_count": 41,
   "metadata": {},
   "outputs": [
    {
     "name": "stdout",
     "output_type": "stream",
     "text": [
      "bb7b8287f3f0a933474a79eae42cbca977791171 151250000000000000000\n"
     ]
    }
   ],
   "source": [
    "blockNum = 100\n",
    "for i in range(len(address)):\n",
    "    if address[i]!='ethereum':\n",
    "        account = Web3.toChecksumAddress(address[i])\n",
    "        balance = w3.eth.getBalance(account,blockNum)\n",
    "        print(address[i],balance)"
   ]
  },
  {
   "cell_type": "code",
   "execution_count": 81,
   "metadata": {},
   "outputs": [],
   "source": [
    "def fillBalanceTable(blockNum,fname):\n",
    "    df_b = df[df['Block']==blockNum][['From','To']]\n",
    "    address = np.append(df_b.From.unique(),df_b.To.unique())\n",
    "    #with open(fname,'a') as ft:\n",
    "    for i in range(len(address)):\n",
    "        if address[i]!='ethereum' and address[i]!='0':\n",
    "            account = Web3.toChecksumAddress(address[i])\n",
    "            balance = w3.eth.getBalance(account,blockNum)\n",
    "            ft = open(fname,'a')\n",
    "            ft.write(account+','+str(balance)+','+str(blockNum))\n",
    "            ft.write('\\n')\n",
    "            ft.close()"
   ]
  },
  {
   "cell_type": "code",
   "execution_count": 49,
   "metadata": {},
   "outputs": [
    {
     "name": "stdout",
     "output_type": "stream",
     "text": [
      "bf71642d7cbae8faf1cfdc6c1c48fcb45b15ed22 147343750000000000000\n"
     ]
    }
   ],
   "source": [
    "fillBalanceTable(10000)"
   ]
  },
  {
   "cell_type": "code",
   "execution_count": 47,
   "metadata": {},
   "outputs": [
    {
     "data": {
      "text/html": [
       "<div>\n",
       "<style scoped>\n",
       "    .dataframe tbody tr th:only-of-type {\n",
       "        vertical-align: middle;\n",
       "    }\n",
       "\n",
       "    .dataframe tbody tr th {\n",
       "        vertical-align: top;\n",
       "    }\n",
       "\n",
       "    .dataframe thead th {\n",
       "        text-align: right;\n",
       "    }\n",
       "</style>\n",
       "<table border=\"1\" class=\"dataframe\">\n",
       "  <thead>\n",
       "    <tr style=\"text-align: right;\">\n",
       "      <th></th>\n",
       "      <th>From</th>\n",
       "      <th>To</th>\n",
       "      <th>Value</th>\n",
       "      <th>Time</th>\n",
       "      <th>Block</th>\n",
       "    </tr>\n",
       "  </thead>\n",
       "  <tbody>\n",
       "    <tr>\n",
       "      <th>103</th>\n",
       "      <td>ethereum</td>\n",
       "      <td>bf71642d7cbae8faf1cfdc6c1c48fcb45b15ed22</td>\n",
       "      <td>5.000000e+18</td>\n",
       "      <td>1438334627</td>\n",
       "      <td>10000</td>\n",
       "    </tr>\n",
       "  </tbody>\n",
       "</table>\n",
       "</div>"
      ],
      "text/plain": [
       "         From                                        To         Value  \\\n",
       "103  ethereum  bf71642d7cbae8faf1cfdc6c1c48fcb45b15ed22  5.000000e+18   \n",
       "\n",
       "           Time  Block  \n",
       "103  1438334627  10000  "
      ]
     },
     "execution_count": 47,
     "metadata": {},
     "output_type": "execute_result"
    }
   ],
   "source": [
    "df[df.Block==10000]"
   ]
  },
  {
   "cell_type": "code",
   "execution_count": 74,
   "metadata": {},
   "outputs": [],
   "source": [
    "fs = open('blockAccountBalance1.csv','w')\n",
    "fs.write('Account,Balance,Block\\n')\n",
    "fs.close()"
   ]
  },
  {
   "cell_type": "code",
   "execution_count": 57,
   "metadata": {},
   "outputs": [],
   "source": [
    "for i in range(1,1000):\n",
    "    fillBalanceTable(i,'blockAccountBalance.csv')"
   ]
  },
  {
   "cell_type": "code",
   "execution_count": 62,
   "metadata": {},
   "outputs": [],
   "source": [
    "df_1 = pd.read_csv('blockAccountBalance.csv')"
   ]
  },
  {
   "cell_type": "code",
   "execution_count": 63,
   "metadata": {},
   "outputs": [
    {
     "data": {
      "text/html": [
       "<div>\n",
       "<style scoped>\n",
       "    .dataframe tbody tr th:only-of-type {\n",
       "        vertical-align: middle;\n",
       "    }\n",
       "\n",
       "    .dataframe tbody tr th {\n",
       "        vertical-align: top;\n",
       "    }\n",
       "\n",
       "    .dataframe thead th {\n",
       "        text-align: right;\n",
       "    }\n",
       "</style>\n",
       "<table border=\"1\" class=\"dataframe\">\n",
       "  <thead>\n",
       "    <tr style=\"text-align: right;\">\n",
       "      <th></th>\n",
       "      <th>Account</th>\n",
       "      <th>Balance</th>\n",
       "      <th>Block</th>\n",
       "    </tr>\n",
       "  </thead>\n",
       "  <tbody>\n",
       "    <tr>\n",
       "      <th>0</th>\n",
       "      <td>0x05a56E2D52c817161883f50c441c3228CFe54d9f</td>\n",
       "      <td>5000000000000000000</td>\n",
       "      <td>1</td>\n",
       "    </tr>\n",
       "    <tr>\n",
       "      <th>1</th>\n",
       "      <td>0xdd2F1e6e498202e86D8f5442Af596580A4f03c2C</td>\n",
       "      <td>5000000000000000000</td>\n",
       "      <td>2</td>\n",
       "    </tr>\n",
       "    <tr>\n",
       "      <th>2</th>\n",
       "      <td>0x5088D623ba0fcf0131E0897a91734A4D83596AA0</td>\n",
       "      <td>5156250000000000000</td>\n",
       "      <td>3</td>\n",
       "    </tr>\n",
       "    <tr>\n",
       "      <th>3</th>\n",
       "      <td>0xc8ebccC5F5689Fa8659d83713341e5aD19349448</td>\n",
       "      <td>3750000000000000000</td>\n",
       "      <td>3</td>\n",
       "    </tr>\n",
       "    <tr>\n",
       "      <th>4</th>\n",
       "      <td>0xc8ebccC5F5689Fa8659d83713341e5aD19349448</td>\n",
       "      <td>8906250000000000000</td>\n",
       "      <td>4</td>\n",
       "    </tr>\n",
       "  </tbody>\n",
       "</table>\n",
       "</div>"
      ],
      "text/plain": [
       "                                      Account              Balance  Block\n",
       "0  0x05a56E2D52c817161883f50c441c3228CFe54d9f  5000000000000000000      1\n",
       "1  0xdd2F1e6e498202e86D8f5442Af596580A4f03c2C  5000000000000000000      2\n",
       "2  0x5088D623ba0fcf0131E0897a91734A4D83596AA0  5156250000000000000      3\n",
       "3  0xc8ebccC5F5689Fa8659d83713341e5aD19349448  3750000000000000000      3\n",
       "4  0xc8ebccC5F5689Fa8659d83713341e5aD19349448  8906250000000000000      4"
      ]
     },
     "execution_count": 63,
     "metadata": {},
     "output_type": "execute_result"
    }
   ],
   "source": [
    "df_1.head()"
   ]
  },
  {
   "cell_type": "code",
   "execution_count": 64,
   "metadata": {},
   "outputs": [
    {
     "data": {
      "text/plain": [
       "5000"
      ]
     },
     "execution_count": 64,
     "metadata": {},
     "output_type": "execute_result"
    }
   ],
   "source": [
    "df_1.Block.max()"
   ]
  },
  {
   "cell_type": "code",
   "execution_count": 61,
   "metadata": {},
   "outputs": [],
   "source": [
    "for i in range(1000,5001):\n",
    "    fillBalanceTable(i,'blockAccountBalance.csv')"
   ]
  },
  {
   "cell_type": "code",
   "execution_count": 82,
   "metadata": {},
   "outputs": [],
   "source": [
    "def createBalanceCSV(start,end,fname):\n",
    "    for i in range(start,end+1):\n",
    "        fillBalanceTable(i,fname)\n",
    "        print('finished for block: ',i)"
   ]
  },
  {
   "cell_type": "code",
   "execution_count": 67,
   "metadata": {},
   "outputs": [],
   "source": [
    "from multiprocessing import Process"
   ]
  },
  {
   "cell_type": "code",
   "execution_count": 77,
   "metadata": {},
   "outputs": [],
   "source": [
    "jobs = []"
   ]
  },
  {
   "cell_type": "code",
   "execution_count": 83,
   "metadata": {},
   "outputs": [],
   "source": [
    "jobs.append(Process(target=createBalanceCSV, args=(5305,7500,\"blockAccountBalance.csv\")))\n",
    "jobs.append(Process(target=createBalanceCSV, args=(7501,10000,\"blockAccountBalance.csv\")))\n",
    "jobs.append(Process(target=createBalanceCSV, args=(10001,12500,\"blockAccountBalance.csv\")))\n",
    "jobs.append(Process(target=createBalanceCSV, args=(12501,15000,\"blockAccountBalance.csv\")))"
   ]
  },
  {
   "cell_type": "code",
   "execution_count": 84,
   "metadata": {},
   "outputs": [
    {
     "ename": "AssertionError",
     "evalue": "cannot start a process twice",
     "output_type": "error",
     "traceback": [
      "\u001b[0;31m---------------------------------------------------------------------------\u001b[0m",
      "\u001b[0;31mAssertionError\u001b[0m                            Traceback (most recent call last)",
      "\u001b[0;32m<ipython-input-84-1a14b5963c34>\u001b[0m in \u001b[0;36m<module>\u001b[0;34m()\u001b[0m\n\u001b[1;32m      1\u001b[0m \u001b[0;32mfor\u001b[0m \u001b[0mj\u001b[0m \u001b[0;32min\u001b[0m \u001b[0mjobs\u001b[0m\u001b[0;34m:\u001b[0m\u001b[0;34m\u001b[0m\u001b[0m\n\u001b[0;32m----> 2\u001b[0;31m     \u001b[0mj\u001b[0m\u001b[0;34m.\u001b[0m\u001b[0mstart\u001b[0m\u001b[0;34m(\u001b[0m\u001b[0;34m)\u001b[0m\u001b[0;34m\u001b[0m\u001b[0m\n\u001b[0m\u001b[1;32m      3\u001b[0m     \u001b[0;32mfor\u001b[0m \u001b[0mj\u001b[0m \u001b[0;32min\u001b[0m \u001b[0mjobs\u001b[0m\u001b[0;34m:\u001b[0m\u001b[0;34m\u001b[0m\u001b[0m\n\u001b[1;32m      4\u001b[0m         \u001b[0mj\u001b[0m\u001b[0;34m.\u001b[0m\u001b[0mjoin\u001b[0m\u001b[0;34m(\u001b[0m\u001b[0;34m)\u001b[0m\u001b[0;34m\u001b[0m\u001b[0m\n",
      "\u001b[0;32m/usr/lib/python3.6/multiprocessing/process.py\u001b[0m in \u001b[0;36mstart\u001b[0;34m(self)\u001b[0m\n\u001b[1;32m     97\u001b[0m         \u001b[0mStart\u001b[0m \u001b[0mchild\u001b[0m \u001b[0mprocess\u001b[0m\u001b[0;34m\u001b[0m\u001b[0m\n\u001b[1;32m     98\u001b[0m         '''\n\u001b[0;32m---> 99\u001b[0;31m         \u001b[0;32massert\u001b[0m \u001b[0mself\u001b[0m\u001b[0;34m.\u001b[0m\u001b[0m_popen\u001b[0m \u001b[0;32mis\u001b[0m \u001b[0;32mNone\u001b[0m\u001b[0;34m,\u001b[0m \u001b[0;34m'cannot start a process twice'\u001b[0m\u001b[0;34m\u001b[0m\u001b[0m\n\u001b[0m\u001b[1;32m    100\u001b[0m         \u001b[0;32massert\u001b[0m \u001b[0mself\u001b[0m\u001b[0;34m.\u001b[0m\u001b[0m_parent_pid\u001b[0m \u001b[0;34m==\u001b[0m \u001b[0mos\u001b[0m\u001b[0;34m.\u001b[0m\u001b[0mgetpid\u001b[0m\u001b[0;34m(\u001b[0m\u001b[0;34m)\u001b[0m\u001b[0;34m,\u001b[0m\u001b[0;31m \u001b[0m\u001b[0;31m\\\u001b[0m\u001b[0;34m\u001b[0m\u001b[0m\n\u001b[1;32m    101\u001b[0m                \u001b[0;34m'can only start a process object created by current process'\u001b[0m\u001b[0;34m\u001b[0m\u001b[0m\n",
      "\u001b[0;31mAssertionError\u001b[0m: cannot start a process twice"
     ]
    }
   ],
   "source": [
    "for j in jobs:\n",
    "    j.start()\n",
    "    for j in jobs:\n",
    "        j.join()"
   ]
  },
  {
   "cell_type": "code",
   "execution_count": 80,
   "metadata": {},
   "outputs": [
    {
     "data": {
      "text/html": [
       "<div>\n",
       "<style scoped>\n",
       "    .dataframe tbody tr th:only-of-type {\n",
       "        vertical-align: middle;\n",
       "    }\n",
       "\n",
       "    .dataframe tbody tr th {\n",
       "        vertical-align: top;\n",
       "    }\n",
       "\n",
       "    .dataframe thead th {\n",
       "        text-align: right;\n",
       "    }\n",
       "</style>\n",
       "<table border=\"1\" class=\"dataframe\">\n",
       "  <thead>\n",
       "    <tr style=\"text-align: right;\">\n",
       "      <th></th>\n",
       "      <th>From</th>\n",
       "      <th>To</th>\n",
       "      <th>Value</th>\n",
       "      <th>Time</th>\n",
       "      <th>Block</th>\n",
       "    </tr>\n",
       "  </thead>\n",
       "  <tbody>\n",
       "    <tr>\n",
       "      <th>51641</th>\n",
       "      <td>ethereum</td>\n",
       "      <td>0</td>\n",
       "      <td>5.000000e+18</td>\n",
       "      <td>1438288819</td>\n",
       "      <td>5305</td>\n",
       "    </tr>\n",
       "  </tbody>\n",
       "</table>\n",
       "</div>"
      ],
      "text/plain": [
       "           From To         Value        Time  Block\n",
       "51641  ethereum  0  5.000000e+18  1438288819   5305"
      ]
     },
     "execution_count": 80,
     "metadata": {},
     "output_type": "execute_result"
    }
   ],
   "source": [
    "df[df.Block==5305]"
   ]
  },
  {
   "cell_type": "code",
   "execution_count": 45,
   "metadata": {},
   "outputs": [],
   "source": [
    "import numpy as np\n",
    "def balanceAccountBlock(blockNum, df): # retrieve balances of all accounts given a block number\n",
    "    df_b = df[df['Block']<=blockNum][['From','To']]\n",
    "    address = np.append(df_b.From.unique(),df_b.To.unique())\n",
    "    address = list(set(address))\n",
    "    print(\"addresses to look into: \",len(address))\n",
    "    with open('AccountBalanace'+str(blockNum)+'.csv','w') as ft:\n",
    "        ft.write('Account,Balance,Block')\n",
    "        ft.write('\\n')\n",
    "        for add in address:\n",
    "            if add!='ethereum' and add!='0':\n",
    "                try:\n",
    "                    account = Web3.toChecksumAddress(add)\n",
    "                    balance = w3.eth.getBalance(account,blockNum)\n",
    "                    ft.write(add+','+str(balance)+','+str(blockNum))\n",
    "                    ft.write('\\n')\n",
    "                except:\n",
    "                    print(add)\n",
    "    "
   ]
  },
  {
   "cell_type": "code",
   "execution_count": 46,
   "metadata": {
    "scrolled": false
   },
   "outputs": [
    {
     "name": "stdout",
     "output_type": "stream",
     "text": [
      "addresses to look into:  7880\n",
      "b67b6bb30bb68ed96f23f1fb8c6da01b3c37f6d4\n",
      "e706a05a40761915bc70310f7a94e6b2b596dbf8\n",
      "6.12416344436736E+039\n",
      "c47d9e6c75d388aeb92574429dad43a148f2f3ea\n",
      "164334243ea25246e0703f3bfca824a30e87197f\n",
      "288e4356f12d0d3d0f8df3506e457e7cfd5f4ab0\n",
      "87fd1c6dfa355a18911997a9bffa561272829453\n",
      "5a192b964afd80773e5f5eda6a56f14e25e0c6f3\n",
      "3da4225ad67e0e5729ff1beaa10bb6e41ddf31f7\n",
      "8f1c0dd1d8d230f7557b63967586eac9f139dcee\n",
      "e7ca5a8e75ef17f845c14a85c50e39b0dd30b8b7\n",
      "710c5febe84c40b3c12be2cb2378b863f67235df\n",
      "426f78f70db259ac8534145b2934f4ef1098b5d8\n",
      "9ff6094d95665aa596f05f1f4841d9b29df75188\n",
      "91409b1271111e5f3a526e53031d7553ec8959d3\n",
      "c54671b79ffcdc38c550bfc2f43aca4faf8d6f64\n",
      "f2ae859397af92154241ead0ac7c4ce3bea76e8f\n",
      "95227f88247580d7c3927bdafe78e73a675cdc76\n",
      "afa919981af838667228c343c15d7fde1bfa211c\n",
      "3899a1cdb9b4275d84860c6ab72d09e08dcc589a\n",
      "ec6a6bd0df7186d3c2fce7c46264b0b9b2e5e1e5\n",
      "501e496ad1c7fa8d0eed694450ba29b1ec0783bf\n",
      "ed1f560d21dde85fac18f23530c257c572f2f5ee\n",
      "d9a6ffe60b9c5e07f3d48a6880e3a2ee4659cdb2\n",
      "a725d243d631da2c9a1baf73fd323eae46d87023\n",
      "ebbd4db9019952d68b1b0f6d8cf0683c00387bb5\n",
      "aae61e43cb0d0c96b30699f77e00d711d0a3979b\n",
      "6a2bea124a39fad45d506f4d89330356e19592eb\n",
      "f084eabafbdec8489139e086da1e50930c670873\n",
      "640bafc5732d621d5611eed670718409acb81366\n",
      "14b01fe46d16d9283a84b92df2385bdc8f6f7475\n",
      "a6f56910addd015f84617f1bb1f8c9fdac02171b\n",
      "f49c47b3efd86b6e6a5bc9418d1f9fec814b69ef\n",
      "50eefd3ca3ddb144266bfab2194ba9cce30cc8f0\n",
      "0e1801e70b6262861b1134ccbc391f568afc92f7\n",
      "3175a28cf6105466923f11bffabd279f162aa2f8\n",
      "8bb807c77969259b4bb4fb3522e1720f4f6bebed\n",
      "d81c0676a709c835d46771a49db31af66c2dd87f\n",
      "76d4a9bc9612be738a81d0fe632b00b971e2bb9a\n",
      "c9b2af9c94d197b843cd016823fc5d8dffadd523\n",
      "0f23c93c4a3d51947370570984deda49b04e383d\n",
      "9858447d05901da8e335b3705d961fcd25e51c44\n",
      "15849ff8a79a86977272335bc35387e7907a6857\n",
      "d42b19481ec61fac518e2e224cbeef5d03f4a9e3\n",
      "5a09fcd65081be9d1bafa0493697d85aecbb22ae\n",
      "17b4c395793d0808549fb843199c4e54f0bba19a\n",
      "ac49eeb6a55af554d86d37b4a4ea7940010866e1\n",
      "e33977e292ccef99ea8828733e97562f3690a8ad\n",
      "91bf47807beab6ebf094d9a11c18f6c3fb30ace7\n",
      "7025965d2b88da197d4459be3dc9386344cc1f31\n",
      "25559969c52847e3d892377c0d5ede529cbe6913\n",
      "b2e4017063376d7eb1a72d91ec8ff38712ffebdf\n",
      "6ac950be890efe6f290a50f2105661f9eb796c2f\n",
      "202a92ec4abb585097c28e910263f74f103ffa33\n",
      "f661e21b71a9ca331e251e51a412857d2b61d8f8\n",
      "eb5e8925925042da3afd0e8062146db0b2d394a3\n",
      "3d1ec422a1a244545a285a739007450cd60a91ce\n",
      "f109ca710c0df51c1a86dba1b0ba0ed038114463\n",
      "adb948b1b6fefe207de65e9bbc2de98e605d0b57\n",
      "684a7b7c096606d1de0bddbb85d6e289b882dcea\n",
      "fdd502a74e813bcfa355ceda3c176f6a6871af7f\n",
      "c90a7389b3909a04f9eddf85a5b51f5f5470b8d9\n",
      "36f60f6fae70855d6a506c3cbdfa8b1cc4d77c35\n",
      "475526af19ba007bc39ba43c0946892035aa1b08\n",
      "9b80bd38c4afe0942f8029298a11face85ce4caf\n",
      "ef6f9577eddfe34dcba0e339930799b391e1d66f\n",
      "af7aee4db4d23c0c96d067d96f020147fed242c5\n"
     ]
    }
   ],
   "source": [
    "balanceAccountBlock(100000,df)"
   ]
  },
  {
   "cell_type": "code",
   "execution_count": 58,
   "metadata": {},
   "outputs": [],
   "source": [
    "account = Web3.toChecksumAddress('c47d9e6c75d388aeb92574429dad43a148f2f3ea')"
   ]
  },
  {
   "cell_type": "code",
   "execution_count": 59,
   "metadata": {},
   "outputs": [
    {
     "data": {
      "text/plain": [
       "31307600945853274600"
      ]
     },
     "execution_count": 59,
     "metadata": {},
     "output_type": "execute_result"
    }
   ],
   "source": [
    "w3.eth.getBalance(account,100000)"
   ]
  },
  {
   "cell_type": "code",
   "execution_count": null,
   "metadata": {},
   "outputs": [],
   "source": []
  },
  {
   "cell_type": "code",
   "execution_count": null,
   "metadata": {},
   "outputs": [],
   "source": []
  },
  {
   "cell_type": "code",
   "execution_count": null,
   "metadata": {},
   "outputs": [],
   "source": []
  },
  {
   "cell_type": "code",
   "execution_count": null,
   "metadata": {},
   "outputs": [],
   "source": []
  },
  {
   "cell_type": "code",
   "execution_count": 52,
   "metadata": {},
   "outputs": [],
   "source": [
    "df_balance = pd.read_csv('AccountBalanace100000.csv')"
   ]
  },
  {
   "cell_type": "code",
   "execution_count": 53,
   "metadata": {},
   "outputs": [
    {
     "data": {
      "text/html": [
       "<div>\n",
       "<style scoped>\n",
       "    .dataframe tbody tr th:only-of-type {\n",
       "        vertical-align: middle;\n",
       "    }\n",
       "\n",
       "    .dataframe tbody tr th {\n",
       "        vertical-align: top;\n",
       "    }\n",
       "\n",
       "    .dataframe thead th {\n",
       "        text-align: right;\n",
       "    }\n",
       "</style>\n",
       "<table border=\"1\" class=\"dataframe\">\n",
       "  <thead>\n",
       "    <tr style=\"text-align: right;\">\n",
       "      <th></th>\n",
       "      <th>Account</th>\n",
       "      <th>Balance</th>\n",
       "      <th>Block</th>\n",
       "    </tr>\n",
       "  </thead>\n",
       "  <tbody>\n",
       "    <tr>\n",
       "      <th>0</th>\n",
       "      <td>32728d6184d9a6abd2541294d4cbde925924291a</td>\n",
       "      <td>0</td>\n",
       "      <td>100000</td>\n",
       "    </tr>\n",
       "    <tr>\n",
       "      <th>1</th>\n",
       "      <td>9f29a11e58479e87f4d10413ec0cf7f3ff34c4c1</td>\n",
       "      <td>240625000000000000000</td>\n",
       "      <td>100000</td>\n",
       "    </tr>\n",
       "    <tr>\n",
       "      <th>2</th>\n",
       "      <td>632bb14025ba69a50f8c99f962998f06b70f76b4</td>\n",
       "      <td>981800000000000000</td>\n",
       "      <td>100000</td>\n",
       "    </tr>\n",
       "    <tr>\n",
       "      <th>3</th>\n",
       "      <td>f79650c3c0a99fa165c62bbeab819e706182c10f</td>\n",
       "      <td>0</td>\n",
       "      <td>100000</td>\n",
       "    </tr>\n",
       "    <tr>\n",
       "      <th>4</th>\n",
       "      <td>7705158b409f54a0e4373a31bbdc2a7abd8161ae</td>\n",
       "      <td>0</td>\n",
       "      <td>100000</td>\n",
       "    </tr>\n",
       "  </tbody>\n",
       "</table>\n",
       "</div>"
      ],
      "text/plain": [
       "                                    Account                Balance   Block\n",
       "0  32728d6184d9a6abd2541294d4cbde925924291a                      0  100000\n",
       "1  9f29a11e58479e87f4d10413ec0cf7f3ff34c4c1  240625000000000000000  100000\n",
       "2  632bb14025ba69a50f8c99f962998f06b70f76b4     981800000000000000  100000\n",
       "3  f79650c3c0a99fa165c62bbeab819e706182c10f                      0  100000\n",
       "4  7705158b409f54a0e4373a31bbdc2a7abd8161ae                      0  100000"
      ]
     },
     "execution_count": 53,
     "metadata": {},
     "output_type": "execute_result"
    }
   ],
   "source": [
    "df_balance.head()"
   ]
  },
  {
   "cell_type": "code",
   "execution_count": 24,
   "metadata": {},
   "outputs": [],
   "source": [
    "x = Web3.fromWei(25000000000000,'ether')"
   ]
  },
  {
   "cell_type": "code",
   "execution_count": 26,
   "metadata": {},
   "outputs": [
    {
     "data": {
      "text/plain": [
       "2.5e-05"
      ]
     },
     "execution_count": 26,
     "metadata": {},
     "output_type": "execute_result"
    }
   ],
   "source": [
    "float(x)"
   ]
  },
  {
   "cell_type": "code",
   "execution_count": 30,
   "metadata": {},
   "outputs": [],
   "source": [
    "import pandas as pd"
   ]
  },
  {
   "cell_type": "code",
   "execution_count": 56,
   "metadata": {},
   "outputs": [],
   "source": [
    "df_balance.Balance = df_balance.Balance.apply(lambda x: float(x))"
   ]
  },
  {
   "cell_type": "code",
   "execution_count": 21,
   "metadata": {},
   "outputs": [
    {
     "data": {
      "text/html": [
       "<div>\n",
       "<style scoped>\n",
       "    .dataframe tbody tr th:only-of-type {\n",
       "        vertical-align: middle;\n",
       "    }\n",
       "\n",
       "    .dataframe tbody tr th {\n",
       "        vertical-align: top;\n",
       "    }\n",
       "\n",
       "    .dataframe thead th {\n",
       "        text-align: right;\n",
       "    }\n",
       "</style>\n",
       "<table border=\"1\" class=\"dataframe\">\n",
       "  <thead>\n",
       "    <tr style=\"text-align: right;\">\n",
       "      <th></th>\n",
       "      <th>From</th>\n",
       "      <th>To</th>\n",
       "      <th>Value</th>\n",
       "      <th>Time</th>\n",
       "      <th>Block</th>\n",
       "    </tr>\n",
       "  </thead>\n",
       "  <tbody>\n",
       "    <tr>\n",
       "      <th>91311</th>\n",
       "      <td>7744774422cd8b2d5895d7bc552b9a57388db228</td>\n",
       "      <td>6.12416344436736E+039</td>\n",
       "      <td>1.000000e+18</td>\n",
       "      <td>1439452895</td>\n",
       "      <td>78378</td>\n",
       "    </tr>\n",
       "    <tr>\n",
       "      <th>91618</th>\n",
       "      <td>7744774422cd8b2d5895d7bc552b9a57388db228</td>\n",
       "      <td>6.12416344436736E+039</td>\n",
       "      <td>4.964882e+20</td>\n",
       "      <td>1439455427</td>\n",
       "      <td>78550</td>\n",
       "    </tr>\n",
       "  </tbody>\n",
       "</table>\n",
       "</div>"
      ],
      "text/plain": [
       "                                           From                     To  \\\n",
       "91311  7744774422cd8b2d5895d7bc552b9a57388db228  6.12416344436736E+039   \n",
       "91618  7744774422cd8b2d5895d7bc552b9a57388db228  6.12416344436736E+039   \n",
       "\n",
       "              Value        Time  Block  \n",
       "91311  1.000000e+18  1439452895  78378  \n",
       "91618  4.964882e+20  1439455427  78550  "
      ]
     },
     "execution_count": 21,
     "metadata": {},
     "output_type": "execute_result"
    }
   ],
   "source": [
    "df[df.To=='6.12416344436736E+039']"
   ]
  },
  {
   "cell_type": "code",
   "execution_count": 31,
   "metadata": {},
   "outputs": [
    {
     "data": {
      "text/html": [
       "<div>\n",
       "<style scoped>\n",
       "    .dataframe tbody tr th:only-of-type {\n",
       "        vertical-align: middle;\n",
       "    }\n",
       "\n",
       "    .dataframe tbody tr th {\n",
       "        vertical-align: top;\n",
       "    }\n",
       "\n",
       "    .dataframe thead th {\n",
       "        text-align: right;\n",
       "    }\n",
       "</style>\n",
       "<table border=\"1\" class=\"dataframe\">\n",
       "  <thead>\n",
       "    <tr style=\"text-align: right;\">\n",
       "      <th></th>\n",
       "      <th>Balance</th>\n",
       "      <th>Block</th>\n",
       "    </tr>\n",
       "  </thead>\n",
       "  <tbody>\n",
       "    <tr>\n",
       "      <th>count</th>\n",
       "      <td>1.262400e+04</td>\n",
       "      <td>12624.0</td>\n",
       "    </tr>\n",
       "    <tr>\n",
       "      <th>mean</th>\n",
       "      <td>2.408559e+21</td>\n",
       "      <td>100000.0</td>\n",
       "    </tr>\n",
       "    <tr>\n",
       "      <th>std</th>\n",
       "      <td>9.523821e+22</td>\n",
       "      <td>0.0</td>\n",
       "    </tr>\n",
       "    <tr>\n",
       "      <th>min</th>\n",
       "      <td>0.000000e+00</td>\n",
       "      <td>100000.0</td>\n",
       "    </tr>\n",
       "    <tr>\n",
       "      <th>25%</th>\n",
       "      <td>0.000000e+00</td>\n",
       "      <td>100000.0</td>\n",
       "    </tr>\n",
       "    <tr>\n",
       "      <th>50%</th>\n",
       "      <td>1.186848e+13</td>\n",
       "      <td>100000.0</td>\n",
       "    </tr>\n",
       "    <tr>\n",
       "      <th>75%</th>\n",
       "      <td>5.428642e+18</td>\n",
       "      <td>100000.0</td>\n",
       "    </tr>\n",
       "    <tr>\n",
       "      <th>max</th>\n",
       "      <td>8.809482e+24</td>\n",
       "      <td>100000.0</td>\n",
       "    </tr>\n",
       "  </tbody>\n",
       "</table>\n",
       "</div>"
      ],
      "text/plain": [
       "            Balance     Block\n",
       "count  1.262400e+04   12624.0\n",
       "mean   2.408559e+21  100000.0\n",
       "std    9.523821e+22       0.0\n",
       "min    0.000000e+00  100000.0\n",
       "25%    0.000000e+00  100000.0\n",
       "50%    1.186848e+13  100000.0\n",
       "75%    5.428642e+18  100000.0\n",
       "max    8.809482e+24  100000.0"
      ]
     },
     "execution_count": 31,
     "metadata": {},
     "output_type": "execute_result"
    }
   ],
   "source": [
    "df_balance.describe()"
   ]
  },
  {
   "cell_type": "code",
   "execution_count": 36,
   "metadata": {},
   "outputs": [
    {
     "data": {
      "text/plain": [
       "0.0"
      ]
     },
     "execution_count": 36,
     "metadata": {},
     "output_type": "execute_result"
    }
   ],
   "source": [
    "df_balance.Balance.min()"
   ]
  },
  {
   "cell_type": "code",
   "execution_count": 38,
   "metadata": {},
   "outputs": [
    {
     "data": {
      "text/plain": [
       "8.8094822394799999e+24"
      ]
     },
     "execution_count": 38,
     "metadata": {},
     "output_type": "execute_result"
    }
   ],
   "source": [
    "df_balance.Balance.max()"
   ]
  },
  {
   "cell_type": "code",
   "execution_count": 39,
   "metadata": {},
   "outputs": [],
   "source": [
    "balance = df_balance.Balance.sort_values()"
   ]
  },
  {
   "cell_type": "code",
   "execution_count": 40,
   "metadata": {},
   "outputs": [
    {
     "data": {
      "text/plain": [
       "9100    0.0\n",
       "3169    0.0\n",
       "3168    0.0\n",
       "3167    0.0\n",
       "3166    0.0\n",
       "Name: Balance, dtype: float64"
      ]
     },
     "execution_count": 40,
     "metadata": {},
     "output_type": "execute_result"
    }
   ],
   "source": [
    "balance.head()"
   ]
  },
  {
   "cell_type": "code",
   "execution_count": 41,
   "metadata": {},
   "outputs": [
    {
     "data": {
      "text/plain": [
       "1181    2.450000e+24\n",
       "7545    2.450000e+24\n",
       "1391    3.454732e+24\n",
       "6882    3.454732e+24\n",
       "8460    8.809482e+24\n",
       "Name: Balance, dtype: float64"
      ]
     },
     "execution_count": 41,
     "metadata": {},
     "output_type": "execute_result"
    }
   ],
   "source": [
    "balance.tail()"
   ]
  },
  {
   "cell_type": "code",
   "execution_count": 43,
   "metadata": {},
   "outputs": [
    {
     "data": {
      "text/plain": [
       "0.0"
      ]
     },
     "execution_count": 43,
     "metadata": {},
     "output_type": "execute_result"
    }
   ],
   "source": [
    "G_coeff = 0.0\n",
    "balance.iloc[0]"
   ]
  },
  {
   "cell_type": "code",
   "execution_count": 44,
   "metadata": {},
   "outputs": [],
   "source": [
    "n = balance.count()"
   ]
  },
  {
   "cell_type": "code",
   "execution_count": 45,
   "metadata": {},
   "outputs": [
    {
     "data": {
      "text/plain": [
       "12624"
      ]
     },
     "execution_count": 45,
     "metadata": {},
     "output_type": "execute_result"
    }
   ],
   "source": [
    "n"
   ]
  },
  {
   "cell_type": "code",
   "execution_count": 50,
   "metadata": {},
   "outputs": [
    {
     "data": {
      "text/plain": [
       "8.8094822394799999e+24"
      ]
     },
     "execution_count": 50,
     "metadata": {},
     "output_type": "execute_result"
    }
   ],
   "source": [
    "balance.iloc[12623]"
   ]
  },
  {
   "cell_type": "code",
   "execution_count": 51,
   "metadata": {},
   "outputs": [],
   "source": [
    "b = balance.values"
   ]
  },
  {
   "cell_type": "code",
   "execution_count": 52,
   "metadata": {},
   "outputs": [
    {
     "data": {
      "text/plain": [
       "array([  0.00000000e+00,   0.00000000e+00,   0.00000000e+00, ...,\n",
       "         3.45473167e+24,   3.45473167e+24,   8.80948224e+24])"
      ]
     },
     "execution_count": 52,
     "metadata": {},
     "output_type": "execute_result"
    }
   ],
   "source": [
    "b"
   ]
  },
  {
   "cell_type": "code",
   "execution_count": 53,
   "metadata": {},
   "outputs": [
    {
     "data": {
      "text/plain": [
       "12624"
      ]
     },
     "execution_count": 53,
     "metadata": {},
     "output_type": "execute_result"
    }
   ],
   "source": [
    "b.size"
   ]
  },
  {
   "cell_type": "code",
   "execution_count": 54,
   "metadata": {},
   "outputs": [
    {
     "data": {
      "text/plain": [
       "array([  0.00000000e+00,   0.00000000e+00,   0.00000000e+00, ...,\n",
       "         1.81414353e+25,   2.15961670e+25,   3.04056492e+25])"
      ]
     },
     "execution_count": 54,
     "metadata": {},
     "output_type": "execute_result"
    }
   ],
   "source": [
    "b.cumsum()"
   ]
  },
  {
   "cell_type": "code",
   "execution_count": 55,
   "metadata": {},
   "outputs": [],
   "source": [
    "import matplotlib.pyplot as plt"
   ]
  },
  {
   "cell_type": "code",
   "execution_count": 58,
   "metadata": {},
   "outputs": [],
   "source": [
    "a = np.array([1,2,3,4,5,6])"
   ]
  },
  {
   "cell_type": "code",
   "execution_count": 59,
   "metadata": {},
   "outputs": [
    {
     "data": {
      "text/plain": [
       "3.040564923603721e+25"
      ]
     },
     "execution_count": 59,
     "metadata": {},
     "output_type": "execute_result"
    }
   ],
   "source": [
    "b.sum()"
   ]
  },
  {
   "cell_type": "code",
   "execution_count": 66,
   "metadata": {},
   "outputs": [
    {
     "ename": "SyntaxError",
     "evalue": "invalid syntax (<ipython-input-66-529ddbefa042>, line 3)",
     "output_type": "error",
     "traceback": [
      "\u001b[0;36m  File \u001b[0;32m\"<ipython-input-66-529ddbefa042>\"\u001b[0;36m, line \u001b[0;32m3\u001b[0m\n\u001b[0;31m    c = map(lambda(i,x):i*x, enumerate(A))\u001b[0m\n\u001b[0m                  ^\u001b[0m\n\u001b[0;31mSyntaxError\u001b[0m\u001b[0;31m:\u001b[0m invalid syntax\n"
     ]
    }
   ],
   "source": [
    "A = [1,2,3,4,5]\n",
    "n = len(A)+1\n",
    "c = map(lambda(i,x):i*x, enumerate(A))"
   ]
  },
  {
   "cell_type": "code",
   "execution_count": 175,
   "metadata": {},
   "outputs": [],
   "source": [
    "a = [0, 0, 0, 0, 1]\n",
    "a.sort()\n",
    "n = len(a)\n",
    "num = sum(list(map(lambda x: (n-x[0])*x[1], enumerate(a))))\n",
    "den = sum(a)"
   ]
  },
  {
   "cell_type": "code",
   "execution_count": 176,
   "metadata": {},
   "outputs": [
    {
     "data": {
      "text/plain": [
       "0.8"
      ]
     },
     "execution_count": 176,
     "metadata": {},
     "output_type": "execute_result"
    }
   ],
   "source": [
    "(n+1 - 2*(num/den))/n"
   ]
  },
  {
   "cell_type": "code",
   "execution_count": 81,
   "metadata": {},
   "outputs": [],
   "source": [
    "n = b.size\n",
    "answer = list(map(lambda x: (n-x[0])*x[1], enumerate(b)))"
   ]
  },
  {
   "cell_type": "code",
   "execution_count": 86,
   "metadata": {},
   "outputs": [
    {
     "name": "stdout",
     "output_type": "stream",
     "text": [
      "0 1\n",
      "1 3\n",
      "2 5\n",
      "3 6\n",
      "4 8\n"
     ]
    }
   ],
   "source": [
    "a = np.array(a)\n",
    "for i,j in enumerate(a):\n",
    "    print(i,j)"
   ]
  },
  {
   "cell_type": "code",
   "execution_count": 83,
   "metadata": {},
   "outputs": [
    {
     "data": {
      "text/plain": [
       "0.99439717617577084"
      ]
     },
     "execution_count": 83,
     "metadata": {},
     "output_type": "execute_result"
    }
   ],
   "source": [
    "(n+1-2*sum(answer)/b.sum())/n"
   ]
  },
  {
   "cell_type": "code",
   "execution_count": 54,
   "metadata": {},
   "outputs": [],
   "source": [
    "def giniCoefficient(df_balance): # balance is pandas table....\n",
    "    balance = df_balance.Balance.sort_values()\n",
    "    b = balance.values # convert to a numpy array\n",
    "    n = b.size\n",
    "    num = sum(list(map(lambda x: (n-x[0])*x[1], enumerate(b))))\n",
    "    den = b.sum()\n",
    "    return (n+1-2*(num/den))/n"
   ]
  },
  {
   "cell_type": "code",
   "execution_count": 57,
   "metadata": {},
   "outputs": [
    {
     "data": {
      "text/plain": [
       "0.99237693778659386"
      ]
     },
     "execution_count": 57,
     "metadata": {},
     "output_type": "execute_result"
    }
   ],
   "source": [
    "giniCoefficient(df_balance)"
   ]
  },
  {
   "cell_type": "code",
   "execution_count": 5,
   "metadata": {},
   "outputs": [
    {
     "data": {
      "text/html": [
       "<div>\n",
       "<style scoped>\n",
       "    .dataframe tbody tr th:only-of-type {\n",
       "        vertical-align: middle;\n",
       "    }\n",
       "\n",
       "    .dataframe tbody tr th {\n",
       "        vertical-align: top;\n",
       "    }\n",
       "\n",
       "    .dataframe thead th {\n",
       "        text-align: right;\n",
       "    }\n",
       "</style>\n",
       "<table border=\"1\" class=\"dataframe\">\n",
       "  <thead>\n",
       "    <tr style=\"text-align: right;\">\n",
       "      <th></th>\n",
       "      <th>Value</th>\n",
       "      <th>Time</th>\n",
       "      <th>Block</th>\n",
       "    </tr>\n",
       "  </thead>\n",
       "  <tbody>\n",
       "    <tr>\n",
       "      <th>count</th>\n",
       "      <td>1.439050e+05</td>\n",
       "      <td>1.439050e+05</td>\n",
       "      <td>143905.000000</td>\n",
       "    </tr>\n",
       "    <tr>\n",
       "      <th>mean</th>\n",
       "      <td>1.384902e+20</td>\n",
       "      <td>1.439043e+09</td>\n",
       "      <td>54032.245224</td>\n",
       "    </tr>\n",
       "    <tr>\n",
       "      <th>std</th>\n",
       "      <td>3.003269e+21</td>\n",
       "      <td>3.821480e+06</td>\n",
       "      <td>28625.292713</td>\n",
       "    </tr>\n",
       "    <tr>\n",
       "      <th>min</th>\n",
       "      <td>0.000000e+00</td>\n",
       "      <td>0.000000e+00</td>\n",
       "      <td>0.000000</td>\n",
       "    </tr>\n",
       "    <tr>\n",
       "      <th>25%</th>\n",
       "      <td>5.000000e+18</td>\n",
       "      <td>1.438653e+09</td>\n",
       "      <td>30123.000000</td>\n",
       "    </tr>\n",
       "    <tr>\n",
       "      <th>50%</th>\n",
       "      <td>5.000000e+18</td>\n",
       "      <td>1.439091e+09</td>\n",
       "      <td>56685.000000</td>\n",
       "    </tr>\n",
       "    <tr>\n",
       "      <th>75%</th>\n",
       "      <td>5.000000e+18</td>\n",
       "      <td>1.439458e+09</td>\n",
       "      <td>78709.000000</td>\n",
       "    </tr>\n",
       "    <tr>\n",
       "      <th>max</th>\n",
       "      <td>3.232034e+23</td>\n",
       "      <td>1.439799e+09</td>\n",
       "      <td>100000.000000</td>\n",
       "    </tr>\n",
       "  </tbody>\n",
       "</table>\n",
       "</div>"
      ],
      "text/plain": [
       "              Value          Time          Block\n",
       "count  1.439050e+05  1.439050e+05  143905.000000\n",
       "mean   1.384902e+20  1.439043e+09   54032.245224\n",
       "std    3.003269e+21  3.821480e+06   28625.292713\n",
       "min    0.000000e+00  0.000000e+00       0.000000\n",
       "25%    5.000000e+18  1.438653e+09   30123.000000\n",
       "50%    5.000000e+18  1.439091e+09   56685.000000\n",
       "75%    5.000000e+18  1.439458e+09   78709.000000\n",
       "max    3.232034e+23  1.439799e+09  100000.000000"
      ]
     },
     "execution_count": 5,
     "metadata": {},
     "output_type": "execute_result"
    }
   ],
   "source": [
    "df.describe()"
   ]
  },
  {
   "cell_type": "code",
   "execution_count": 6,
   "metadata": {},
   "outputs": [
    {
     "data": {
      "text/plain": [
       "Index(['From', 'To', 'Value', 'Time', 'Block'], dtype='object')"
      ]
     },
     "execution_count": 6,
     "metadata": {},
     "output_type": "execute_result"
    }
   ],
   "source": [
    "df.columns"
   ]
  },
  {
   "cell_type": "code",
   "execution_count": 20,
   "metadata": {},
   "outputs": [],
   "source": [
    "x = df.groupby('From').count()['To']\n",
    "y = df.groupby('To').count()['From']"
   ]
  },
  {
   "cell_type": "code",
   "execution_count": 19,
   "metadata": {},
   "outputs": [
    {
     "data": {
      "text/html": [
       "<div>\n",
       "<style scoped>\n",
       "    .dataframe tbody tr th:only-of-type {\n",
       "        vertical-align: middle;\n",
       "    }\n",
       "\n",
       "    .dataframe tbody tr th {\n",
       "        vertical-align: top;\n",
       "    }\n",
       "\n",
       "    .dataframe thead th {\n",
       "        text-align: right;\n",
       "    }\n",
       "</style>\n",
       "<table border=\"1\" class=\"dataframe\">\n",
       "  <thead>\n",
       "    <tr style=\"text-align: right;\">\n",
       "      <th></th>\n",
       "      <th>From</th>\n",
       "      <th>To</th>\n",
       "      <th>Value</th>\n",
       "      <th>Time</th>\n",
       "      <th>Block</th>\n",
       "    </tr>\n",
       "  </thead>\n",
       "  <tbody>\n",
       "    <tr>\n",
       "      <th>111921</th>\n",
       "      <td>0004b15be8cb573a7be023e203e268dbcffd302b</td>\n",
       "      <td>2102cc711d03dfcedf9a443b9bd540dacbff0426</td>\n",
       "      <td>4.890000e+20</td>\n",
       "      <td>1439639772</td>\n",
       "      <td>90419</td>\n",
       "    </tr>\n",
       "    <tr>\n",
       "      <th>111929</th>\n",
       "      <td>0004b15be8cb573a7be023e203e268dbcffd302b</td>\n",
       "      <td>2102cc711d03dfcedf9a443b9bd540dacbff0426</td>\n",
       "      <td>1.000000e+18</td>\n",
       "      <td>1439639635</td>\n",
       "      <td>90413</td>\n",
       "    </tr>\n",
       "    <tr>\n",
       "      <th>116467</th>\n",
       "      <td>0004b15be8cb573a7be023e203e268dbcffd302b</td>\n",
       "      <td>2102cc711d03dfcedf9a443b9bd540dacbff0426</td>\n",
       "      <td>9.500000e+20</td>\n",
       "      <td>1439697931</td>\n",
       "      <td>93795</td>\n",
       "    </tr>\n",
       "  </tbody>\n",
       "</table>\n",
       "</div>"
      ],
      "text/plain": [
       "                                            From  \\\n",
       "111921  0004b15be8cb573a7be023e203e268dbcffd302b   \n",
       "111929  0004b15be8cb573a7be023e203e268dbcffd302b   \n",
       "116467  0004b15be8cb573a7be023e203e268dbcffd302b   \n",
       "\n",
       "                                              To         Value        Time  \\\n",
       "111921  2102cc711d03dfcedf9a443b9bd540dacbff0426  4.890000e+20  1439639772   \n",
       "111929  2102cc711d03dfcedf9a443b9bd540dacbff0426  1.000000e+18  1439639635   \n",
       "116467  2102cc711d03dfcedf9a443b9bd540dacbff0426  9.500000e+20  1439697931   \n",
       "\n",
       "        Block  \n",
       "111921  90419  \n",
       "111929  90413  \n",
       "116467  93795  "
      ]
     },
     "execution_count": 19,
     "metadata": {},
     "output_type": "execute_result"
    }
   ],
   "source": [
    "df[df['From']=='0004b15be8cb573a7be023e203e268dbcffd302b']"
   ]
  },
  {
   "cell_type": "code",
   "execution_count": 22,
   "metadata": {},
   "outputs": [],
   "source": [
    "z = pd.concat([x,y])"
   ]
  },
  {
   "cell_type": "code",
   "execution_count": 25,
   "metadata": {},
   "outputs": [
    {
     "data": {
      "text/plain": [
       "5789"
      ]
     },
     "execution_count": 25,
     "metadata": {},
     "output_type": "execute_result"
    }
   ],
   "source": [
    "x.count()"
   ]
  },
  {
   "cell_type": "code",
   "execution_count": 27,
   "metadata": {},
   "outputs": [
    {
     "data": {
      "text/html": [
       "<div>\n",
       "<style scoped>\n",
       "    .dataframe tbody tr th:only-of-type {\n",
       "        vertical-align: middle;\n",
       "    }\n",
       "\n",
       "    .dataframe tbody tr th {\n",
       "        vertical-align: top;\n",
       "    }\n",
       "\n",
       "    .dataframe thead th {\n",
       "        text-align: right;\n",
       "    }\n",
       "</style>\n",
       "<table border=\"1\" class=\"dataframe\">\n",
       "  <thead>\n",
       "    <tr style=\"text-align: right;\">\n",
       "      <th></th>\n",
       "      <th>From</th>\n",
       "      <th>To</th>\n",
       "      <th>Value</th>\n",
       "      <th>Time</th>\n",
       "      <th>Block</th>\n",
       "    </tr>\n",
       "  </thead>\n",
       "  <tbody>\n",
       "    <tr>\n",
       "      <th>57916</th>\n",
       "      <td>3e0b8ed86ed669e12723af7572fbacfe829b1e16</td>\n",
       "      <td>0004b15be8cb573a7be023e203e268dbcffd302b</td>\n",
       "      <td>1.490000e+21</td>\n",
       "      <td>1439101654</td>\n",
       "      <td>57346</td>\n",
       "    </tr>\n",
       "    <tr>\n",
       "      <th>57928</th>\n",
       "      <td>3e0b8ed86ed669e12723af7572fbacfe829b1e16</td>\n",
       "      <td>0004b15be8cb573a7be023e203e268dbcffd302b</td>\n",
       "      <td>2.000000e+17</td>\n",
       "      <td>1439101528</td>\n",
       "      <td>57336</td>\n",
       "    </tr>\n",
       "  </tbody>\n",
       "</table>\n",
       "</div>"
      ],
      "text/plain": [
       "                                           From  \\\n",
       "57916  3e0b8ed86ed669e12723af7572fbacfe829b1e16   \n",
       "57928  3e0b8ed86ed669e12723af7572fbacfe829b1e16   \n",
       "\n",
       "                                             To         Value        Time  \\\n",
       "57916  0004b15be8cb573a7be023e203e268dbcffd302b  1.490000e+21  1439101654   \n",
       "57928  0004b15be8cb573a7be023e203e268dbcffd302b  2.000000e+17  1439101528   \n",
       "\n",
       "       Block  \n",
       "57916  57346  \n",
       "57928  57336  "
      ]
     },
     "execution_count": 27,
     "metadata": {},
     "output_type": "execute_result"
    }
   ],
   "source": [
    "df[df['To']=='0004b15be8cb573a7be023e203e268dbcffd302b']"
   ]
  },
  {
   "cell_type": "code",
   "execution_count": 47,
   "metadata": {},
   "outputs": [
    {
     "data": {
      "text/plain": [
       "From\n",
       "0004b15be8cb573a7be023e203e268dbcffd302b      3\n",
       "000df160997ba9420e4622996b05447871848834     13\n",
       "0015b5e5afe7eba613cd1ba0a7345ed150adf5dc      1\n",
       "0025bc2515c073784222cbcd1e988dba9a0f75af      2\n",
       "0028795f5139935918a4176c80b01d32549e2819      4\n",
       "0037a6b811ffeb6e072da21179d11b1406371c63      3\n",
       "0037ce3d4b7f8729c8607d8d0248252be68202c0     17\n",
       "003a0659d5452a076403d1411e617c9665955d59      5\n",
       "003a6cefcd4377033674d8a80ddbfb3596bd13dd      3\n",
       "0043bc318929d9146864870b0988d10f600f1090      1\n",
       "004b37d3e250eb1826fc6a587deddc18e7be6f6f      1\n",
       "004bfbe1546bc6c65b5c7eaa55304b38bbfec6d3      3\n",
       "0053a170b33712997013623b9e5a27198e9bc9f9      2\n",
       "007622d84a234bb8b078230fcf84b67ae9a8acae      2\n",
       "007695872ab13e1016138e7bf2be234ca7a77740      1\n",
       "007761bfef91f6d2b5aa41b0197bf496978eeb73      1\n",
       "007a496da7690601206bc3c67176bb675ffb9b7b      1\n",
       "007f7f58d3eb5b7510a301ecc749fc1fcddbe14d    156\n",
       "00818287ff6ba78a461d21bd5832891592dc6c6b      7\n",
       "0089508679abf8c71bf6781687120e3e6a84584d      7\n",
       "008b1d771af0dcfd83c30d9d93f3b83cdf18beba      3\n",
       "008dba42c465542c3fabcb5928b45194b195798f      2\n",
       "008fc7cbadffbd0d7fe44f8dfd60a79d721a1c9c     38\n",
       "0092c5f887dd0e13e43dbdbcedfa02e332c11fdb      5\n",
       "009560a3de627868f91fa8bfe1c1b7afaf08186b      1\n",
       "009781507fc411166590c7f205fbec84c4fbe0aa      1\n",
       "009a9c07b91d40cce1240d517f9722b4f079a86b      1\n",
       "00a0c500bce07ac7b154f1843f37bf2c6b3b508c      1\n",
       "00a5797f52c9d58f189f36b1d45d1bf6041f2f6b      2\n",
       "00a96cbf4b8f63462a88591facae98742d627855      1\n",
       "                                           ... \n",
       "fe6c45d9bb291f60872c266ee96546a9ffca2e0d      2\n",
       "fe729ba7a9ad11a82e0110f87e4c68356b9cab12      2\n",
       "fe7dfafa39b0a9d157238a22aba85e7f6c51bdcc      2\n",
       "fe812c2f33c9f1c5dc96634b19d40e0bfed62543      2\n",
       "fe835cf9f715fec23a7decbca85d616e7f6e5aec      2\n",
       "fe8635c30d5b0a49d09fc9480d59e05d7450fd41      5\n",
       "fe8f7c78c9ec1abf63bc535751afd1b9eca36d43      2\n",
       "fe94a04fd0e639e25e3ee538c8daafa20e0b8c3e      2\n",
       "fe94f82d40f91e6a01cdbe078be982b8b54389a4      2\n",
       "feaa6f0a842422ddd202cf41d44eff708127136e      8\n",
       "feb92d30bf01ff9a1901666c5573532bfa07eeec      3\n",
       "fec14e5485de2b3eef5e74c46146db8e454e0335      4\n",
       "fed19cfbf47abf30df177e69eda1e453b920c7b2      2\n",
       "fedfa3299b2919c6601f4eecb6adb74637949b30      2\n",
       "fee4deb01301a2633e0046305a31fca8d04f416c      2\n",
       "fef75e7815a4440d1ba1f075d70978181c84ef5b      2\n",
       "ff68c2f39c4e7fe2f92c2dc2f8615b1bf070e0fa      2\n",
       "ff69d0daca53c25ba6026094841f66e48735755a      2\n",
       "ff7b96745b3f433d2019b0beccfa24349482df88      2\n",
       "ff7cdb6b68e764c2cbd95ed2a81dd04145c4f2bd      2\n",
       "ff894e9ae9af25e529e87f7e0caae8279698cb41      2\n",
       "ff9a46e0358502f3ae5d7fabf50e71a067259a9a      2\n",
       "ffa001d148554e3f9274cbfc993e5dbe513776e1      2\n",
       "ffadf482d806bbb6ada61eea870862a234f0e7e2      2\n",
       "ffb0220e3f2ef137a6b34196c8fb7488636183a2      2\n",
       "ffb51e371b640c7c251dbfba2f061b66e9aea864      1\n",
       "ffbc3da0381ec339c1c049eb1ed9ee34fdcea6ca      6\n",
       "ffcd9cae6d9f54fd8ae05296f839892677ff6eaa      5\n",
       "ffe35492cbf1fdc2c4f6cd6352f5c7a44eefb7ee      2\n",
       "ffeef280ababd07bd185b0ff831ac17b8020d365      2\n",
       "Name: To, Length: 5789, dtype: int64"
      ]
     },
     "execution_count": 47,
     "metadata": {},
     "output_type": "execute_result"
    }
   ],
   "source": [
    "x"
   ]
  },
  {
   "cell_type": "code",
   "execution_count": 8,
   "metadata": {},
   "outputs": [
    {
     "data": {
      "text/plain": [
       "True"
      ]
     },
     "execution_count": 8,
     "metadata": {},
     "output_type": "execute_result"
    }
   ],
   "source": [
    "Web3.isAddress('fee4deb01301a2633e0046305a31fca8d04f416c')"
   ]
  },
  {
   "cell_type": "code",
   "execution_count": 18,
   "metadata": {},
   "outputs": [],
   "source": [
    "add = Web3.toChecksumAddress('ffcd9cae6d9f54fd8ae05296f839892677ff6eaa')"
   ]
  },
  {
   "cell_type": "code",
   "execution_count": null,
   "metadata": {},
   "outputs": [],
   "source": []
  },
  {
   "cell_type": "code",
   "execution_count": 19,
   "metadata": {},
   "outputs": [
    {
     "data": {
      "text/plain": [
       "0"
      ]
     },
     "execution_count": 19,
     "metadata": {},
     "output_type": "execute_result"
    }
   ],
   "source": [
    "len(w3.eth.getCode(add))"
   ]
  },
  {
   "cell_type": "code",
   "execution_count": null,
   "metadata": {},
   "outputs": [],
   "source": []
  },
  {
   "cell_type": "code",
   "execution_count": null,
   "metadata": {},
   "outputs": [],
   "source": []
  },
  {
   "cell_type": "code",
   "execution_count": null,
   "metadata": {},
   "outputs": [],
   "source": []
  },
  {
   "cell_type": "code",
   "execution_count": 20,
   "metadata": {},
   "outputs": [],
   "source": [
    "def isAccount(address):\n",
    "    cs_add = Web3.toChecksumAddress(address)\n",
    "    if len(w3.eth.getCode(cs_add))==0:\n",
    "        return True\n",
    "    return False"
   ]
  },
  {
   "cell_type": "code",
   "execution_count": 4,
   "metadata": {},
   "outputs": [],
   "source": [
    "import numpy as np"
   ]
  },
  {
   "cell_type": "code",
   "execution_count": null,
   "metadata": {},
   "outputs": [],
   "source": [
    "\n",
    "    "
   ]
  }
 ],
 "metadata": {
  "kernelspec": {
   "display_name": "Python 3",
   "language": "python",
   "name": "python3"
  },
  "language_info": {
   "codemirror_mode": {
    "name": "ipython",
    "version": 3
   },
   "file_extension": ".py",
   "mimetype": "text/x-python",
   "name": "python",
   "nbconvert_exporter": "python",
   "pygments_lexer": "ipython3",
   "version": "3.6.5"
  }
 },
 "nbformat": 4,
 "nbformat_minor": 2
}
