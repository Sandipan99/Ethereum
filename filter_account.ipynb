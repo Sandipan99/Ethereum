{
 "cells": [
  {
   "cell_type": "code",
   "execution_count": 1,
   "metadata": {},
   "outputs": [],
   "source": [
    "import pandas as pd"
   ]
  },
  {
   "cell_type": "code",
   "execution_count": 2,
   "metadata": {},
   "outputs": [],
   "source": [
    "df = pd.read_csv('transaction_till_100000.csv')"
   ]
  },
  {
   "cell_type": "code",
   "execution_count": 3,
   "metadata": {},
   "outputs": [
    {
     "data": {
      "text/html": [
       "<div>\n",
       "<style scoped>\n",
       "    .dataframe tbody tr th:only-of-type {\n",
       "        vertical-align: middle;\n",
       "    }\n",
       "\n",
       "    .dataframe tbody tr th {\n",
       "        vertical-align: top;\n",
       "    }\n",
       "\n",
       "    .dataframe thead th {\n",
       "        text-align: right;\n",
       "    }\n",
       "</style>\n",
       "<table border=\"1\" class=\"dataframe\">\n",
       "  <thead>\n",
       "    <tr style=\"text-align: right;\">\n",
       "      <th></th>\n",
       "      <th>From</th>\n",
       "      <th>To</th>\n",
       "      <th>Value</th>\n",
       "      <th>Time</th>\n",
       "      <th>Block</th>\n",
       "    </tr>\n",
       "  </thead>\n",
       "  <tbody>\n",
       "    <tr>\n",
       "      <th>0</th>\n",
       "      <td>ethereum</td>\n",
       "      <td>0</td>\n",
       "      <td>5.000000e+18</td>\n",
       "      <td>0</td>\n",
       "      <td>0</td>\n",
       "    </tr>\n",
       "    <tr>\n",
       "      <th>1</th>\n",
       "      <td>ethereum</td>\n",
       "      <td>05a56e2d52c817161883f50c441c3228cfe54d9f</td>\n",
       "      <td>5.000000e+18</td>\n",
       "      <td>1438269988</td>\n",
       "      <td>1</td>\n",
       "    </tr>\n",
       "    <tr>\n",
       "      <th>2</th>\n",
       "      <td>ethereum</td>\n",
       "      <td>0193d941b50d91be6567c7ee1c0fe7af498b4137</td>\n",
       "      <td>5.000000e+18</td>\n",
       "      <td>1438270128</td>\n",
       "      <td>10</td>\n",
       "    </tr>\n",
       "    <tr>\n",
       "      <th>3</th>\n",
       "      <td>ethereum</td>\n",
       "      <td>e6a7a1d47ff21b6321162aea7c6cb457d5476bca</td>\n",
       "      <td>5.000000e+18</td>\n",
       "      <td>1439799138</td>\n",
       "      <td>100000</td>\n",
       "    </tr>\n",
       "    <tr>\n",
       "      <th>4</th>\n",
       "      <td>ethereum</td>\n",
       "      <td>9beb4d346c6309a9ce4f27393c6322c8f03a3be6</td>\n",
       "      <td>5.000000e+18</td>\n",
       "      <td>1438336146</td>\n",
       "      <td>10099</td>\n",
       "    </tr>\n",
       "  </tbody>\n",
       "</table>\n",
       "</div>"
      ],
      "text/plain": [
       "       From                                        To         Value  \\\n",
       "0  ethereum                                         0  5.000000e+18   \n",
       "1  ethereum  05a56e2d52c817161883f50c441c3228cfe54d9f  5.000000e+18   \n",
       "2  ethereum  0193d941b50d91be6567c7ee1c0fe7af498b4137  5.000000e+18   \n",
       "3  ethereum  e6a7a1d47ff21b6321162aea7c6cb457d5476bca  5.000000e+18   \n",
       "4  ethereum  9beb4d346c6309a9ce4f27393c6322c8f03a3be6  5.000000e+18   \n",
       "\n",
       "         Time   Block  \n",
       "0           0       0  \n",
       "1  1438269988       1  \n",
       "2  1438270128      10  \n",
       "3  1439799138  100000  \n",
       "4  1438336146   10099  "
      ]
     },
     "execution_count": 3,
     "metadata": {},
     "output_type": "execute_result"
    }
   ],
   "source": [
    "df.head()"
   ]
  },
  {
   "cell_type": "code",
   "execution_count": 12,
   "metadata": {},
   "outputs": [],
   "source": [
    "x = df.groupby('From').count()['to']"
   ]
  },
  {
   "cell_type": "code",
   "execution_count": 17,
   "metadata": {},
   "outputs": [],
   "source": [
    "x = df.groupby(['From']).From.agg('count').to_frame('count').reset_index().rename(columns={'From':'account'})"
   ]
  },
  {
   "cell_type": "code",
   "execution_count": 18,
   "metadata": {},
   "outputs": [],
   "source": [
    "y = df.groupby(['To']).From.agg('count').to_frame('count').reset_index().rename(columns={'To':'account'})"
   ]
  },
  {
   "cell_type": "code",
   "execution_count": 21,
   "metadata": {},
   "outputs": [],
   "source": [
    "z = pd.concat([x,y])"
   ]
  },
  {
   "cell_type": "code",
   "execution_count": 22,
   "metadata": {},
   "outputs": [
    {
     "data": {
      "text/plain": [
       "account    12627\n",
       "count      12627\n",
       "dtype: int64"
      ]
     },
     "execution_count": 22,
     "metadata": {},
     "output_type": "execute_result"
    }
   ],
   "source": [
    "z.count()"
   ]
  },
  {
   "cell_type": "code",
   "execution_count": 23,
   "metadata": {},
   "outputs": [
    {
     "data": {
      "text/plain": [
       "Index(['account', 'count'], dtype='object')"
      ]
     },
     "execution_count": 23,
     "metadata": {},
     "output_type": "execute_result"
    }
   ],
   "source": [
    "z.columns"
   ]
  },
  {
   "cell_type": "code",
   "execution_count": 38,
   "metadata": {},
   "outputs": [],
   "source": [
    "trans_count = z.groupby('account').sum()"
   ]
  },
  {
   "cell_type": "code",
   "execution_count": 43,
   "metadata": {},
   "outputs": [
    {
     "data": {
      "text/plain": [
       "count    5355\n",
       "dtype: int64"
      ]
     },
     "execution_count": 43,
     "metadata": {},
     "output_type": "execute_result"
    }
   ],
   "source": [
    "trans_count[trans_count['count']>2].count()"
   ]
  },
  {
   "cell_type": "code",
   "execution_count": 28,
   "metadata": {},
   "outputs": [
    {
     "data": {
      "text/plain": [
       "pandas.core.frame.DataFrame"
      ]
     },
     "execution_count": 28,
     "metadata": {},
     "output_type": "execute_result"
    }
   ],
   "source": [
    "type(trans_count)"
   ]
  },
  {
   "cell_type": "code",
   "execution_count": 45,
   "metadata": {},
   "outputs": [
    {
     "data": {
      "text/plain": [
       "<bound method DataFrame.count of                                           count\n",
       "account                                        \n",
       "0                                           203\n",
       "0000000083178e9873ce992f73915eefa3a27ac5      1\n",
       "0000d91c20a5e7539eab3e52f73b41f450361aba      1\n",
       "0004b15be8cb573a7be023e203e268dbcffd302b      5\n",
       "000c6f10734a65699707b23ba5b51754aa853845      1\n",
       "000df160997ba9420e4622996b05447871848834     15\n",
       "001147dcbb1ec632af78203fdfa4981d65f2cd46      1\n",
       "0013e723f574bafd47cc1542532cdcd98c1c2989      3\n",
       "0015b5e5afe7eba613cd1ba0a7345ed150adf5dc      2\n",
       "001bc0ef77194c76bcf47cd4affa70fd84c138ea      1\n",
       "0024771f89e6884d642040ef15dd309eb78bff0c      1\n",
       "0025bc2515c073784222cbcd1e988dba9a0f75af      3\n",
       "0028795f5139935918a4176c80b01d32549e2819      6\n",
       "0037a6b811ffeb6e072da21179d11b1406371c63      4\n",
       "0037ce3d4b7f8729c8607d8d0248252be68202c0   1103\n",
       "003a0659d5452a076403d1411e617c9665955d59      8\n",
       "003a6cefcd4377033674d8a80ddbfb3596bd13dd      7\n",
       "00409849d932460343859c61c65563734993bdaa      1\n",
       "0043bc318929d9146864870b0988d10f600f1090      2\n",
       "004b37d3e250eb1826fc6a587deddc18e7be6f6f     10\n",
       "004bfbe1546bc6c65b5c7eaa55304b38bbfec6d3      3\n",
       "0053a170b33712997013623b9e5a27198e9bc9f9      3\n",
       "005fe5036d71907694e26421440e85103ea44018      1\n",
       "0060415d52734811c7d4424377124aeee30cd157      1\n",
       "006331fc207bfc3aabded887b553e5cd9898c8f1      1\n",
       "00679d9e4e302166fae312b52266638ee8ec9ec2      1\n",
       "006bfa4a5e365d3ae032805f8ae03e09680b2f30      1\n",
       "006c2d0a03d20a1e9b838594f03fc81603e9d350      3\n",
       "007622d84a234bb8b078230fcf84b67ae9a8acae      2\n",
       "007695872ab13e1016138e7bf2be234ca7a77740      2\n",
       "...                                         ...\n",
       "feb9bf4baed684a842e797779fa8b76fe1d7bbfe      1\n",
       "fec14e5485de2b3eef5e74c46146db8e454e0335      4\n",
       "fec3ba4ce1e3384f75d2c05cadccedaaf9c6678a      1\n",
       "fed19cfbf47abf30df177e69eda1e453b920c7b2      3\n",
       "fedfa3299b2919c6601f4eecb6adb74637949b30      3\n",
       "fee35b63ddf7dc99780822995745dfc245a58fb3      7\n",
       "fee4deb01301a2633e0046305a31fca8d04f416c      6\n",
       "fef3b3dead1a6926d49aa32b12c22af54d9ff985      1\n",
       "fef646055590d4b4c67dd7c1f329a86da04d9311     13\n",
       "fef75e7815a4440d1ba1f075d70978181c84ef5b      3\n",
       "ff0488422583a2e977ca11c1623e9d7cf54674f6      1\n",
       "ff1ef60b3bf5d14b5c40388e35a6fbd42700efc6      1\n",
       "ff68c2f39c4e7fe2f92c2dc2f8615b1bf070e0fa      7\n",
       "ff69d0daca53c25ba6026094841f66e48735755a      3\n",
       "ff72187bde655112a85e30aaa0d1dd5b43b9d607      7\n",
       "ff7b96745b3f433d2019b0beccfa24349482df88      3\n",
       "ff7cae450435b0bf2776edf6dfe650a0d45e2d7f     68\n",
       "ff7cdb6b68e764c2cbd95ed2a81dd04145c4f2bd      3\n",
       "ff894e9ae9af25e529e87f7e0caae8279698cb41      3\n",
       "ff8ae73a45077a1f245324c6dc717fad53ad5703      2\n",
       "ff9a46e0358502f3ae5d7fabf50e71a067259a9a     33\n",
       "ffa001d148554e3f9274cbfc993e5dbe513776e1      5\n",
       "ffadf482d806bbb6ada61eea870862a234f0e7e2      3\n",
       "ffb0220e3f2ef137a6b34196c8fb7488636183a2      3\n",
       "ffb51e371b640c7c251dbfba2f061b66e9aea864      4\n",
       "ffbc3da0381ec339c1c049eb1ed9ee34fdcea6ca      8\n",
       "ffcd9cae6d9f54fd8ae05296f839892677ff6eaa    136\n",
       "ffe35492cbf1fdc2c4f6cd6352f5c7a44eefb7ee      3\n",
       "ffeef280ababd07bd185b0ff831ac17b8020d365      8\n",
       "fffa4763f94f7ad191b366a343092a5d1a47ed08      1\n",
       "\n",
       "[7880 rows x 1 columns]>"
      ]
     },
     "execution_count": 45,
     "metadata": {},
     "output_type": "execute_result"
    }
   ],
   "source": [
    "trans_count.count"
   ]
  },
  {
   "cell_type": "code",
   "execution_count": 46,
   "metadata": {},
   "outputs": [
    {
     "data": {
      "text/html": [
       "<div>\n",
       "<style scoped>\n",
       "    .dataframe tbody tr th:only-of-type {\n",
       "        vertical-align: middle;\n",
       "    }\n",
       "\n",
       "    .dataframe tbody tr th {\n",
       "        vertical-align: top;\n",
       "    }\n",
       "\n",
       "    .dataframe thead th {\n",
       "        text-align: right;\n",
       "    }\n",
       "</style>\n",
       "<table border=\"1\" class=\"dataframe\">\n",
       "  <thead>\n",
       "    <tr style=\"text-align: right;\">\n",
       "      <th></th>\n",
       "      <th>From</th>\n",
       "      <th>To</th>\n",
       "      <th>Value</th>\n",
       "      <th>Time</th>\n",
       "      <th>Block</th>\n",
       "    </tr>\n",
       "  </thead>\n",
       "  <tbody>\n",
       "    <tr>\n",
       "      <th>107299</th>\n",
       "      <td>ethereum</td>\n",
       "      <td>004b37d3e250eb1826fc6a587deddc18e7be6f6f</td>\n",
       "      <td>5.000000e+18</td>\n",
       "      <td>1439594932</td>\n",
       "      <td>87618</td>\n",
       "    </tr>\n",
       "    <tr>\n",
       "      <th>109305</th>\n",
       "      <td>ethereum</td>\n",
       "      <td>004b37d3e250eb1826fc6a587deddc18e7be6f6f</td>\n",
       "      <td>5.000000e+18</td>\n",
       "      <td>1439618834</td>\n",
       "      <td>89143</td>\n",
       "    </tr>\n",
       "    <tr>\n",
       "      <th>111761</th>\n",
       "      <td>ethereum</td>\n",
       "      <td>004b37d3e250eb1826fc6a587deddc18e7be6f6f</td>\n",
       "      <td>5.000000e+18</td>\n",
       "      <td>1439638450</td>\n",
       "      <td>90343</td>\n",
       "    </tr>\n",
       "    <tr>\n",
       "      <th>112255</th>\n",
       "      <td>ethereum</td>\n",
       "      <td>004b37d3e250eb1826fc6a587deddc18e7be6f6f</td>\n",
       "      <td>5.000000e+18</td>\n",
       "      <td>1439645550</td>\n",
       "      <td>90790</td>\n",
       "    </tr>\n",
       "    <tr>\n",
       "      <th>112287</th>\n",
       "      <td>ethereum</td>\n",
       "      <td>004b37d3e250eb1826fc6a587deddc18e7be6f6f</td>\n",
       "      <td>5.000000e+18</td>\n",
       "      <td>1439645172</td>\n",
       "      <td>90766</td>\n",
       "    </tr>\n",
       "    <tr>\n",
       "      <th>114429</th>\n",
       "      <td>ethereum</td>\n",
       "      <td>004b37d3e250eb1826fc6a587deddc18e7be6f6f</td>\n",
       "      <td>5.001217e+18</td>\n",
       "      <td>1439668667</td>\n",
       "      <td>92212</td>\n",
       "    </tr>\n",
       "    <tr>\n",
       "      <th>116025</th>\n",
       "      <td>ethereum</td>\n",
       "      <td>004b37d3e250eb1826fc6a587deddc18e7be6f6f</td>\n",
       "      <td>5.000000e+18</td>\n",
       "      <td>1439691404</td>\n",
       "      <td>93491</td>\n",
       "    </tr>\n",
       "    <tr>\n",
       "      <th>116857</th>\n",
       "      <td>ethereum</td>\n",
       "      <td>004b37d3e250eb1826fc6a587deddc18e7be6f6f</td>\n",
       "      <td>5.000000e+18</td>\n",
       "      <td>1439699874</td>\n",
       "      <td>93924</td>\n",
       "    </tr>\n",
       "    <tr>\n",
       "      <th>125191</th>\n",
       "      <td>ethereum</td>\n",
       "      <td>004b37d3e250eb1826fc6a587deddc18e7be6f6f</td>\n",
       "      <td>5.002436e+18</td>\n",
       "      <td>1439786072</td>\n",
       "      <td>99203</td>\n",
       "    </tr>\n",
       "  </tbody>\n",
       "</table>\n",
       "</div>"
      ],
      "text/plain": [
       "            From                                        To         Value  \\\n",
       "107299  ethereum  004b37d3e250eb1826fc6a587deddc18e7be6f6f  5.000000e+18   \n",
       "109305  ethereum  004b37d3e250eb1826fc6a587deddc18e7be6f6f  5.000000e+18   \n",
       "111761  ethereum  004b37d3e250eb1826fc6a587deddc18e7be6f6f  5.000000e+18   \n",
       "112255  ethereum  004b37d3e250eb1826fc6a587deddc18e7be6f6f  5.000000e+18   \n",
       "112287  ethereum  004b37d3e250eb1826fc6a587deddc18e7be6f6f  5.000000e+18   \n",
       "114429  ethereum  004b37d3e250eb1826fc6a587deddc18e7be6f6f  5.001217e+18   \n",
       "116025  ethereum  004b37d3e250eb1826fc6a587deddc18e7be6f6f  5.000000e+18   \n",
       "116857  ethereum  004b37d3e250eb1826fc6a587deddc18e7be6f6f  5.000000e+18   \n",
       "125191  ethereum  004b37d3e250eb1826fc6a587deddc18e7be6f6f  5.002436e+18   \n",
       "\n",
       "              Time  Block  \n",
       "107299  1439594932  87618  \n",
       "109305  1439618834  89143  \n",
       "111761  1439638450  90343  \n",
       "112255  1439645550  90790  \n",
       "112287  1439645172  90766  \n",
       "114429  1439668667  92212  \n",
       "116025  1439691404  93491  \n",
       "116857  1439699874  93924  \n",
       "125191  1439786072  99203  "
      ]
     },
     "execution_count": 46,
     "metadata": {},
     "output_type": "execute_result"
    }
   ],
   "source": [
    "df[df['To']=='004b37d3e250eb1826fc6a587deddc18e7be6f6f']"
   ]
  },
  {
   "cell_type": "code",
   "execution_count": 60,
   "metadata": {},
   "outputs": [],
   "source": [
    "x = df.groupby(['From']).count()"
   ]
  },
  {
   "cell_type": "code",
   "execution_count": 68,
   "metadata": {},
   "outputs": [],
   "source": [
    "y = df.groupby(['To']).count()"
   ]
  },
  {
   "cell_type": "code",
   "execution_count": 73,
   "metadata": {},
   "outputs": [],
   "source": [
    "z = pd.concat([x.To,y.From])"
   ]
  },
  {
   "cell_type": "code",
   "execution_count": 78,
   "metadata": {},
   "outputs": [],
   "source": [
    "z = z.to_frame().reset_index().rename(columns={'index':'Account',0:'count'})"
   ]
  },
  {
   "cell_type": "code",
   "execution_count": 80,
   "metadata": {},
   "outputs": [
    {
     "data": {
      "text/html": [
       "<div>\n",
       "<style scoped>\n",
       "    .dataframe tbody tr th:only-of-type {\n",
       "        vertical-align: middle;\n",
       "    }\n",
       "\n",
       "    .dataframe tbody tr th {\n",
       "        vertical-align: top;\n",
       "    }\n",
       "\n",
       "    .dataframe thead th {\n",
       "        text-align: right;\n",
       "    }\n",
       "</style>\n",
       "<table border=\"1\" class=\"dataframe\">\n",
       "  <thead>\n",
       "    <tr style=\"text-align: right;\">\n",
       "      <th></th>\n",
       "      <th>count</th>\n",
       "    </tr>\n",
       "    <tr>\n",
       "      <th>Account</th>\n",
       "      <th></th>\n",
       "    </tr>\n",
       "  </thead>\n",
       "  <tbody>\n",
       "    <tr>\n",
       "      <th>0</th>\n",
       "      <td>203</td>\n",
       "    </tr>\n",
       "    <tr>\n",
       "      <th>0000000083178e9873ce992f73915eefa3a27ac5</th>\n",
       "      <td>1</td>\n",
       "    </tr>\n",
       "    <tr>\n",
       "      <th>0000d91c20a5e7539eab3e52f73b41f450361aba</th>\n",
       "      <td>1</td>\n",
       "    </tr>\n",
       "    <tr>\n",
       "      <th>0004b15be8cb573a7be023e203e268dbcffd302b</th>\n",
       "      <td>5</td>\n",
       "    </tr>\n",
       "    <tr>\n",
       "      <th>000c6f10734a65699707b23ba5b51754aa853845</th>\n",
       "      <td>1</td>\n",
       "    </tr>\n",
       "    <tr>\n",
       "      <th>000df160997ba9420e4622996b05447871848834</th>\n",
       "      <td>15</td>\n",
       "    </tr>\n",
       "    <tr>\n",
       "      <th>001147dcbb1ec632af78203fdfa4981d65f2cd46</th>\n",
       "      <td>1</td>\n",
       "    </tr>\n",
       "    <tr>\n",
       "      <th>0013e723f574bafd47cc1542532cdcd98c1c2989</th>\n",
       "      <td>3</td>\n",
       "    </tr>\n",
       "    <tr>\n",
       "      <th>0015b5e5afe7eba613cd1ba0a7345ed150adf5dc</th>\n",
       "      <td>2</td>\n",
       "    </tr>\n",
       "    <tr>\n",
       "      <th>001bc0ef77194c76bcf47cd4affa70fd84c138ea</th>\n",
       "      <td>1</td>\n",
       "    </tr>\n",
       "    <tr>\n",
       "      <th>0024771f89e6884d642040ef15dd309eb78bff0c</th>\n",
       "      <td>1</td>\n",
       "    </tr>\n",
       "    <tr>\n",
       "      <th>0025bc2515c073784222cbcd1e988dba9a0f75af</th>\n",
       "      <td>3</td>\n",
       "    </tr>\n",
       "    <tr>\n",
       "      <th>0028795f5139935918a4176c80b01d32549e2819</th>\n",
       "      <td>6</td>\n",
       "    </tr>\n",
       "    <tr>\n",
       "      <th>0037a6b811ffeb6e072da21179d11b1406371c63</th>\n",
       "      <td>4</td>\n",
       "    </tr>\n",
       "    <tr>\n",
       "      <th>0037ce3d4b7f8729c8607d8d0248252be68202c0</th>\n",
       "      <td>1103</td>\n",
       "    </tr>\n",
       "    <tr>\n",
       "      <th>003a0659d5452a076403d1411e617c9665955d59</th>\n",
       "      <td>8</td>\n",
       "    </tr>\n",
       "    <tr>\n",
       "      <th>003a6cefcd4377033674d8a80ddbfb3596bd13dd</th>\n",
       "      <td>7</td>\n",
       "    </tr>\n",
       "    <tr>\n",
       "      <th>00409849d932460343859c61c65563734993bdaa</th>\n",
       "      <td>1</td>\n",
       "    </tr>\n",
       "    <tr>\n",
       "      <th>0043bc318929d9146864870b0988d10f600f1090</th>\n",
       "      <td>2</td>\n",
       "    </tr>\n",
       "    <tr>\n",
       "      <th>004b37d3e250eb1826fc6a587deddc18e7be6f6f</th>\n",
       "      <td>10</td>\n",
       "    </tr>\n",
       "    <tr>\n",
       "      <th>004bfbe1546bc6c65b5c7eaa55304b38bbfec6d3</th>\n",
       "      <td>3</td>\n",
       "    </tr>\n",
       "    <tr>\n",
       "      <th>0053a170b33712997013623b9e5a27198e9bc9f9</th>\n",
       "      <td>3</td>\n",
       "    </tr>\n",
       "    <tr>\n",
       "      <th>005fe5036d71907694e26421440e85103ea44018</th>\n",
       "      <td>1</td>\n",
       "    </tr>\n",
       "    <tr>\n",
       "      <th>0060415d52734811c7d4424377124aeee30cd157</th>\n",
       "      <td>1</td>\n",
       "    </tr>\n",
       "    <tr>\n",
       "      <th>006331fc207bfc3aabded887b553e5cd9898c8f1</th>\n",
       "      <td>1</td>\n",
       "    </tr>\n",
       "    <tr>\n",
       "      <th>00679d9e4e302166fae312b52266638ee8ec9ec2</th>\n",
       "      <td>1</td>\n",
       "    </tr>\n",
       "    <tr>\n",
       "      <th>006bfa4a5e365d3ae032805f8ae03e09680b2f30</th>\n",
       "      <td>1</td>\n",
       "    </tr>\n",
       "    <tr>\n",
       "      <th>006c2d0a03d20a1e9b838594f03fc81603e9d350</th>\n",
       "      <td>3</td>\n",
       "    </tr>\n",
       "    <tr>\n",
       "      <th>007622d84a234bb8b078230fcf84b67ae9a8acae</th>\n",
       "      <td>2</td>\n",
       "    </tr>\n",
       "    <tr>\n",
       "      <th>007695872ab13e1016138e7bf2be234ca7a77740</th>\n",
       "      <td>2</td>\n",
       "    </tr>\n",
       "    <tr>\n",
       "      <th>...</th>\n",
       "      <td>...</td>\n",
       "    </tr>\n",
       "    <tr>\n",
       "      <th>feb9bf4baed684a842e797779fa8b76fe1d7bbfe</th>\n",
       "      <td>1</td>\n",
       "    </tr>\n",
       "    <tr>\n",
       "      <th>fec14e5485de2b3eef5e74c46146db8e454e0335</th>\n",
       "      <td>4</td>\n",
       "    </tr>\n",
       "    <tr>\n",
       "      <th>fec3ba4ce1e3384f75d2c05cadccedaaf9c6678a</th>\n",
       "      <td>1</td>\n",
       "    </tr>\n",
       "    <tr>\n",
       "      <th>fed19cfbf47abf30df177e69eda1e453b920c7b2</th>\n",
       "      <td>3</td>\n",
       "    </tr>\n",
       "    <tr>\n",
       "      <th>fedfa3299b2919c6601f4eecb6adb74637949b30</th>\n",
       "      <td>3</td>\n",
       "    </tr>\n",
       "    <tr>\n",
       "      <th>fee35b63ddf7dc99780822995745dfc245a58fb3</th>\n",
       "      <td>7</td>\n",
       "    </tr>\n",
       "    <tr>\n",
       "      <th>fee4deb01301a2633e0046305a31fca8d04f416c</th>\n",
       "      <td>6</td>\n",
       "    </tr>\n",
       "    <tr>\n",
       "      <th>fef3b3dead1a6926d49aa32b12c22af54d9ff985</th>\n",
       "      <td>1</td>\n",
       "    </tr>\n",
       "    <tr>\n",
       "      <th>fef646055590d4b4c67dd7c1f329a86da04d9311</th>\n",
       "      <td>13</td>\n",
       "    </tr>\n",
       "    <tr>\n",
       "      <th>fef75e7815a4440d1ba1f075d70978181c84ef5b</th>\n",
       "      <td>3</td>\n",
       "    </tr>\n",
       "    <tr>\n",
       "      <th>ff0488422583a2e977ca11c1623e9d7cf54674f6</th>\n",
       "      <td>1</td>\n",
       "    </tr>\n",
       "    <tr>\n",
       "      <th>ff1ef60b3bf5d14b5c40388e35a6fbd42700efc6</th>\n",
       "      <td>1</td>\n",
       "    </tr>\n",
       "    <tr>\n",
       "      <th>ff68c2f39c4e7fe2f92c2dc2f8615b1bf070e0fa</th>\n",
       "      <td>7</td>\n",
       "    </tr>\n",
       "    <tr>\n",
       "      <th>ff69d0daca53c25ba6026094841f66e48735755a</th>\n",
       "      <td>3</td>\n",
       "    </tr>\n",
       "    <tr>\n",
       "      <th>ff72187bde655112a85e30aaa0d1dd5b43b9d607</th>\n",
       "      <td>7</td>\n",
       "    </tr>\n",
       "    <tr>\n",
       "      <th>ff7b96745b3f433d2019b0beccfa24349482df88</th>\n",
       "      <td>3</td>\n",
       "    </tr>\n",
       "    <tr>\n",
       "      <th>ff7cae450435b0bf2776edf6dfe650a0d45e2d7f</th>\n",
       "      <td>68</td>\n",
       "    </tr>\n",
       "    <tr>\n",
       "      <th>ff7cdb6b68e764c2cbd95ed2a81dd04145c4f2bd</th>\n",
       "      <td>3</td>\n",
       "    </tr>\n",
       "    <tr>\n",
       "      <th>ff894e9ae9af25e529e87f7e0caae8279698cb41</th>\n",
       "      <td>3</td>\n",
       "    </tr>\n",
       "    <tr>\n",
       "      <th>ff8ae73a45077a1f245324c6dc717fad53ad5703</th>\n",
       "      <td>2</td>\n",
       "    </tr>\n",
       "    <tr>\n",
       "      <th>ff9a46e0358502f3ae5d7fabf50e71a067259a9a</th>\n",
       "      <td>33</td>\n",
       "    </tr>\n",
       "    <tr>\n",
       "      <th>ffa001d148554e3f9274cbfc993e5dbe513776e1</th>\n",
       "      <td>5</td>\n",
       "    </tr>\n",
       "    <tr>\n",
       "      <th>ffadf482d806bbb6ada61eea870862a234f0e7e2</th>\n",
       "      <td>3</td>\n",
       "    </tr>\n",
       "    <tr>\n",
       "      <th>ffb0220e3f2ef137a6b34196c8fb7488636183a2</th>\n",
       "      <td>3</td>\n",
       "    </tr>\n",
       "    <tr>\n",
       "      <th>ffb51e371b640c7c251dbfba2f061b66e9aea864</th>\n",
       "      <td>4</td>\n",
       "    </tr>\n",
       "    <tr>\n",
       "      <th>ffbc3da0381ec339c1c049eb1ed9ee34fdcea6ca</th>\n",
       "      <td>8</td>\n",
       "    </tr>\n",
       "    <tr>\n",
       "      <th>ffcd9cae6d9f54fd8ae05296f839892677ff6eaa</th>\n",
       "      <td>136</td>\n",
       "    </tr>\n",
       "    <tr>\n",
       "      <th>ffe35492cbf1fdc2c4f6cd6352f5c7a44eefb7ee</th>\n",
       "      <td>3</td>\n",
       "    </tr>\n",
       "    <tr>\n",
       "      <th>ffeef280ababd07bd185b0ff831ac17b8020d365</th>\n",
       "      <td>8</td>\n",
       "    </tr>\n",
       "    <tr>\n",
       "      <th>fffa4763f94f7ad191b366a343092a5d1a47ed08</th>\n",
       "      <td>1</td>\n",
       "    </tr>\n",
       "  </tbody>\n",
       "</table>\n",
       "<p>7880 rows × 1 columns</p>\n",
       "</div>"
      ],
      "text/plain": [
       "                                          count\n",
       "Account                                        \n",
       "0                                           203\n",
       "0000000083178e9873ce992f73915eefa3a27ac5      1\n",
       "0000d91c20a5e7539eab3e52f73b41f450361aba      1\n",
       "0004b15be8cb573a7be023e203e268dbcffd302b      5\n",
       "000c6f10734a65699707b23ba5b51754aa853845      1\n",
       "000df160997ba9420e4622996b05447871848834     15\n",
       "001147dcbb1ec632af78203fdfa4981d65f2cd46      1\n",
       "0013e723f574bafd47cc1542532cdcd98c1c2989      3\n",
       "0015b5e5afe7eba613cd1ba0a7345ed150adf5dc      2\n",
       "001bc0ef77194c76bcf47cd4affa70fd84c138ea      1\n",
       "0024771f89e6884d642040ef15dd309eb78bff0c      1\n",
       "0025bc2515c073784222cbcd1e988dba9a0f75af      3\n",
       "0028795f5139935918a4176c80b01d32549e2819      6\n",
       "0037a6b811ffeb6e072da21179d11b1406371c63      4\n",
       "0037ce3d4b7f8729c8607d8d0248252be68202c0   1103\n",
       "003a0659d5452a076403d1411e617c9665955d59      8\n",
       "003a6cefcd4377033674d8a80ddbfb3596bd13dd      7\n",
       "00409849d932460343859c61c65563734993bdaa      1\n",
       "0043bc318929d9146864870b0988d10f600f1090      2\n",
       "004b37d3e250eb1826fc6a587deddc18e7be6f6f     10\n",
       "004bfbe1546bc6c65b5c7eaa55304b38bbfec6d3      3\n",
       "0053a170b33712997013623b9e5a27198e9bc9f9      3\n",
       "005fe5036d71907694e26421440e85103ea44018      1\n",
       "0060415d52734811c7d4424377124aeee30cd157      1\n",
       "006331fc207bfc3aabded887b553e5cd9898c8f1      1\n",
       "00679d9e4e302166fae312b52266638ee8ec9ec2      1\n",
       "006bfa4a5e365d3ae032805f8ae03e09680b2f30      1\n",
       "006c2d0a03d20a1e9b838594f03fc81603e9d350      3\n",
       "007622d84a234bb8b078230fcf84b67ae9a8acae      2\n",
       "007695872ab13e1016138e7bf2be234ca7a77740      2\n",
       "...                                         ...\n",
       "feb9bf4baed684a842e797779fa8b76fe1d7bbfe      1\n",
       "fec14e5485de2b3eef5e74c46146db8e454e0335      4\n",
       "fec3ba4ce1e3384f75d2c05cadccedaaf9c6678a      1\n",
       "fed19cfbf47abf30df177e69eda1e453b920c7b2      3\n",
       "fedfa3299b2919c6601f4eecb6adb74637949b30      3\n",
       "fee35b63ddf7dc99780822995745dfc245a58fb3      7\n",
       "fee4deb01301a2633e0046305a31fca8d04f416c      6\n",
       "fef3b3dead1a6926d49aa32b12c22af54d9ff985      1\n",
       "fef646055590d4b4c67dd7c1f329a86da04d9311     13\n",
       "fef75e7815a4440d1ba1f075d70978181c84ef5b      3\n",
       "ff0488422583a2e977ca11c1623e9d7cf54674f6      1\n",
       "ff1ef60b3bf5d14b5c40388e35a6fbd42700efc6      1\n",
       "ff68c2f39c4e7fe2f92c2dc2f8615b1bf070e0fa      7\n",
       "ff69d0daca53c25ba6026094841f66e48735755a      3\n",
       "ff72187bde655112a85e30aaa0d1dd5b43b9d607      7\n",
       "ff7b96745b3f433d2019b0beccfa24349482df88      3\n",
       "ff7cae450435b0bf2776edf6dfe650a0d45e2d7f     68\n",
       "ff7cdb6b68e764c2cbd95ed2a81dd04145c4f2bd      3\n",
       "ff894e9ae9af25e529e87f7e0caae8279698cb41      3\n",
       "ff8ae73a45077a1f245324c6dc717fad53ad5703      2\n",
       "ff9a46e0358502f3ae5d7fabf50e71a067259a9a     33\n",
       "ffa001d148554e3f9274cbfc993e5dbe513776e1      5\n",
       "ffadf482d806bbb6ada61eea870862a234f0e7e2      3\n",
       "ffb0220e3f2ef137a6b34196c8fb7488636183a2      3\n",
       "ffb51e371b640c7c251dbfba2f061b66e9aea864      4\n",
       "ffbc3da0381ec339c1c049eb1ed9ee34fdcea6ca      8\n",
       "ffcd9cae6d9f54fd8ae05296f839892677ff6eaa    136\n",
       "ffe35492cbf1fdc2c4f6cd6352f5c7a44eefb7ee      3\n",
       "ffeef280ababd07bd185b0ff831ac17b8020d365      8\n",
       "fffa4763f94f7ad191b366a343092a5d1a47ed08      1\n",
       "\n",
       "[7880 rows x 1 columns]"
      ]
     },
     "execution_count": 80,
     "metadata": {},
     "output_type": "execute_result"
    }
   ],
   "source": [
    "z.groupby('Account').sum()"
   ]
  },
  {
   "cell_type": "code",
   "execution_count": 84,
   "metadata": {},
   "outputs": [
    {
     "data": {
      "text/plain": [
       "4024"
      ]
     },
     "execution_count": 84,
     "metadata": {},
     "output_type": "execute_result"
    }
   ],
   "source": [
    "len(z[z['count']>2]['Account'].values)"
   ]
  },
  {
   "cell_type": "code",
   "execution_count": null,
   "metadata": {},
   "outputs": [],
   "source": []
  },
  {
   "cell_type": "code",
   "execution_count": 106,
   "metadata": {},
   "outputs": [],
   "source": [
    "def filterAccounts(df,t_count):\n",
    "    x = df.groupby(['From']).count()\n",
    "    y = df.groupby(['To']).count()\n",
    "    z = pd.concat([x.To,y.From]).to_frame().reset_index().rename(columns={'index':'Account',0:'count'})\n",
    "    z = z.groupby('Account').sum().reset_index()\n",
    "    return z[z['count']>2]['Account'].values"
   ]
  },
  {
   "cell_type": "code",
   "execution_count": 107,
   "metadata": {},
   "outputs": [],
   "source": [
    "a = filterAccounts(df,2)"
   ]
  },
  {
   "cell_type": "code",
   "execution_count": 108,
   "metadata": {},
   "outputs": [
    {
     "data": {
      "text/plain": [
       "array(['0', '0004b15be8cb573a7be023e203e268dbcffd302b',\n",
       "       '000df160997ba9420e4622996b05447871848834', ...,\n",
       "       'ffcd9cae6d9f54fd8ae05296f839892677ff6eaa',\n",
       "       'ffe35492cbf1fdc2c4f6cd6352f5c7a44eefb7ee',\n",
       "       'ffeef280ababd07bd185b0ff831ac17b8020d365'], dtype=object)"
      ]
     },
     "execution_count": 108,
     "metadata": {},
     "output_type": "execute_result"
    }
   ],
   "source": [
    "a"
   ]
  },
  {
   "cell_type": "code",
   "execution_count": null,
   "metadata": {},
   "outputs": [],
   "source": []
  }
 ],
 "metadata": {
  "kernelspec": {
   "display_name": "Python 3",
   "language": "python",
   "name": "python3"
  },
  "language_info": {
   "codemirror_mode": {
    "name": "ipython",
    "version": 3
   },
   "file_extension": ".py",
   "mimetype": "text/x-python",
   "name": "python",
   "nbconvert_exporter": "python",
   "pygments_lexer": "ipython3",
   "version": "3.6.4"
  }
 },
 "nbformat": 4,
 "nbformat_minor": 2
}
